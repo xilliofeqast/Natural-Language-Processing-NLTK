{
 "cells": [
  {
   "cell_type": "markdown",
   "metadata": {},
   "source": [
    "# Final Assignment: A morphogical analyzer\n",
    "\n",
    "In the final assignment, you will build and evaluate an algorithm that learns to segment words into their morphemes. That is to say: the algorithm should be able to determine that _unbelievers_ breaks down into _un-_, _believ_, _-er_ and *-s*.\n",
    "\n",
    "## The Algorithm\n",
    "\n",
    "The algorithm we will use for doing so is an unsupervised learner. An unsupervised learner is a learner that is not given training data with the correct labels or segmentations but works by just analyzing the unlabeled/unsegmented data it receives. The intuition of the model we will work with is the following: if you have word pairs like _unbeliever_ and _unbelievers_, and _book_ and _books_, and _table_ and _tables_, and many more singular--plural pairs, you can (without knowing the language) make the educated guess that _-s_ is a bound morpheme (an affix) in the language.\n",
    "\n",
    "The model starts with a set of Unmodeled words, which is initialized to be the entire vocabulary (all unique words) for a language, as well as a empty Derivation dictionary, which will contain the analyses. The model then (1) finds the pair of affixes (including zero-affixes) that models the highest number of word pairs among the Unmodeled words, and (2) creates entries in a Derivation dictionary with each member of each word pair as the key and its induced stem + affix derivation as the value. In step (3), finally, the words in the word pair are removed from the Unmodeled set, and the resulting stem is added to the Unmodeled set. Let's have a look at an example to see how that all works!\n",
    "\n",
    "## An example\n",
    "\n",
    "Let's walk through an example of the algorithm. Suppose we have a set of unmodeled words:\n",
    "\n",
    "`unmodeled = { 'book', 'bookers', 'books', 'booker', 'chair', 'chairs', 'table', 'tables', 'tags' }`\n",
    "\n",
    "### Getting a list of most likely affixes\n",
    "\n",
    "We start by extracting all possible likely affixes. Let's limit them to be **maximally length 2**. Doing so we find the following suffixes (make sure you understand why they are associated with the numbers -- can you trace the words they come from?):\n",
    "\n",
    "* '' (9x), '-k' (1x), '-ok' (1x), '-s' (5x), '-rs' (2x), '-ks' (1x), '-r' (2x), '-er' (1x), '-ir' (1x), '-le' (1x), '-es' (1x), '-gs' (1x)\n",
    "\n",
    "and the following prefixes:\n",
    "\n",
    "* 'b-' (4x), 'bo-' (4x), 'c-' (2x), 'ch-' (2x), 't-' (3x), 'ta-' (3x)\n",
    "\n",
    "(note that we only count the empty string as a suffix -- we don't _also_ count it as a prefix)\n",
    "\n",
    "Since comparing all affixes to each other to see how many stems they model together would take too long when using larger vocabularies (the number of comparisons would get too large), we start by extracting a top-$k$ list of affixes, ranked on their **affix score**. We calculate the affix score by multiplying the count of that affix in the vocabulary (on how many words does it occur) by the character length of the affix plus 1. The equation below summarizes the affix score $score$ of an affix $a$:\n",
    "\n",
    "# $score(a) = freq(a) * (len(a)+1)$\n",
    "\n",
    "The length modifier is part of the affix score, as longer substrings (like _-ness_) are often less common by themselves, while still being good affixes, versus shorter substrings (like _b-_ in the example above) that may be frequent but that are not good affixes. (Why the +1, you may ask. If we don't add 1, zero-length strings will have a score of 0 no matter their frequency, which is what we want to avoid.)\n",
    "\n",
    "So, if we rank our affixes by their affix score, we get:\n",
    "\n",
    "* 'bo-' (12), '-s' (10), 'ta-' (9), '' (9), 'b-' (8), , 'ch-' (6), '-rs' (6), 't-' (6), '-r' (4), 'c-' (4), '-ok' (3),'-ks' (3), '-er' (3), '-ir' (3), '-le' (3), '-es' (3), '-gs' (3), '-k' (2)\n",
    "\n",
    "From this ranked list, we take the list of **most likely affixes**, or the top-$k$ affixes. Here, we only have 19, so there is no great need to cut the list, but if you have thousands of them, you will have to limit the next steps to the top $k$ ranked ones. Let's take the top-18 here just to illustrate the principle:\n",
    "\n",
    "* 'bo-' (12), '-s' (10), 'ta-' (9), '' (9), 'b-' (8), , 'ch-' (6), '-rs' (6), 't-' (6), '-r' (4), 'c-' (4), '-ok' (3), '-rs' (3), '-ks' (3), '-er' (3), '-ir' (3), '-le' (3), '-es' (3)\n",
    "\n",
    "### Getting the stems per affix\n",
    "\n",
    "If we want to find out how many stems overlap for an affix pair, a good first step is to gather the stems per affix. To do so, we will create a dictionary where every affix in the most likely affix list is mapped onto all the stems it models. The stems are the remaining part of the word string after we have taken the affix away. So, for the first four affixes in our list, we get:\n",
    "\n",
    "`{ ('prefix', 'bo') : { 'ok', 'oks', 'oker', 'okers' }\n",
    "   ('suffix', 's')  : { 'book', 'booker', 'chair', 'table', 'tag' }\n",
    "   ('prefix', 'ta') : { 'ble', 'bles', 'gs' }\n",
    "   ('suffix', '')   : { 'book', 'books', 'booker', 'bookers', 'chair', 'chairs', 'table', 'tables', 'tags' } \n",
    "   ...\n",
    "}`\n",
    "\n",
    "### Select the most likely affix pair\n",
    "\n",
    "Now that we have the sets of stems per affix, we can compare pairs of affixes and determine how many overlapping stems they have. From among the four above, we find the following comparisons:\n",
    "\n",
    "* 'bo-', '-s' have 0 overlapping stems\n",
    "* 'bo-', 'ta-' have 0 overlapping stems\n",
    "* 'bo-', '' have 0 overlapping stems\n",
    "* '-s', 'ta-' have 0 overlapping stems\n",
    "* '-s', '' have 4 overlapping stems: { 'book', 'booker', 'chair', 'table' }\n",
    "\n",
    "Other affix pairs with overlapping stems are:\n",
    "\n",
    "* '-s', '-er' have 1 overlapping stem: { 'book' }\n",
    "* '', '-er' have 1 overlapping stem: { 'book' }\n",
    "\n",
    "We take the **most likely affix pair** to be that pair that has __the most shared stems__. In this case, that's the pair of `('suffix', '')` and `('suffix', 's')`.\n",
    "\n",
    "### Adding the derivation\n",
    "\n",
    "We determined that the pair of `('suffix', '')` and `('suffix', 's')` is the most likely affix in the language. What we do next, is add the analysis of each of the stems that this pair models to the dictionary of derived forms. That is: we add a key that is the full word (stem combined with affix) and assign to that key the value which is a pair of the stem and the affix. So, whereas `derived` was empty before, now it contains:\n",
    "\n",
    "`{ 'book'    : ('book', ('suffix', '')),\n",
    "  'books'   : ('book', ('suffix', 's')),\n",
    "  'booker'  : ('booker', ('suffix', '')),\n",
    "  'bookers' : ('booker', ('suffix', 's')), \n",
    "  'chair'   : ('chair', ('suffix', '')),\n",
    "  'chairs'  : ('chair', ('suffix', 's')), \n",
    "  'table'   : ('table', ('suffix', '')),\n",
    "  'tables'  : ('table', ('suffix', 's')) }`\n",
    "\n",
    "This dictionary will allow us to later look up a word's analysis.\n",
    "\n",
    "### Replacing the modeled words in unmodeled\n",
    "\n",
    "Finally, we remove the modeled words from the set of Unmodeled words (after all, they are no longer unmodeled), and add the stems (which may still need to be analyzed further).\n",
    "\n",
    "Stepwise, this works as follows. For the affix pair `('suffix', '')` and `('suffix', 's')`, we find 8 words modeled by the pair (the ones added to the derivation dictionary in the previous step). Removing these words from `unmodeled` yields:\n",
    "\n",
    "`unmodeled = { 'tags' }`\n",
    "\n",
    "Next, adding the 4 stems (which happen to be identical to some of the removed words, but that's not necessarily the case) yields:\n",
    "\n",
    "`unmodeled = { 'book', 'booker', 'chair', 'table', 'tags' }`\n",
    "\n",
    "### Back to the top\n",
    "\n",
    "And once we've done this, we go back to the step where we get the most likely affix list (from the _updated_ list of Unmodeled words and again extract the most likely affix pair, add it to the derivation dictionary and update the unmodeled words. We repeat this procedure $n$ times in total, where we can set $n$ to be any value between 1 and infinity.\n",
    "\n",
    "The next most likely affix pair for our new list of unmodeled words will be `('suffix', 'er')`, `('suffix', '')`, modeling _book_. We update the derivation dictionary so that 'booker' now is mapped onto 'book' and ('suffix', 'er'). This effectively allows us to find the full derivation for a word like _bookers_: if we give it to the derivation dictionary, we find 'booker' and ('suffix', 's') associated with it. If we then look up the \"stem\" in the derivation dictionary again, we find that it maps onto 'book' and ('suffix', 'er'). So, we know that _bookers_ should be analysed as 'book' + ('suffix', 'er') + ('suffix', 's').\n",
    "\n",
    "## An overview of the Notebooks\n",
    "\n",
    "The remaining Notebook will guide you through the following exercises:\n",
    "\n",
    "* Building the model;\n",
    "* Evaluating the model and analyzing the results;\n",
    "* Applying the model to a novel language and analyzing the results.\n",
    "\n",
    "## A note on autograding\n",
    "\n",
    "Many parts of this Assignment have autograding functions that check if your code functions properly. In those cases, I always give a 'test time' tip so you can verify yourself as well whether it worked."
   ]
  },
  {
   "cell_type": "markdown",
   "metadata": {},
   "source": [
    "## Part 1: Building the model\n",
    "\n",
    "Start by importing some useful libraries:"
   ]
  },
  {
   "cell_type": "code",
   "execution_count": 1,
   "metadata": {},
   "outputs": [],
   "source": [
    "import nltk\n",
    "nltk.data.path.append('/var/jupyterhubdata/courses/LIN340H5/data/nltk_data')\n",
    "from nltk.corpus import words\n",
    "from collections import Counter, defaultdict"
   ]
  },
  {
   "cell_type": "markdown",
   "metadata": {},
   "source": [
    "### Getting the potential affixes per word (2pt)\n",
    "\n",
    "Begin by creating a function that takes a word and a parameter specifying the maximum affix length as its parameters and extracts all the potential affixes that are part of the word. That is: for a word like _bookings_ and a maximum affix length of 3, you want the function to return a list of affixes as below:\n",
    "\n",
    "`[('suffix', ''),\n",
    " ('prefix', 'b'),\n",
    " ('suffix', 's'),\n",
    " ('prefix', 'bo'),\n",
    " ('suffix', 'gs'),\n",
    " ('prefix', 'boo'),\n",
    " ('suffix', 'ngs')]`\n",
    "\n",
    "\n",
    "In this Assignment, we represent affixes as pairs of they **affix type** ('prefix' or 'suffix') as a string, and the **affix string** as a string as well. So, the **suffix** _-ngs_ in _bookings_ is represented as `('suffix', 'ngs')`.\n",
    "\n",
    "One crucial point is that we **only extract the zero-affix once**. We assume that every word always has a zero-affix, which makes it alternate with non-zero-affixes. **We assume that the zero affix is a suffix**. That is: every word always returns `('suffix', '')` as one of its affixes, but not `('prefix', '')`. (The reason is that otherwise zero-prefixes and zero-affixes would alternate with each other which would cause an infinite loop of that pair being the most likely affix pair).\n",
    "\n",
    "#### Tips!\n",
    "\n",
    "To get prefixes and suffixes, use slices of the word string. The `range()` operator is your friend as well!\n",
    "\n",
    "#### Test time!\n",
    "\n",
    "When running it on the word _bookings_ with a maximum affix length of 3, it should return the list of pairs specified above.\n",
    " \n",
    " Make sure this is the case before you continue! You have the code cell below the current one at your disposal for this."
   ]
  },
  {
   "cell_type": "code",
   "execution_count": 2,
   "metadata": {
    "deletable": false,
    "nbgrader": {
     "checksum": "3845f012716b4dab3cef37a80ff2debc",
     "grade": false,
     "grade_id": "cell-abeeefc5ddf4ded9",
     "locked": false,
     "schema_version": 1,
     "solution": true
    }
   },
   "outputs": [],
   "source": [
    "def get_affixes(word, max_affix_length):\n",
    "    affixes = [('suffix', '')]\n",
    "    \n",
    "    for i in range(1, max_affix_length + 1):\n",
    "        affixes.append(('prefix', word[:i]))\n",
    "        affixes.append(('suffix', word[-i:]))\n",
    "    \n",
    "    return affixes"
   ]
  },
  {
   "cell_type": "code",
   "execution_count": 3,
   "metadata": {},
   "outputs": [
    {
     "data": {
      "text/plain": [
       "[('suffix', ''),\n",
       " ('prefix', 'b'),\n",
       " ('suffix', 's'),\n",
       " ('prefix', 'bo'),\n",
       " ('suffix', 'gs'),\n",
       " ('prefix', 'boo'),\n",
       " ('suffix', 'ngs')]"
      ]
     },
     "execution_count": 3,
     "metadata": {},
     "output_type": "execute_result"
    }
   ],
   "source": [
    "get_affixes('bookings', 3)"
   ]
  },
  {
   "cell_type": "code",
   "execution_count": 4,
   "metadata": {
    "deletable": false,
    "editable": false,
    "nbgrader": {
     "checksum": "4df84e35500b0273ae060fe6b448be3d",
     "grade": true,
     "grade_id": "cell-51ab5bbc82236acc",
     "locked": true,
     "points": 2,
     "schema_version": 1,
     "solution": false
    }
   },
   "outputs": [],
   "source": [
    "# hidden tests happen here"
   ]
  },
  {
   "cell_type": "markdown",
   "metadata": {},
   "source": [
    "### Getting the most likely affix (3pt)\n",
    "\n",
    "Now that we can get the affixes per word, we can aggregate over all the affixes of all the words and determine which ones are most frequent. Affixes that occur in many words are more likely to be 'good' or 'quality' affixes than ones occurring only with very few words. And _longer_ affixes of a certain frequency are more likely to be real affixes than _shorter_ ones of the same frequency (since shorter strings are more likely generally).\n",
    "\n",
    "The function below takes as its input three arguments:\n",
    "\n",
    "* a list or set of unique words `words`\n",
    "* the maximum length of an affix, `max_affix_length`, to be passed on to `get_affixes()`\n",
    "* and a parameter `n_most_likely` that specifies the top $n$ of highest scoring affixes that you want to extract.\n",
    "\n",
    "And is supposed to return a list `most_likely_affixes`, containing the $n$ highest-scoring affixes.\n",
    "\n",
    "Obtaining the affix scores per affix is a two-step procedure: First, obtain the counts of all the potential affixes across all the words in `words`. Next, for every affix--count pair, multiply this score by the length of the suffix string plus one to get the affix score. \n",
    "\n",
    "\n",
    "#### Tips!\n",
    "\n",
    "Use a Counter object (as imported in the first cell) for gathering the scores per affix: by iterating over the affixes for each of the words, you can increment the count of that affix by one every time you see the affix. Counter objects furthermore have this nifty `.most_common(n)` function that might come in handy when you try to extract the $n$ highest-scoring affixes.\n",
    "\n",
    "#### Test time!\n",
    "\n",
    "We will use the unmodeled set `{ 'book', 'bookers', 'books', 'booker', 'chair', 'chairs', 'table', 'tables', 'tags' }` as the running example for the first part of this Assignment. The code given below the function prints the 18 most likely affixes of maximum length two. This should give you this list (the order may vary a little depending on how you do it):\n",
    "\n",
    "`[('prefix', 'bo'), ('suffix', 's'), ('suffix', ''), ('prefix', 'ta'), ('prefix', 'b'), ('prefix', 't'), ('prefix', 'ch'), ('suffix', 'rs'), ('prefix', 'c'), ('suffix', 'r'), ('suffix', 'ks'), ('suffix', 'le'), ('suffix', 'ir'), ('suffix', 'es'), ('suffix', 'er'), ('suffix', 'gs'), ('suffix', 'ok'), ('suffix', 'e')]\n",
    "`"
   ]
  },
  {
   "cell_type": "code",
   "execution_count": 5,
   "metadata": {
    "deletable": false,
    "nbgrader": {
     "checksum": "8416423838bd75330b37419a11450d1b",
     "grade": false,
     "grade_id": "cell-078ef7a3a1b2aadf",
     "locked": false,
     "schema_version": 1,
     "solution": true
    }
   },
   "outputs": [],
   "source": [
    "def get_most_likely_affixes(words, max_affix_length, n_most_likely):\n",
    "    all_affixes = [get_affixes(word, max_affix_length) for word in words]\n",
    "    affixes_count_list = [w for word in all_affixes for w in word]\n",
    "    affixes_count = Counter(affixes_count_list)\n",
    "    \n",
    "    for k in affixes_count.keys():\n",
    "        affixes_count[k] *= (len(k[1]) + 1)\n",
    "    \n",
    "    most_likely_affixes = [c[0] for c in affixes_count.most_common(n_most_likely)]\n",
    "    return most_likely_affixes"
   ]
  },
  {
   "cell_type": "code",
   "execution_count": 6,
   "metadata": {},
   "outputs": [
    {
     "name": "stdout",
     "output_type": "stream",
     "text": [
      "[('prefix', 'bo'), ('suffix', 's'), ('suffix', ''), ('prefix', 'ta'), ('prefix', 'b'), ('prefix', 'ch'), ('prefix', 't'), ('suffix', 'rs'), ('prefix', 'c'), ('suffix', 'r'), ('suffix', 'ir'), ('suffix', 'es'), ('suffix', 'ks'), ('suffix', 'er'), ('suffix', 'ok'), ('suffix', 'le'), ('suffix', 'gs'), ('suffix', 'k')]\n"
     ]
    }
   ],
   "source": [
    "unmodeled = { 'book', 'bookers', 'books', 'booker', 'chair', 'chairs', 'table', 'tables', 'tags' }\n",
    "mla = get_most_likely_affixes(unmodeled, 2, 18)\n",
    "print(mla)"
   ]
  },
  {
   "cell_type": "code",
   "execution_count": 7,
   "metadata": {
    "deletable": false,
    "editable": false,
    "nbgrader": {
     "checksum": "2eb4330695719cf8850e573f14a4f3f8",
     "grade": true,
     "grade_id": "cell-860d773c1e4e83e7",
     "locked": true,
     "points": 3,
     "schema_version": 1,
     "solution": false
    }
   },
   "outputs": [],
   "source": [
    "# hidden tests happen here"
   ]
  },
  {
   "cell_type": "markdown",
   "metadata": {},
   "source": [
    "### Mapping affixes to stems (3pt)\n",
    "\n",
    "In order to see how many overlapping stems two affixes share, the next, instrumental, step is to compile a dictionary of affixes mapped to the stems they model. \n",
    "\n",
    "The function `get_affix_stems_dictionary` takes a list of unmodeled words `unmodeled`, the list of most likely affixes, as well as the maximum affix length as its arguments. It returns a dictionary with affixes as keys, and **sets** of the **stems** they model as the values. That is, for the keys `('suffix', 'rs')` and the suffix `('suffix', 's')`, the respective sets are:\n",
    "\n",
    "`{'booke', 'chai'}\n",
    " {'table', 'chair', 'tag', 'booker', 'book'}`\n",
    " \n",
    "The general flow of the algorithm in this function is that you iterate over all words, and per word over all its possible affixes (with `get_affixes`). For each such affix, you check if it is in the set or list of most likely affixes (`affixes`) and if so, you extract the stem by removing the affixal part from the word. (E.g., if the word is _books_ and the suffix is _ks_, you want to extract _boo_ as the stem. Next, you add the stem to the set associated with the affix in the dictionary `affix_stems_dict`\n",
    "\n",
    "This is the place where we further want to impose the constraints that stems have to be a certain **minimum length**. Stems can be short, like _go_ and _do_, but hardly ever are they shorter than two characters. So, we will only add the stem to the set associated with the affix in the `affix_stems_dict` if the length of the stem is 2 or greater.\n",
    "\n",
    "#### Tips!\n",
    "\n",
    "Here, the use of a `defaultdict` comes in handy. If you initialize `affix_stems_dict` to be a defaultdict that initializes an empty set when a new key is encountered, you will have an easier time adding new stems to the dictionary than if you use a regular dictionary. The second line of the code below does this for you. You can choose to use it or take it out and rewrite it with whatever you like (as long as the affix--stems dictionary you return passes the tests below).\n",
    "\n",
    "#### Test time!\n",
    "\n",
    "Run the code below to see if the affix-stem dictionary in `asd` indeed contains the sets listed above."
   ]
  },
  {
   "cell_type": "code",
   "execution_count": 8,
   "metadata": {
    "deletable": false,
    "nbgrader": {
     "checksum": "8f97d3857840407acc391e6e712f58f9",
     "grade": false,
     "grade_id": "cell-397313486e22ab70",
     "locked": false,
     "schema_version": 1,
     "solution": true
    }
   },
   "outputs": [],
   "source": [
    "def get_affix_stems_dictionary(unmodeled, most_likely_affixes, max_affix_length):\n",
    "    affix_stems_dict = defaultdict(lambda : set())\n",
    "    \n",
    "    for word in unmodeled:\n",
    "        affixes_list = get_affixes(word, max_affix_length)\n",
    "                \n",
    "        for (tag, affix) in affixes_list:\n",
    "            if (tag, affix) in most_likely_affixes:\n",
    "                if tag == 'prefix':\n",
    "                    stem_word = word[len(affix):]\n",
    "                    if len(stem_word) >= 2:\n",
    "                        affix_stems_dict[(tag, affix)].add(stem_word)\n",
    "                \n",
    "                if tag == 'suffix':\n",
    "                    stem_word = word[:len(word) - len(affix)]\n",
    "                    if len(stem_word) >= 2:\n",
    "                        affix_stems_dict[(tag, affix)].add(stem_word)\n",
    "                            \n",
    "    return affix_stems_dict"
   ]
  },
  {
   "cell_type": "code",
   "execution_count": 9,
   "metadata": {},
   "outputs": [
    {
     "name": "stdout",
     "output_type": "stream",
     "text": [
      "{'chai', 'booke'}\n",
      "{'chair', 'booker', 'book', 'tag', 'table'}\n",
      "\n",
      "full dictionary defaultdict(<function get_affix_stems_dictionary.<locals>.<lambda> at 0x7ff2a600a268>, {('suffix', ''): {'chair', 'tables', 'books', 'bookers', 'booker', 'book', 'table', 'tags', 'chairs'}, ('prefix', 'c'): {'hair', 'hairs'}, ('suffix', 'r'): {'chai', 'booke'}, ('prefix', 'ch'): {'airs', 'air'}, ('suffix', 'ir'): {'cha'}, ('prefix', 't'): {'ables', 'able', 'ags'}, ('suffix', 's'): {'chair', 'booker', 'book', 'tag', 'table'}, ('prefix', 'ta'): {'ble', 'gs', 'bles'}, ('suffix', 'es'): {'tabl'}, ('prefix', 'b'): {'ookers', 'ook', 'ooker', 'ooks'}, ('prefix', 'bo'): {'oks', 'oker', 'ok', 'okers'}, ('suffix', 'ks'): {'boo'}, ('suffix', 'rs'): {'chai', 'booke'}, ('suffix', 'er'): {'book'}, ('suffix', 'k'): {'boo'}, ('suffix', 'ok'): {'bo'}, ('suffix', 'le'): {'tab'}, ('suffix', 'gs'): {'ta'}})\n"
     ]
    }
   ],
   "source": [
    "asd = get_affix_stems_dictionary(unmodeled, mla, 2)\n",
    "a1 = ('suffix', 'rs')\n",
    "a2 = ('suffix', 's')\n",
    "#\n",
    "print(asd[a1])\n",
    "print(asd[a2])\n",
    "#\n",
    "print()\n",
    "print('full dictionary', asd)"
   ]
  },
  {
   "cell_type": "code",
   "execution_count": 10,
   "metadata": {
    "deletable": false,
    "editable": false,
    "nbgrader": {
     "checksum": "33f7943aa21d906cf1d5e141efbf3fdf",
     "grade": true,
     "grade_id": "cell-20df0aba5d8fdb42",
     "locked": true,
     "points": 3,
     "schema_version": 1,
     "solution": false
    }
   },
   "outputs": [],
   "source": [
    "# hidden tests happen here"
   ]
  },
  {
   "cell_type": "markdown",
   "metadata": {},
   "source": [
    "###  Get the most likely affix pair (3pt)\n",
    "\n",
    "Now that we have a dictionary mapping affixes to the sets of stems they model in the set of unmodeled words, we can see which pairs of affixes share the most stems between them and select the most likely affix pair, i.e., the affix pair sharing the largest number of stems shared between them. To do so, you will need to iterate over every possible pair of affixes and for each pair calculate the number of stems shared between them.\n",
    "\n",
    "Finish the code below to extract the most likely affix pair. The starting point (an empty pair, a score of 0, and a return statement) is already given. Work with those materials to find the most likely pair and return it.\n",
    "\n",
    "#### Tips!\n",
    "\n",
    "You calculate the number of stems shared between two affixes by taking the overlap (also called: intersection) between the two sets of stems the two affixes are associated with. Set intersection works with the ampersand operator `&`. So, if we have two sets, `a = {1,2,3}` and `b = {2,3,4,5}`, the statement `a & b` will give you `{2,3}`. Similarly for two sets of stems!\n",
    "\n",
    "\n",
    "#### Test time!\n",
    "\n",
    "Run the code below the function to make sure your function works. It should return `(('suffix', ''), ('suffix', 's'))`."
   ]
  },
  {
   "cell_type": "code",
   "execution_count": 11,
   "metadata": {},
   "outputs": [],
   "source": [
    "a = {'book', 'cat', 'dog'}"
   ]
  },
  {
   "cell_type": "code",
   "execution_count": 12,
   "metadata": {},
   "outputs": [],
   "source": [
    "b = {'cat', 'book'}"
   ]
  },
  {
   "cell_type": "code",
   "execution_count": 13,
   "metadata": {},
   "outputs": [
    {
     "data": {
      "text/plain": [
       "2"
      ]
     },
     "execution_count": 13,
     "metadata": {},
     "output_type": "execute_result"
    }
   ],
   "source": [
    "len(a&b)"
   ]
  },
  {
   "cell_type": "code",
   "execution_count": 14,
   "metadata": {
    "deletable": false,
    "nbgrader": {
     "checksum": "3b6c09891f68e45c255887f5f9dc768d",
     "grade": false,
     "grade_id": "cell-c78f80bc65c02de5",
     "locked": false,
     "schema_version": 1,
     "solution": true
    }
   },
   "outputs": [],
   "source": [
    "def get_most_likely_affix_pair(asd, words):\n",
    "    most_likely_pair = None, None\n",
    "    most_likely_pair_score = 0\n",
    "    \n",
    "    for k1 in asd:\n",
    "        #print(\"k1: \", k1, asd[k1])\n",
    "        for k2 in asd:\n",
    "            #print(\"k2: \", k2, asd[k2])\n",
    "            if k2 != k1:\n",
    "                temp_score = len(asd[k1] & asd[k2])\n",
    "                if temp_score > most_likely_pair_score:\n",
    "                    most_likely_pair_score = temp_score\n",
    "                    most_likely_pair = (k1, k2)\n",
    "    return most_likely_pair"
   ]
  },
  {
   "cell_type": "code",
   "execution_count": 15,
   "metadata": {},
   "outputs": [
    {
     "data": {
      "text/plain": [
       "(('suffix', ''), ('suffix', 's'))"
      ]
     },
     "execution_count": 15,
     "metadata": {},
     "output_type": "execute_result"
    }
   ],
   "source": [
    "get_most_likely_affix_pair(asd, unmodeled)"
   ]
  },
  {
   "cell_type": "code",
   "execution_count": 16,
   "metadata": {
    "deletable": false,
    "editable": false,
    "nbgrader": {
     "checksum": "f2440cad9bda4260b3b4427d3dd2e8e1",
     "grade": true,
     "grade_id": "cell-f72fab6b84f00a12",
     "locked": true,
     "points": 3,
     "schema_version": 1,
     "solution": false
    }
   },
   "outputs": [],
   "source": [
    "##### hidden tests happen here"
   ]
  },
  {
   "cell_type": "markdown",
   "metadata": {},
   "source": [
    "### Combining it all (3pt)\n",
    "\n",
    "The function below, `learn_morphology` combines all the above and does the updating of the Unmodeled set and the Derived dictionary. The function first initializes a dictionary to hold derived forms and their analyses. Next, for a set number of iterations (given as an argument: `n_iterations`), the function \n",
    "\n",
    "* gets the most likely affixes\n",
    "* gets the affix--stem dictionary\n",
    "* retrieves the most likely affix pair as `a1` and `a2`\n",
    "* it retrieves the stems shared between `a1` and `a2`\n",
    "* it prints the two affixes, the number of shared stems, the length of the set of unmodeled words, and the length of the derivation dictionary\n",
    "* it iterates over all the stems to update the `unmodeled` set and the `derived` dictionary\n",
    "\n",
    "This last step is what you will have to write. How does the update work? The code iterates over all stems (as given). For each `stem` in `shared_stems`:\n",
    "\n",
    "* Re-create the words the stems were extracted from. (So, if `a1` is `('prefix', 'un')` and `a2` is `('suffix', 'ly')`, and the stem is `'earth'`, the words `w1` and `w2` should be `'unearth'` and `'earthly'`). \n",
    "* Next, remove `w1` and `w2` from the set of unmodeled words, by using the `discard` method. (If you have a set `a = {1,2,3}` and you say `a.discard(3)`, `a` will now contain only `{1,2}`.)\n",
    "* Next, create the dictionary entry for `w1` as the key and assign to it the value `(stem, a1)`.\n",
    "* Do the same for `w2` as the key and `(stem,a2)` as the value.\n",
    "* Add the stem to `unmodeled` so it can be analyzed in future iterations.\n",
    "\n",
    "Once you've done that, the algorithm is ready for the next iteration. It will extract the most likely affixes from the remaining unmodeled words, retrieve an affix-stem dictionary, etcetera.\n",
    "\n",
    "#### Test time!\n",
    "\n",
    "The code cell below the function allows you to see if the derivation dictionary you get when running it on the toy example is correct. The returned dictionary should contain:\n",
    "\n",
    "`{'table': ('table', ('suffix', '')),\n",
    " 'tables': ('table', ('suffix', 's')),\n",
    " 'booker': ('book', ('suffix', 'er')),\n",
    " 'bookers': ('booker', ('suffix', 's')),\n",
    " 'chair': ('chair', ('suffix', '')),\n",
    " 'chairs': ('chair', ('suffix', 's')),\n",
    " 'book': ('book', ('suffix', '')),\n",
    " 'books': ('book', ('suffix', 's'))}`"
   ]
  },
  {
   "cell_type": "code",
   "execution_count": 17,
   "metadata": {},
   "outputs": [],
   "source": [
    "x1 = 'test'"
   ]
  },
  {
   "cell_type": "code",
   "execution_count": 18,
   "metadata": {},
   "outputs": [],
   "source": [
    "y1 = ''"
   ]
  },
  {
   "cell_type": "code",
   "execution_count": 19,
   "metadata": {},
   "outputs": [],
   "source": [
    "x1 += y1"
   ]
  },
  {
   "cell_type": "code",
   "execution_count": 20,
   "metadata": {},
   "outputs": [
    {
     "data": {
      "text/plain": [
       "'test'"
      ]
     },
     "execution_count": 20,
     "metadata": {},
     "output_type": "execute_result"
    }
   ],
   "source": [
    "x1"
   ]
  },
  {
   "cell_type": "code",
   "execution_count": 21,
   "metadata": {},
   "outputs": [],
   "source": [
    "x1 = y1 + x1"
   ]
  },
  {
   "cell_type": "code",
   "execution_count": 22,
   "metadata": {},
   "outputs": [
    {
     "data": {
      "text/plain": [
       "'test'"
      ]
     },
     "execution_count": 22,
     "metadata": {},
     "output_type": "execute_result"
    }
   ],
   "source": [
    "x1"
   ]
  },
  {
   "cell_type": "code",
   "execution_count": 23,
   "metadata": {},
   "outputs": [],
   "source": [
    "set1 = {1, 2, 3}"
   ]
  },
  {
   "cell_type": "code",
   "execution_count": 24,
   "metadata": {
    "deletable": false,
    "nbgrader": {
     "checksum": "716b400efadc5c3adb0bfbe9662ff859",
     "grade": false,
     "grade_id": "cell-30d9ed2cc310d16a",
     "locked": false,
     "schema_version": 1,
     "solution": true
    }
   },
   "outputs": [],
   "source": [
    "def learn_morphology(unmodeled, max_affix_length, n_most_likely, n_iterations):\n",
    "    derived = {}\n",
    "    #\n",
    "    for i in range(n_iterations):\n",
    "        affixes = get_most_likely_affixes(unmodeled, max_affix_length, n_most_likely)\n",
    "        asd = get_affix_stems_dictionary(unmodeled, affixes, max_affix_length)\n",
    "        a1,a2 = get_most_likely_affix_pair(asd, unmodeled)\n",
    "        shared_stems = asd[a1] & asd[a2]\n",
    "        print('best pair:', a1,a2, '\\t stems', len(shared_stems),\n",
    "              'n unmodeled', len(unmodeled), \n",
    "              'n analyzed', len(derived))\n",
    "        for stem in shared_stems:\n",
    "            if a1[0] == 'prefix':\n",
    "                w1 = a1[1] + stem\n",
    "            if a1[0] == 'suffix':\n",
    "                w1 = stem + a1[1]\n",
    "            if a2[0] == 'prefix':\n",
    "                w2 = a2[1] + stem\n",
    "            if a2[0] == 'suffix':\n",
    "                w2 = stem + a2[1]\n",
    "            \n",
    "            unmodeled.discard(w1)\n",
    "            unmodeled.discard(w2)\n",
    "            \n",
    "            derived[w1] = (stem, a1)\n",
    "            derived[w2] = (stem, a2)\n",
    "            \n",
    "            unmodeled.add(stem)\n",
    "                \n",
    "    return derived"
   ]
  },
  {
   "cell_type": "code",
   "execution_count": 25,
   "metadata": {},
   "outputs": [
    {
     "name": "stdout",
     "output_type": "stream",
     "text": [
      "best pair: ('suffix', '') ('suffix', 's') \t stems 4 n unmodeled 9 n analyzed 0\n",
      "best pair: ('suffix', '') ('suffix', 'er') \t stems 1 n unmodeled 5 n analyzed 8\n",
      "best pair: None None \t stems 0 n unmodeled 4 n analyzed 8\n",
      "best pair: None None \t stems 0 n unmodeled 4 n analyzed 8\n",
      "best pair: None None \t stems 0 n unmodeled 4 n analyzed 8\n",
      "final derivation dict: {'booker': ('book', ('suffix', 'er')), 'bookers': ('booker', ('suffix', 's')), 'chair': ('chair', ('suffix', '')), 'chairs': ('chair', ('suffix', 's')), 'table': ('table', ('suffix', '')), 'tables': ('table', ('suffix', 's')), 'book': ('book', ('suffix', '')), 'books': ('book', ('suffix', 's'))}\n"
     ]
    }
   ],
   "source": [
    "unmodeled = { 'book', 'bookers', 'books', 'booker', 'chair', 'chairs', 'table', 'tables', 'tags' }\n",
    "derived = learn_morphology(unmodeled, 2, 100, 5)\n",
    "print('final derivation dict:', derived)"
   ]
  },
  {
   "cell_type": "code",
   "execution_count": 26,
   "metadata": {
    "deletable": false,
    "editable": false,
    "nbgrader": {
     "checksum": "5b94fd9e859bdc91be5912bf0fdd4126",
     "grade": true,
     "grade_id": "cell-14d184871660abdb",
     "locked": true,
     "points": 3,
     "schema_version": 1,
     "solution": false
    }
   },
   "outputs": [],
   "source": [
    "# hidden tests happen here"
   ]
  },
  {
   "cell_type": "markdown",
   "metadata": {},
   "source": [
    "## Part 2: Evaluating the model\n",
    "\n",
    "Next, let's evaluate the quality of the derivations. First, let's extract a derivation dictionary over the unique words in the Brown corpus, as given in the code cell below. It will take a minute or maybe two to run! Note that we're extracting affixes up to length 5, looking at the 500 most frequent affixes, and run 20 iterations."
   ]
  },
  {
   "cell_type": "code",
   "execution_count": 27,
   "metadata": {},
   "outputs": [
    {
     "name": "stdout",
     "output_type": "stream",
     "text": [
      "best pair: ('suffix', '') ('suffix', 's') \t stems 5387 n unmodeled 49815 n analyzed 0\n",
      "best pair: ('suffix', 'ed') ('suffix', 'ing') \t stems 1947 n unmodeled 44430 n analyzed 10763\n",
      "best pair: ('suffix', '') ('suffix', \"'s\") \t stems 1651 n unmodeled 41494 n analyzed 14558\n",
      "best pair: ('suffix', '') ('suffix', 'e') \t stems 994 n unmodeled 39843 n analyzed 17311\n",
      "best pair: ('suffix', '') ('suffix', 'ly') \t stems 965 n unmodeled 38854 n analyzed 18564\n",
      "best pair: ('suffix', '') ('suffix', 'er') \t stems 583 n unmodeled 37889 n analyzed 20279\n",
      "best pair: ('suffix', '') ('suffix', 'ed') \t stems 493 n unmodeled 37307 n analyzed 20772\n",
      "best pair: ('suffix', '') ('suffix', 'd') \t stems 412 n unmodeled 36814 n analyzed 21474\n",
      "best pair: ('suffix', '') ('suffix', 'y') \t stems 391 n unmodeled 36406 n analyzed 22010\n",
      "best pair: ('suffix', '') ('suffix', 'ing') \t stems 310 n unmodeled 36015 n analyzed 22484\n",
      "best pair: ('suffix', 'y') ('suffix', 'ies') \t stems 308 n unmodeled 35705 n analyzed 22875\n",
      "best pair: ('suffix', '') ('suffix', 'es') \t stems 274 n unmodeled 35397 n analyzed 23441\n",
      "best pair: ('suffix', '') ('suffix', 'ion') \t stems 271 n unmodeled 35124 n analyzed 23871\n",
      "best pair: ('suffix', '') ('suffix', 't') \t stems 242 n unmodeled 34853 n analyzed 24034\n",
      "best pair: ('suffix', '') ('suffix', 'al') \t stems 220 n unmodeled 34618 n analyzed 24221\n",
      "best pair: ('suffix', '') ('suffix', 'ness') \t stems 219 n unmodeled 34398 n analyzed 24400\n",
      "best pair: ('suffix', '') ('prefix', 's') \t stems 215 n unmodeled 34179 n analyzed 24668\n",
      "best pair: ('suffix', '') ('prefix', 'un') \t stems 203 n unmodeled 33964 n analyzed 24818\n",
      "best pair: ('suffix', '') ('suffix', 'n') \t stems 190 n unmodeled 33761 n analyzed 25111\n",
      "best pair: ('suffix', '') ('prefix', '1') \t stems 167 n unmodeled 33574 n analyzed 25260\n"
     ]
    }
   ],
   "source": [
    "from nltk.corpus import brown\n",
    "brown_words = set([w.lower() for w in brown.words()])\n",
    "unmodeled = set(brown_words)\n",
    "derived = learn_morphology(unmodeled, 5, 500, 20)"
   ]
  },
  {
   "cell_type": "markdown",
   "metadata": {},
   "source": [
    "### Print derivations (2pt)\n",
    "\n",
    "The function `parse_word` below takes a word and the derivation dictionary and prints the derivation of a word. Run it on a few words of your choice in the code cells below. Leave the words there for me to see. Try to find at least one complex (multi-morphemic) word."
   ]
  },
  {
   "cell_type": "code",
   "execution_count": 28,
   "metadata": {},
   "outputs": [],
   "source": [
    "def parse_word(word, derivation_dictionary):\n",
    "    if word not in derivation_dictionary: return [word]\n",
    "    else:\n",
    "        stem, affix = derivation_dictionary[word]\n",
    "        if stem != word:\n",
    "            return [affix] + parse_word(stem, derivation_dictionary)\n",
    "        else: return [affix, stem]"
   ]
  },
  {
   "cell_type": "code",
   "execution_count": 29,
   "metadata": {
    "deletable": false,
    "nbgrader": {
     "checksum": "338400c9d47ea0ff9a2fd624f68b6599",
     "grade": true,
     "grade_id": "cell-3eb43565acb2f272",
     "locked": false,
     "points": 1,
     "schema_version": 1,
     "solution": true
    }
   },
   "outputs": [
    {
     "data": {
      "text/plain": [
       "[('suffix', 'er'), ('suffix', ''), 'de']"
      ]
     },
     "execution_count": 29,
     "metadata": {},
     "output_type": "execute_result"
    }
   ],
   "source": [
    "parse_word('deer', derived)"
   ]
  },
  {
   "cell_type": "code",
   "execution_count": 30,
   "metadata": {
    "deletable": false,
    "nbgrader": {
     "checksum": "870206e585b970af082e20b3608fdf10",
     "grade": true,
     "grade_id": "cell-57633f0801153c47",
     "locked": false,
     "points": 1,
     "schema_version": 1,
     "solution": true
    }
   },
   "outputs": [
    {
     "data": {
      "text/plain": [
       "[('suffix', 'ing'), ('suffix', ''), 'preserv']"
      ]
     },
     "execution_count": 30,
     "metadata": {},
     "output_type": "execute_result"
    }
   ],
   "source": [
    "parse_word('preserving', derived)"
   ]
  },
  {
   "cell_type": "markdown",
   "metadata": {},
   "source": [
    "### Getting morphological families (2pt)\n",
    "\n",
    "Morphological families are defined as sets of words that share a stem. Construct a dictionary `families` that maps each unique stem to all the words in `brown_words`.\n",
    "\n",
    "#### Test time!\n",
    "\n",
    "In the code cell below the following cell, two entries are printed. They should print the following two sets:\n",
    "\n",
    "`{'books', 'booked', 'bookings', 'booker', \"book's\", 'bookers', 'booking', 'book'}` (for the stem 'book')\n",
    "\n",
    "and\n",
    "\n",
    "`{'thwarting', 'thwart', 'thwarted'}` (for the stem 'thwart')\n",
    "\n",
    "\n"
   ]
  },
  {
   "cell_type": "code",
   "execution_count": 31,
   "metadata": {
    "deletable": false,
    "nbgrader": {
     "checksum": "c9670dc5e3e03200e0554e91cd6ac5ec",
     "grade": false,
     "grade_id": "cell-b3c20680f8f7f01d",
     "locked": false,
     "schema_version": 1,
     "solution": true
    }
   },
   "outputs": [],
   "source": [
    "families = defaultdict(lambda : set())\n",
    "for word in brown_words:\n",
    "    stem = parse_word(word, derived)[-1]\n",
    "    families[stem].add(word)\n",
    "    "
   ]
  },
  {
   "cell_type": "code",
   "execution_count": 32,
   "metadata": {},
   "outputs": [
    {
     "name": "stdout",
     "output_type": "stream",
     "text": [
      "{'books', 'bookers', 'booker', 'bookings', 'book', \"book's\", 'booked', 'booking'}\n",
      "{'thwart', 'thwarting', 'thwarted'}\n"
     ]
    }
   ],
   "source": [
    "print(families['book'])\n",
    "print(families['thwart'])"
   ]
  },
  {
   "cell_type": "code",
   "execution_count": 33,
   "metadata": {
    "deletable": false,
    "editable": false,
    "nbgrader": {
     "checksum": "cd06ff521552d0540aae145ba6aedb16",
     "grade": true,
     "grade_id": "cell-b27e851018291152",
     "locked": true,
     "points": 2,
     "schema_version": 1,
     "solution": false
    }
   },
   "outputs": [],
   "source": [
    "# hidden tests happen here"
   ]
  },
  {
   "cell_type": "markdown",
   "metadata": {},
   "source": [
    "### Detect errors (6pt)\n",
    "\n",
    "Use the dictionary of stems to morphological families to detect at least two instances of each of the following two types of errors (and of course you can't take the examples given here!). Use your own judgment of morphological boundaries to determine if analyses are correct or not.\n",
    "\n",
    "* a case of undersegmentation, where no morphological boundary is given where one should be there (e.g., _expediting_ not being split into _expedit_ and _-ing_)\n",
    "* a case of oversegmentation, where a morphological boundary is given where none should be there (e.g., _shoulder_ being erroneously split into _should_ and _-er_)\n",
    "\n",
    "Next, discuss (1) how these errors (likely) have arisen and (2) how they could have been prevented."
   ]
  },
  {
   "cell_type": "code",
   "execution_count": 34,
   "metadata": {
    "deletable": false,
    "nbgrader": {
     "checksum": "2a2770c93bca789456498e23aae1e304",
     "grade": false,
     "grade_id": "cell-e6674caf23ce07cc",
     "locked": false,
     "schema_version": 1,
     "solution": true
    }
   },
   "outputs": [
    {
     "name": "stdout",
     "output_type": "stream",
     "text": [
      "0\n",
      "5\n"
     ]
    }
   ],
   "source": [
    "print(len(families['expedit']))\n",
    "print(len(families['should']))"
   ]
  },
  {
   "cell_type": "code",
   "execution_count": 35,
   "metadata": {},
   "outputs": [
    {
     "name": "stdout",
     "output_type": "stream",
     "text": [
      "expedit\n"
     ]
    }
   ],
   "source": [
    "for key in families.keys():\n",
    "    if len(families[key]) == 0:\n",
    "        print(key)"
   ]
  },
  {
   "cell_type": "markdown",
   "metadata": {},
   "source": [
    "### Undersegmentation"
   ]
  },
  {
   "cell_type": "code",
   "execution_count": 36,
   "metadata": {},
   "outputs": [
    {
     "data": {
      "text/plain": [
       "[('suffix', 'ing'), ('suffix', ''), 'writ']"
      ]
     },
     "execution_count": 36,
     "metadata": {},
     "output_type": "execute_result"
    }
   ],
   "source": [
    "parse_word('writing', derived)"
   ]
  },
  {
   "cell_type": "code",
   "execution_count": 37,
   "metadata": {},
   "outputs": [
    {
     "data": {
      "text/plain": [
       "['handwriting']"
      ]
     },
     "execution_count": 37,
     "metadata": {},
     "output_type": "execute_result"
    }
   ],
   "source": [
    "parse_word('handwriting', derived)"
   ]
  },
  {
   "cell_type": "markdown",
   "metadata": {},
   "source": [
    "### Oversegmentation"
   ]
  },
  {
   "cell_type": "code",
   "execution_count": 38,
   "metadata": {},
   "outputs": [
    {
     "data": {
      "text/plain": [
       "[('suffix', 'er'), ('suffix', ''), 'pow']"
      ]
     },
     "execution_count": 38,
     "metadata": {},
     "output_type": "execute_result"
    }
   ],
   "source": [
    "parse_word('power', derived)"
   ]
  },
  {
   "cell_type": "code",
   "execution_count": 39,
   "metadata": {},
   "outputs": [
    {
     "name": "stdout",
     "output_type": "stream",
     "text": [
      "{'powers', \"power's\", 'power', 'pow'}\n"
     ]
    }
   ],
   "source": [
    "print(families['pow'])"
   ]
  },
  {
   "cell_type": "markdown",
   "metadata": {
    "deletable": false,
    "nbgrader": {
     "checksum": "1b039ac7aeae05adfde0a8d2f3c62cb8",
     "grade": true,
     "grade_id": "cell-98e3c4c69d381bd7",
     "locked": false,
     "points": 6,
     "schema_version": 1,
     "solution": true
    }
   },
   "source": [
    "In the case of undersegmentation, `writing` can be parsed into `writ` and `ing`. But after `hand` is added at the beginning, it can no longer be parsed anymore. I think the reason for this to happen is both `hand` and `writing` have their own meaning, so the function may be confused about what to do when they are combined into one word. In order to avoid this to happen, we can change the input to a verb or a noun that can not be seprerated as two different words.\n",
    "\n",
    "In the case of oversegmentation, `power` is parsed into `pow` and `er`. After I checked `pow` in the dictionary, I think the reason for this to happen is the function is treating `pow` as the stem, and `er` as the suffix. It can not recognize `power` as an individual word. One possible way to improve this is to use the NLTK Classifier to read the same word for a few times until it can recognize the word correctly. So that the function can treat `pow` and `power` differently by their meanings."
   ]
  },
  {
   "cell_type": "markdown",
   "metadata": {},
   "source": [
    "## Part 3: Applying the model to a novel language\n",
    "\n",
    "The great thing about this algorithm is that you can apply it to a language you know nothing about and try to see if it comes up with meaningful morphemes.\n",
    "\n",
    "Each of you have a language assigned to you (see http://www.cs.toronto.edu/~barend/lin340_final_assignment.txt). The filename given there under the <filename\\> column contains a word list of your language. The URL also provide you with the Wikipedia page of that language so you can find out more about your language.\n",
    "\n",
    "If you assign the filename of your language as a string to `lg` below, the code will read in the word list and runs the `learn_morphology` function on the ite"
   ]
  },
  {
   "cell_type": "code",
   "execution_count": 40,
   "metadata": {},
   "outputs": [
    {
     "name": "stdout",
     "output_type": "stream",
     "text": [
      "best pair: ('suffix', '') ('suffix', 'a') \t stems 891 n unmodeled 12671 n analyzed 0\n",
      "best pair: ('suffix', '') ('suffix', 'ak') \t stems 629 n unmodeled 11780 n analyzed 1782\n",
      "best pair: ('suffix', '') ('suffix', 'ko') \t stems 455 n unmodeled 11151 n analyzed 2619\n",
      "best pair: ('suffix', '') ('suffix', 'rik') \t stems 353 n unmodeled 10696 n analyzed 3299\n",
      "best pair: ('suffix', '') ('suffix', 'z') \t stems 335 n unmodeled 10343 n analyzed 3787\n",
      "best pair: ('suffix', '') ('suffix', 'k') \t stems 230 n unmodeled 10008 n analyzed 4194\n",
      "best pair: ('suffix', '') ('suffix', 'en') \t stems 227 n unmodeled 9778 n analyzed 4573\n",
      "best pair: ('suffix', '') ('suffix', 'aren') \t stems 201 n unmodeled 9554 n analyzed 4812\n",
      "best pair: ('suffix', 'n') ('suffix', 'ko') \t stems 199 n unmodeled 9353 n analyzed 5011\n",
      "best pair: ('suffix', '') ('suffix', 'ra') \t stems 230 n unmodeled 9154 n analyzed 5386\n",
      "best pair: ('suffix', '') ('suffix', 'an') \t stems 199 n unmodeled 8924 n analyzed 5674\n",
      "best pair: ('suffix', '') ('suffix', 'ari') \t stems 163 n unmodeled 8725 n analyzed 5902\n",
      "best pair: ('suffix', '') ('suffix', 'n') \t stems 153 n unmodeled 8562 n analyzed 6066\n",
      "best pair: ('suffix', '') ('suffix', 'tu') \t stems 149 n unmodeled 8409 n analyzed 6264\n",
      "best pair: ('suffix', '') ('suffix', 'ren') \t stems 132 n unmodeled 8260 n analyzed 6386\n",
      "best pair: ('suffix', '') ('suffix', 'tik') \t stems 122 n unmodeled 8128 n analyzed 6551\n",
      "best pair: ('suffix', '') ('suffix', 'ek') \t stems 122 n unmodeled 8006 n analyzed 6684\n",
      "best pair: ('suffix', '') ('suffix', 'ei') \t stems 117 n unmodeled 7884 n analyzed 6818\n",
      "best pair: ('suffix', '') ('suffix', 'ez') \t stems 112 n unmodeled 7767 n analyzed 6945\n",
      "best pair: ('suffix', 'n') ('suffix', 'la') \t stems 109 n unmodeled 7655 n analyzed 7067\n"
     ]
    }
   ],
   "source": [
    "fn = 'eus.txt'\n",
    "words = [l.strip('\\n') for l in open(fn).readlines()]\n",
    "unmodeled = set(words)\n",
    "derived = learn_morphology(unmodeled, 5, 500, 20)"
   ]
  },
  {
   "cell_type": "code",
   "execution_count": 41,
   "metadata": {},
   "outputs": [
    {
     "name": "stdout",
     "output_type": "stream",
     "text": [
      "{'hemezortzi', 'xurgatu', 'handiago', 'hango', 'bainauzue', 'niregandik', 'guztiaz', 'goien', 'isil-isilik', 'bilatu', 'nahastera', 'garenontzat', 'gaituzte', 'azkenetan', 'bestearenagatik', 'epikureo', 'gordina', 'zapuztu', 'begiramenez', 'lotsatzen', 'direnik', 'palma-adarrak', 'laguntzaileoi', 'genbiltzan', 'epel', 'aukeratzen', 'trumoi', 'larrialdi', 'gaurdanik', 'erreinukoek', 'ostalariari', 'galtzea', 'nabariak', 'ditiat', 'aitari', 'didate', 'baliotsuzko', 'oholtxo', 'korrika', 'prestakizunak', 'bizitze', 'kondenatutzat', 'eskabide', 'itxurazaleek', 'odol', 'oroitzapena', 'mesedegarri', 'magalean', 'arindu', 'mahaiburuak', 'errementariak', 'sinesmenetik', 'nerau', 'baditugu', 'murgiltze', 'iraunkor', 'geldi-geldi', 'maila', 'bekie', 'besarkada', 'ematerik', 'atsedenik', 'itsukeriak', 'edonor', 'nenbilela', 'lurrekoaz', 'baitzerion', 'batengana', 'gozotasunez', 'hartzarenak', 'ur-boladak', 'abiatzera', 'ongiarekin', 'fariseuok', 'ahalegin', 'senideoi', 'badakizuelako', 'piztuerakoan', 'lukeena', 'bidegabeko', 'diezaiozun', 'zionean', 'atzeraka', 'ikusezin', 'berorien', 'berarengandik', 'nahasiago', 'hilketagatik', 'bereaz', 'zauri', 'testigatzen', 'aukeratuek', 'sorreratik', 'jango', 'biezazkizute', 'aintzira-ertzean', 'eroapenean', 'biziarengatik', 'oihal-zerrendak', 'konpondu', 'hamabosgarren', 'zaituztenoi', 'arrain-hondarrez', 'fedearengatik', 'errespetatzen', 'gurdi', 'direnetariko', 'zitzaionaz', 'sinestarazten', 'ardi-larruz', 'portaera', 'itxurari', 'tartean', 'zabiltza', 'eginbehartzat', 'ezkontza-harremanik', 'geratzen', 'gudarosteei', 'gomendatu', 'dizkiezuenok', 'profetesatzat', 'geldialdia', 'arduratsu', 'zuzendariekin', 'leialaz', 'badiozue', 'bozeramaile', 'onekin', 'ilunabarrez', 'egileagatik', 'horiengandik', 'mespretxagarritzat', 'zabarkerian', 'emaztetzat', 'denariotan', 'erdiminetan', 'barkatze', 'garamatzate', 'sesioa', 'ale', 'goizean', 'hirurehun', 'horniturik', 'egunetan', 'erdibanatzeko', 'duzuenari', 'goi-argia', 'olibondoaren', 'bainago', 'lantzen', 'batzarrean', 'emaztearekin', 'baitaukagu', 'ekaitz', 'zitzaio', 'salbamen', 'diruzain', 'bista', 'gobernatuko', 'etxeeta', 'berarengan', 'sinetsiriko', 'ezin', 'ezaguera', 'aldeetatik', 'lehendabizi', 'ezjakina', 'izarrek', 'baitzaizkio', 'estimazioa', 'usaintsu', 'jaikitzen', 'lokatzetara', 'hartzazue', 'kazkabar-aleak', 'zitzaizkio', 'beso-elbarriari', 'airea', 'berberen', 'esaguzu', 'ados', 'baletor', 'eskualde', 'liokete', 'harrapa', 'jerusalemdar', 'zertxobait', 'naza', 'basabere', 'zeresanak', 'baitzait', 'janari-gabezian', 'izurriez', 'larrutzen', 'ninderaman', 'aingeru-itxurak', 'bake-agurrarekin', 'garrantzi', 'geldi', 'nauenik', 'zin-hitzez', 'diela', 'etorrera', 'elkar', 'lapur-zulo', 'konkortua', 'erantzukizunik', 'diezaiokezu', 'hego', 'hausteagatik', 'argitara', 'neurrigabea', 'errieta', 'ai', 'honetakoei', 'pikupean', 'gorabeheragatik', 'baitzaramaztet', 'alferreko', 'daudenez', 'genuke', 'noizbaiteko', 'beira', 'salba', 'ainkoaren', 'hildakoen', 'beldurrez', 'esaiezu', 'hurrena', 'beheratzen', 'ebaki', 'erabakitze', 'zuzentze', 'nazaretarrarekin', 'otorduetan', 'dutenez', 'hauengatik', 'iltzeen', 'gauzok', 'jabe', 'odoletik', 'kutxetara', 'txukundurik', 'kimuberritzen', 'elkarte-bizitza', 'kutxatilak', 'salbamen-indar', 'erromatarrak', 'adiskidetzeko', 'dute', 'sumin-ardoz', 'tratulariarekin', 'zapal', 'ausarki', 'solidaritatea', 'itxaro', 'astirik', 'nion', 'zitzaie', 'jaioberritzen', 'honaino', 'bakarretik', 'sendogarri', 'zegoeneko', 'zintuztedan', 'norengana', 'dituzuenei', 'salbatzaile', 'fede-bidetik', 'euri', 'emakume—', 'epaile', 'berrietan', 'zur', 'beronetatik', 'uztazue', 'zuzendari', 'ezteiak', 'abokatu', 'helburu', 'obedientzia', 'zenezakete', 'izanik', 'maldizioak', 'beraiei', 'trebatua', 'indartsuaz', 'azken', 'zatzaizkiote', 'merezimendu', 'oraino', 'fidantza', 'erdainkuntza', 'elkarrenganako', 'ordubete', 'oilarrak', 'hondatze', 'ezjakinean', 'erreka', 'neu', 'gurutzeaz', 'jasankor', 'itzazu', 'giltzapean', 'geureganatzea', 'puztuta', 'arreba—', 'gelditzearren', 'goitiko', 'oneratu', 'horrelakoengandik', 'narrasti', 'guregatik', 'sasoiko', 'kontzientzi', 'esamesak', 'zatozte', 'onean', 'usadiorik', 'erortzea', 'hitzaldi', 'doktrina', 'erantzuteagatik', 'laido', 'gorenera', 'gogortuko', 'luke', 'salbamen-indarrari', 'etsaientzat', 'lortze', 'besteraino', 'lagun', 'jaramonik', 'aberatsok', 'barau-eguna', 'haiei', 'zeundetelarik', 'aitorpen-beharrik', 'sustraitik', 'seinale', 'zaitzateten', 'antzematen', 'azal', 'hondakin', 'ikusitakorik', 'aginpideaz', 'harropuzkeria', 'auzotara', 'diezaiekezue', 'dionik', 'gauzei', 'aurreiritzirik', 'hondamen-bidean', 'bietariko', 'baleude', 'iezadazue', 'zaituztenok', 'zapo', 'eskuzabaltasunez', 'harrotzerik', 'hirurak', 'ameskeriek', 'gaizkileetako', 'daramagu', 'txarre', 'aitzakia', 'leku', 'fededunoi', 'naizenez', 'hezigabea', 'zenieten', 'etxezain', 'gizatalde', 'ere—', 'elkartearentzat', 'zaionean', 'zorionekoak', 'handitzat', 'apaizburuengana', 'ziotenean', 'egiazkoagana', 'zioe', 'irakaspenetara', 'bikainagoetan', 'sasi', 'irakaslearekin', 'barka', 'kutsatutzat', 'ezkonberriari', 'sare-konponketan', 'horrengatik', 'agurtzera', 'inoiz', 'bakarrarengan', 'erasoka', 'mugitzen', 'kristau-bideaz', 'noakizuena', 'dakart', 'atereak', 'zorakeriatzat', 'saduzear', 'aurreraxeago', 'diezazue', 'kaldearren', 'zeresanik', 'zitara-jotzaileen', 'gertatutako', 'irentsi', 'geniolarik', 'zain-zain', 'zuri-zuri', 'sortalde', 'mezua—', 'ezer', 'zapaltze', 'ezteietara', 'heztea', 'neska', 'morroi', 'sasiprofetekin', 'uka', 'merezi', 'betetzeagatik', 'erroilu', 'israeldarrok', 'judu-agintariek', 'salbatze', 'zitalen', 'irizpideetan', 'zerbitzatzea', 'dioda', 'datozkit', 'egiezu', 'askatasunean', 'eskuzabal', 'samariarrok', 'gantzutzeko', 'leporainokoa', 'liturgi', 'trebetasunak', 'dakiokeenaren', 'gutiziatsu', 'hurbil', 'ur-ontzi', 'eragotzi', 'keinuka', 'jardute', 'neurekin', 'atsedenean', 'jasango', 'halakoaz', 'luketenei', 'fede-ukamenak', 'zintue', 'hizpiderik', 'nolabait', 'buztinlariaren', 'daramatzadan', 'baikaude', 'uki', 'gozamenerako', 'bihotzeko', 'semeikoa', 'ahaltsuaz', 'gaitzerako', 'segurtasuna', 'gertatzearren', 'zorrotz', 'irakaspenaz', 'lan-eremua', 'denoi', 'eraginda', 'amore-emailea', 'soro', 'hilobietan', 'mendekua', 'zin', 'hiregandik', 'lehendabizikoz', 'bazterretik', 'dituenetatik', 'gintuzke', 'urte', 'hilketa-egunerako', 'tximista', 'botatzea', 'izendapenez', 'aldaketarik', 'litzateke', 'kriseiluekin', 'iraindu', 'trukatzaileen', 'bermatzaile', 'dihardute', 'saduzearrak', 'adoragarri', 'lagunekin', 'bihar', 'badakizu', 'jauntxoak', 'daudenek', 'buruhausteak', 'usteldu', 'lasaiago', 'egotea', 'adingabekoa', 'ikertzaileak', 'ihes', 'andre', 'zaizkizuenen', 'auzi-egunerako', 'gainera—', 'korintoar', 'errebeldiari', 'alarguntsarekin', 'gehiagotan', 'odoletan', 'atezainak', 'merkatariak', 'ezkondu', 'sumatu', 'mehatxu', 'ustelkeriatik', 'gupidatu', 'direnetan', 'sentiera', 'hordikeria', 'mahasti-jabeak', 'akerretatik', 'gaiztoentzat', 'ikasbide', 'ilargia', 'janariok', 'sinesmenagatik', 'herrixka', 'aritzen', 'zeure', 'atsekabetzen', 'bazintuen', 'alegia', 'denengatik', 'arrainekin', 'gobernari', 'emailea', 'fede-aitormen', 'erdaindutzat', 'harritzen', 'garaieta', 'biziarengandik', 'anaiok', 'gogaiturik', 'agindu', 'lokailu', 'zuritze', 'lurraren', 'ernetzen', 'zigu', 'goibel', 'baninduzue', 'neurritasunarekin', 'kaskarreko', 'hazte', 'oinazpikoaren', 'zaizue', 'janari-banaketaz', 'lekuko—', 'iturburuetara', 'konponbide', 'seme-alabekin', 'besarkadaka', 'zeuregandik', 'nazio', 'lurrarengatik', 'dagitenak', 'biziera', 'bazaitut', 'baitatza', 'jokaera', 'baitzuketen', 'zerbaitetarako', 'txaluparantz', 'baitakizue', 'baino', 'eragiten', 'ezaugarriaz', 'zuena—', 'parte', 'baitzitzaien', 'sesiotan', 'zaitzaketenari', 'guztieki', 'aurrekoei', 'bota', 'jentilentzat', 'kutsugabea', 'istilu', 'keinu', 'senideengandik', 'profanatzen', 'barau', 'bereganatze', 'altxatzen', 'adiskideengana', 'bioi', 'balego', 'sakabanatzen', 'gogoratzen', 'gaixotasun', 'milarekin', 'errolda', 'gerrara', 'erbestealdiaren', 'sinesmen', 'zetorkio', 'bizkortasuna', 'uler', 'baitzituen—', 'dagozkien', 'mi', 'erorarazi', 'iezaguzu', 'zezakeenik', 'etxekoengandik', 'deika', 'burrunba', 'garretan', 'bagina', 'sineste', 'jakinik', 'odoljarioa', 'a', 'bereiz', 'eredu', 'soingaineko', 'ziur', 'gerrian', 'antolatua', 'ereiten', 'kentzaile', 'orpoak', 'lehengusina', 'gainerakook', 'libra', 'gertakari', 'ikaskideei', 'piztuta', 'txutxu-mutxuka', 'jantziozue', 'judu', 'probatzera', 'zeudenetako', 'kolpatu', 'kretar', 'gaitzestea', 'aukera', 'multzoan', 'gu', 'dezake', 'eskuinera', 'jantziagoa', 'iragan', 'nor', 'astindu', 'erakuste', 'barru-barruraino', 'erretzeraino', 'egiatzat', 'isiltzeko', 'burubide', 'gorrituriko', 'idazte', 'madarikaziopean', 'kementsuago', 'hitzeko', 'logaleak', 'hondamendirantz', 'hustu', 'gehiegikerietan', 'motzekoa', 'anaien', 'inguratzen', 'maitekiro', 'banintzaizue', 'zenean', 'zaudetenok', 'baliotsutzat', 'duintasunez', 'norbaitzuk', 'beza—', 'mespretxagarri', 'odolik', 'errege-aulkian', 'erregutze', 'harri', 'dakizue', 'arratsean', 'afalondoan', 'oraingo', 'ugaritasunak', 'baitzegoen', 'estoikok', 'kristau', 'gezur', 'zabalkuntza', 'gaindiko', 'zeniokete', 'aspaldi', 'gozatze', 'gutxitarako', 'irizpide', 'tentazio', 'malko', 'segurtatu', 'hodei', 'egoterik', 'besteri', 'adulterio-irrikaz', 'gutuneta', 'laguneko', 'ongarritarako', 'baitago', 'ateetara', 'daudenekin', 'hutsezkoa', 'gogorrera', 'baztertzetik', 'uste', 'haitzarteetan', 'ohituak', 'onar', 'laguntzaile', 'erakundea', 'ote', 'lor', 'seinaleengatik', 'esnatzeko', 'noiz', 'atzo', 'eskolagabe', 'saminetik', 'sermoi', 'hirurok', 'dizudalako', 'tronu', 'hasiera-hasieratik', 'tokiraino', 'nagi', 'iruzurti', 'usakume', 'zekie', 'deituek', 'ezteietatik', 'neskatxei', 'borlatxo', 'zangoak', 'gaiztoarengandik', 'goi-agerpen', 'zelaigune', 'abia', 'berorrekin', 'letra', 'pitxer', 'dizuetenei', 'landare', 'betebeharretan', 'buru-bihotzak', 'harro', 'azaleko', 'gorrei', 'generama', 'arrazoiketa', 'baizik—', 'bakarraren', 'adina', 'begibakar', 'behartsuok', 'erreinuagatik', 'izandakoek', 'urrutixeago', 'karga', 'ireki', 'judu-herriari', 'edonorentzat', 'lekukotasun', 'baztertzekorik', 'kultu-zerbitzu', 'arren', 'iezadazu', 'profetiko', 'naiz', 'senidearekin', 'mindurik', 'nituenean', 'dioenean', 'zuzengabekeriari', 'osatzen', 'duzuela', 'gorpua', 'lilura', 'ikuskizun', 'lurtarren', 'duzunean', 'osoarentzat', 'buruarekin', 'zehatz-mehatz', 'luzamendutan', 'bidegabekeria', 'intsentsu-aldarearen', 'etxe', 'bazterreraino', 'hadi', 'erromatarrek', 'odolean', 'azalpena', 'tristura', 'ordukoz', 'irabazpide', 'minenak', 'oroitaraziko', 'erlijiozale', 'oroigarri', 'maileguz', 'zatitzean', 'milioi', 'aintza', 'bekatupean', 'makurra', 'dar-dar', 'erakustea', 'tratatzen', 'ezaz', 'dudanean', 'zorionagatik', 'itsas', 'xalo', 'dizkizuedan', 'zahagi', 'sumintzen', 'egote', 'artegitik', 'azokan', 'oihal-zerrendekin', 'adiskidetzearen', 'dutela', 'baitzioen', 'orain', 'berrogeita', 'eskumendean', 'didaalako', 'aitor', 'grinen', 'ereitera', 'kidetasun', 'ondo', 'dugunoi', 'du', 'hotz', 'lagunaz', 'islatzen', 'nagusienean', 'mezuaz', 'zarata', 'jatorri-zerrendak', 'zaituztete', 'aingeruekin', 'santutasunean', 'prestaketak', 'lizunkeriara', 'ostatu', 'pozerako', 'amatasunaren', 'hamaikagarrena', 'zara', 'baikaitezke', 'ile-adatsez', 'eman', 'nabarmenago', 'goaz', 'betetze', 'argaltzat', 'axola', 'maltzurkeria', 'zerbitzariok', 'topazioz', 'eraberri', 'bihotzean', 'idi', 'onuragarria', 'bisitatu', 'mintzo', 'dudanik', 'baitzuten', 'iezaiozue', 'kanpalekutik', 'usadioengatik', 'irakur', 'idaztea', 'bakeaz', 'dezakedana', 'kantatu', 'zituztenengana', 'haize-erauntsi', 'hizkera', 'gaizkileok', 'hondamen-egunerako', 'akats', 'guri', 'adineko', 'sorturikoa', 'burugogorrak', 'ibilarazi', 'gozo', 'kargu', 'biezazkizuete', 'jakite', 'lautadako', 'gorrotatze', 'ezpatatzat', 'hilobirantz', 'baitzitzaizkion', 'baitzigun', 'matxinada', 'banoa', 'berun-soka', 'noragabe', 'grinetatik', 'arlokoa', 'zire', 'deabrudun', 'landa', 'jaiste', 'zaio', 'sinestedunarekin', 'uda', 'ezazue', 'erakartzen', 'hauts', 'emazteok', 'dizkidalako', 'lurrekoetan', 'zeru-lurrei', 'jakin', 'ordutan', 'barru', 'hainbat', 'zentzarazi', 'isilaraztea', 'hau', 'liburuetan', 'goibeldu', 'berriok', 'emakume', 'zeinentzat', 'nauzu', 'agur', 'bazkaltiarrak', 'izendatzen', 'kartzelatuen', 'desobedientzia', 'hezigabeari', 'salatze', 'dizkiena', 'herrikoen', 'heldu', 'idatz', 'konfiantza', 'eginiko', 'dizkiogu', 'ekiten', 'da—', 'auzipean', 'balizue', 'aspergarri', 'gauzei—', 'sabelkeria', 'gainean', 'zabalean', 'ahaltsuagan', 'dakarkizuet', 'ospatzera', 'indartze', 'tirabiran', 'protesta', 'zerikusirik', 'zerukoek', 'erreginaren', 'itzultze', 'zintzotasuna', 'arintze', 'estalkitzat', 'israeldar', 'aztikeriatan', 'buruarengatik', 'argiago', 'zapaldu', 'garaitan', 'azalduriko', 'tronuetan', 'lanaz', 'nori', 'hurbiltzean', 'gerrikotzat', 'sabeleko', 'ziharduten', 'edonori', 'mendebalak', 'gorritan', 'aberearena', 'bazterrak', 'atxikia', 'mugitzean', 'taldeka', 'judu-elkartetik', 'itzal', 'indargabetzeko', 'etzanda', 'salbazioa', 'maltzurkeriei', 'ederrez', 'beude', 'zeintzuk', 'apaiz-', 'zaharrengana', 'argitakoak', 'esna', 'elkarte-otorduak', 'gezurrari', 'laurak', 'onartze', 'ongiaz', 'olibondoak', 'agertzea', 'sinesgogorrentzat', 'zeini', 'atenastar', 'oinaze-toki', 'erasotzen', 'bainintzen', 'finez', 'giltza', 'gutiziarako', 'bailuke', 'zuenarengan', 'bazekiten', 'hondarrez', 'arrainena', 'beldur-ikaraz', 'horrelakoetatik', 'jainkozale', 'janik', 'bider', 'biratu', 'dauzkatenak', 'ardura', 'profeta', 'apostolu-itxura', 'batzuekin', 'zaretenean', 'oroit', 'jaitsarazteraino', 'zigilua', 'basaolibondo', 'erasorako', 'baititu', 'herio', 'aizkora', 'ahaztuta', 'pertsegi', 'itsasten', 'latinez', 'zeru', 'berregitean', 'ustelezinaz', 'ziztadarena', 'hobenaren', 'baikenuen', 'senarraren', 'egur', 'dizute', 'lansaria', 'kentzea', 'jan-edaten', 'ohartzen', 'pozgarri', 'alai', 'burugogorkeria', 'ereitean', 'janaritzen', 'sakrifizio', 'urkatu', 'horixe', 'galburua', 'bizkortzea', 'erraustu', 'badoa', 'zinetenoi', 'eginik', 'ateetan', 'itsaso', 'bazkalondoko', 'zereginetan', 'banandu', 'profeten', 'baitagokio', 'erabil', 'gastuen', 'hondoratzen', 'bildutako', 'hilda', 'hoberenen', 'kiratsa', 'mendeetan', 'sakratuetan', 'geuri', 'neskatilaren', 'haieta', 'legamia', 'epea', 'bitan', 'baiesten', 'behartsu', 'betetzeraino', 'natorrela', 'zerien', 'belaunikatu', 'gainaldean', 'banaka', 'beronengan', 'zaretenon', 'egongo', 'erbestealditik', 'adiskidetasuna', 'bazara', 'saltze', 'nagusigo', 'dohainik', 'ezaugarri', 'desohoratu', 'bihotz-barrua', 'ibil', 'ahotsaz', 'iraupen', 'haserrekor', 'korrituekin', 'zituenagana', 'kolpez', 'ibilbidean', 'gonbidatzen', 'zare', 'etxetan', 'jendartean', 'birrindu', 'profetei', 'guretako', 'laguntze', 'senez', 'apaizburu', 'izanagatik', 'bataio', 'leize-zulora', 'sinagogetara', 'erromatarroi', 'onginahiaz', 'aipagarri', 'itxi-ireki', 'berbera', 'bazaizkio', 'artalde', 'lehiatzen', 'zigorraren', 'topatu', 'sumatzen', 'morrontzapean', 'pila', 'hebreeraz', 'senideengana', 'zigorraldi', 'baduzuela', 'gorena', 'lagundu', 'kiskalgarria', 'mozkorrekin', 'suntsitzaileak', 'dakite', 'tintinlari', 'belar', 'atxilotzea', 'esaiozu', 'doluminak', 'egunera', 'natzaio', 'zigorretara', 'zeritzana—', 'honengandik', 'diat', 'egintzen', 'sugarrez', 'kutsatzea', 'hazarazte', 'hasiera', 'dagokionez', 'lege', 'horrelakoei', 'liteke', 'moldatzen', 'bainituen', 'ohoratzen', 'hauetaz', 'itsasbazterretara', 'zutitu', 'guardiaburu', 'askotakoak', 'jaspezkoa', 'mehatxatzen', 'arrisku', 'zute', 'igaro', 'denekin', 'eragozpenik', 'zaituzte', 'lizunekin', 'sari', 'gupidatsu', 'gudalburuagana', 'aleturik', 'bular', 'lo', 'bakezalerik', 'edanarazteko', 'errespetuzkoa', 'legendun', 'bakoitzean', 'latza', 'lehengusu', 'erabili', 'damu-negarra', 'haragikeriatik', 'sokak', 'honetantxe', 'horregatik', 'hezte', 'de', 'nabaritzean', 'sagaratu', 'baitzizkion', 'zaida', 'bazaituzte', 'seme-alabek', 'norbait', 'erro', 'iltze-kanela', 'naizenaren', 'limosnatzat', 'emakumeagandik', 'gizagaixo', 'ile-adatsa', 'edozein', 'miresgarri', 'lepo', 'genizuen', 'atzerritarrekin', 'dizkiezun', 'eskatutako', 'jendearengana', 'desohoratzen', 'kasu', 'etzana', 'osaturiko', 'dirutegi', 'lotze', 'zerutiko', 'izarre', 'zertan', 'tunika', 'pergaminoa', 'hazi', 'garbikuntza-ohikuneez', 'asmatzen', 'erraz', 'elkartasun-seinaletzat', 'bezalakoxe', 'brontze', 'dira', 'berezia', 'esazue', 'bare', 'zizkigun', 'beharbada', 'mozkorrek', 'banau', 'lotsarazteko', 'ordurako', 'beharrezkoenak', 'kristau-ikuspegitik', 'zotz', 'osatu', 'madarikatzen', 'aberasbide', 'konbertitzen', 'proposamena', 'jokabideaz', 'zie', 'zitzaionean', 'salbaturiko', 'kaltzedonioz', 'eraberritzen', 'lotsa-lotsa', 'bekatariago', 'erregetzarekin', 'nardozko', 'zaizkizuelako', 'zetozkio', 'nazatela', 'larri', 'berritsukerietara', 'kasuaz', 'barrunbe', 'hortaz', 'hura—', 'irabaz', 'miatzen', 'gainditze', 'harta', 'lasai-lasai', 'arrebari', 'kantu', 'baitzineten', 'atxikirik', 'beraiengandik', 'honetaz', 'zegozkion', 'isla', 'eutsi', 'zorakeria', 'hitz', 'igitarien', 'zenbat', 'biziarazten', 'sustraiari', 'kritikatzeko', 'erostariak', 'txistua', 'gertatzera', 'dirudiena', 'dituzuela', 'harri-erauntsi', 'esadazu', 'bekit', 'dakienik', 'nireki', 'kantatzen', 'grinetan', 'desohorea', 'argikoa', 'antzina', 'ezti', 'zaizkiela', 'baliozko', 'edukitzera', 'zedin', 'zorrotzagoa', 'joste', 'egitekoaren', 'zihoakion', 'pixka', 'itsasadar', 'giltzarri', 'hautatu', 'tratatu', 'zigorrari', 'duenean', 'uzta-biltzean', 'zirenok', 'koloka', 'zerbitzu-lanerako', 'etxeratu', 'natzaizu', 'dionean', 'begira-begira', 'dida', 'ur', 'eskolan', 'zerga', 'nazazuela', 'dakizuekeenaren', 'aske', 'esango', 'gazte-gaztetandik', 'iragarri', 'emakumearekin', 'bidaltzea', 'zaitugu', 'mahai-zerbitzariei', 'kontseilua', 'otzan', 'dagokienez', 'gaitzatela', 'galdeketa', 'sentipen', 'diezaie', 'odoleraino', 'adierazgarri', 'otarre', 'parabola', 'arbasoekin', 'dohakabea', 'biltzarrarekin', 'aztia', 'ikusteagatik', 'ziren—', 'txarrei', 'badator', 'bazenute', 'liburuok', 'beila', 'kondenatze', 'jentiloi', 'ohiturari', 'zizta', 'gorputz-atal', 'hartantxe', 'esanarengatik', 'afarikoan', 'udazkenean', 'isatsak', 'jatorrari', 'lohiaz', 'dakizu', 'izugarria', 'harengatik', 'baitzaitu', 'bihotz-apala', 'nahigabe', 'lurraldeetan', 'bihitegirik', 'garbikuntza-egunak', 'azpiko', 'jentil', 'zenbaterainokoak', 'eginbeharrak', 'emakumezkoaren', 'estali', 'fariseu', 'lege-maisu', 'mandatariok', 'txerrietan', 'harroputz', 'baitzioten', 'sendotasunak', 'zizkienean', 'harexek', 'paradisuan', 'bekatuetatik', 'lebitar', 'halaxe', 'genizuenean', 'gaizki-esale', 'janari-banaketan', 'erantzunaz', 'herritarrentzat', 'pertsonen', 'doala', 'mintzatze', 'batean—', 'berenganatzen', 'mintzen', 'duelakoan', 'zeuzkaten', 'ipintze', 'zeudeneko', 'jaiotako', 'osasungarria', 'duenari', 'dizkiote', 'zizkionean', 'jantz', 'laurogei', 'eraman', 'estropezu', 'galarazten', 'emateagatik', 'puska', 'bete-beteko', 'eratako', 'luze', 'zalantza', 'irteterakoan', 'gero', 'iruditxoak', 'sinesle', 'harro-harro', 'zikinkerietan', 'larunbatean', 'odoleko', 'dutenean', 'bizidunetako', 'txuri', 'santuarentzat', 'hilobietatik', 'eztena', 'jentilengandik', 'artegian', 'dakartzana', 'ihar', 'ozpinez', 'haserretzen', 'ontziarentzat', 'zitzaizkionean', 'laguntza', 'dei', 'hilgarriren', 'urre', 'gogorkeriaz', 'gizonaz', 'bekaizkeria', 'usadioak', 'baitaude', 'zeuretzat', 'gabe', 'zaioneko', 'eritasun', 'aitzurtu', 'zeukaten', 'juduongandik', 'argiaz', 'kontu', 'balie', 'aurpegiko', 'nekazari', 'gainera', 'ohartarazi', 'eseri', 'dizkidan', 'muinoei', 'sinatzen', 'amildu', 'zuri', 'genituzkeen', 'gezurrik—', 'putzu', 'ezar', 'tresneria', 'bekatariekin', 'bizkor', 'tinko', 'atzean', 'daiteke', 'erregu', 'ohoragarritzat', 'negar', 'egizu', 'zilar', 'gainetik', 'ditut', 'altxatzera', 'begieta', 'emaniko', 'baitarako', 'suntsitze', 'tentatze', 'hilobi', 'birsortu', 'atseginkeriatan', 'bazkatuko', 'goragokoa', 'aldarrikatu', 'urtaro', 'zituenengatik', 'kondenatzea', 'kaltegarritasuna', 'bitartez', 'gertu', 'diruaz', 'kaltegarri', 'isildu', 'didazula', 'sugeek', 'irudietara', 'zauriengatik', 'ezinduak', 'duzuenez', 'oinetakotzat', 'ditugula', 'nadi', 'senarrek', 'lehenik', 'baliotsuaz', 'ausartegi', 'emaguzu', 'begi', 'erraina', 'puskatzeko', 'sinesgabeentzat', 'gizarte', 'ugal', 'herrientzat', 'auzoetara', 'zaizkio', 'hartzazu', 'daudenetako', 'deuseztatu', 'dagokizuna', 'sumin-ardoa', 'pazientzi', 'bakoitzarentzat', 'zioten—', 'okerre', 'egiptoarra', 'eragingo', 'beldurgarria', 'deabruenean', 'erabaki', 'baituzue', 'osatzea', 'egunetik', 'guregandik', 'eskarmentua', 'indar', 'igitatze', 'mordoxka', 'bakarti', 'haize-bolada', 'gizona—', 'direla-eta', 'arbaso', 'maistra', 'herriarentzat', 'mirarigile', 'hildakoei', 'lur-mugetatik', 'nagusiok', 'badit', 'ohe', 'paregabea', 'herrestan', 'ahaltsuekin', 'putreak', 'urri', 'zituenekin', 'onetarako', 'zuenik', 'idolatriari', 'baitziren', 'irauli', 'hilezkor', 'dardarka', 'arrain-pila', 'elkarlotzen', 'plater', 'birao', 'etorkizunerako', 'gaitzesgarritan', 'jai-otorduetan', 'dizuenean', 'joatea', 'terrazara', 'testamentugilea', 'garaipen-koroa', 'fedegabearen', 'eraztunez', 'sabelean', 'seme-alaba', 'biotarik', 'elkarte', 'dihardu', 'zuzenbide', 'egiatia', 'belaki', 'ereiterakoan', 'zaituztetenean', 'zerutar', 'eguzki', 'ezkerrean', 'xehetasunez', 'hitzarengatik', 'ezkontza', 'litzaioke', 'dauzka', 'barrueneko', 'erdiminak', 'greziarrei', 'dizkizue', 'itxuren', 'diegu', 'ordezkari', 'dituztenei', 'landutako', 'gaitzetatik', 'gaztetan', 'hogei', 'garrasi', 'ziotsan', 'begiztatu', 'erlijiozaletzat', 'espirituz—', 'ea', 'arrano', 'mamuren', 'probatu', 'gertatuaz', 'ibai', 'jardungo', 'grinari', 'nago', 'antsiaz', 'deus', 'gari-soro', 'didazu', 'haitzean', 'genizkien', 'itsasoetan', 'adieraz', 'egileagan', 'onetik', 'mediar', 'baitit', 'sarraskitzeko', 'haiengandik', 'bazaudete', 'laurehun', 'bainau', 'bestalde', 'kezkatan', 'adore-emailea', 'fidatzekoak', 'zeinengandik', 'guztion', 'damutzen', 'konbentzitua', 'kimatu', 'gutxi', 'nintzaion', 'profanatzaile', 'bai—', 'deabrudunena', 'herriarengatik', 'maitasunaz', 'bizitzerik', 'eroapen', 'iharrari', 'azaletik', 'inguru', 'zinarengatik', 'irekitze', 'erosi', 'beretarrak', 'lanean', 'errotan', 'zatzaizkigu', 'direnekin', 'airera', 'sinagogetan', 'menderatu', 'lokarturik', 'gerta', 'baititut', 'biziotsurako', 'behe-mailan', 'arraza', 'hobe', 'jairako', 'dizuetenetik', 'bestekoa', 'hamarri', 'gezurti', 'agintzea', 'emakumeetatik', 'ozpina', 'bereiztea', 'dizuetenek', 'aitormen', 'ahuleriaz', 'intziriak', 'baliagarria', 'heren', 'jentilok', 'baitiot', 'bizi-egoeran', 'gorpura', 'akatsik', 'aldeetako', 'aitzinean', 'itzaltzen', 'sukarrak', 'irautea', 'dakida', 'ahazten', 'aldendu', 'abere-aska', 'jakizue', 'epairako', 'egon', 'galbide', 'aditzera', 'kalera', 'diozu', 'judaismoan', 'bereki', 'gatzaizkio', 'haurrari', 'goraxeago', 'ezberdinean', 'liluragarria', 'luzaroxeago', 'guztienean', 'boto', 'baitzituen', 'guardiek', 'egokitzen', 'ipuinetara', 'galtzerik', 'aurrerapenerako', 'dakizuela', 'oihanik', 'haragi-losatan', 'hondartzan', 'dezagu', 'kartzelatzen', 'oso', 'adoratze', 'ernamuindu', 'mahastiko', 'apainekoak', 'baitzen', 'mende', 'jaiegun', 'nue', 'altxor', 'gehien', 'batentzat', 'eskuinean', 'igarri', 'zuhurrago', 'zikinik', 'asetzeraino', 'galderei', 'uztazu', 'zakur', 'gogo', 'bizitzea', 'hilean', 'samaldan', 'hamar', 'ia-ia', 'beroriekin', 'aurpegia', 'gabiltza', 'galtzekotan', 'zintzo', 'doi-doi', 'naukazue', 'hizlari', 'baitzuen', 'sarrarazi', 'alfer', 'bikainago', 'asma', 'ziratekeen', 'aska', 'meharra', 'altzora', 'ilundu', 'salbagarri', 'bidaltzailea', 'neurritasuna', 'ditzazu', 'buruzagi', 'berengan', 'balizu', 'zitza', 'itun', 'ezjakintasunean', 'larrutxa', 'jakinda', 'uko', 'amorraturik', 'oheratua', 'jarioko', 'bizitzearren', 'zentzarazpen', 'da', 'baina', 'administratzailetzat', 'gorrotagarri', 'girgiluak', 'zenizkidaten', 'samariar', 'ok', 'zentozela', 'beronetaz', 'gizaldietan', 'goizaldera', 'finkatu', 'berotzen', 'gaitzetik', 'dago', 'gaineko', 'lotan', 'urmindun', 'oneko', 'kaleetan', 'pozten', 'errugabe', 'arretatsuago', 'mozkortzen', 'kontsulorde', 'nondik', 'bularreko', 'dakit', 'judu-herriak', 'bizitza', 'duzuenontzat', 'zabiltzatenok', 'agirian', 'sinestedunentzat', 'banu', 'xukatu', 'bihotzez—', 'aldare-gizonik', 'sakrilego', 'baitzeukaten', 'estimu', 'lizueke', 'esanera', 'jendearekin', 'lehortzen', 'ipuin', 'buztinezko', 'inguruetan', 'biltzar', 'eztei-jantzirik', 'askapena', 'belarri', 'jokatzen', 'bizitzari', 'beronekin', 'premietan', 'etorritako', 'apostolu-zerbitzu', 'erru', 'entzun', 'sardea', 'zeuka', 'azterketan', 'sabeletik', 'okerrez', 'alboratua', 'purpura', 'sendaketak', 'bidegurutzeetara', 'bihur', 'zikin', 'diozuenez', 'naizela—', 'zegokien', 'diziplina', 'banauzu', 'gosete', 'datozkidan', 'erdaingabe', 'kontaezin', 'emateraino', 'halakoaren', 'dudala-eta', 'zizkielako', 'okerbideratuez', 'ugaritasunean', 'diezaguke', 'nazakezu', 'askatasunera', 'ekin', 'duela', 'gizon-emakumeentzat', 'zutenaz', 'negozioak', 'kristau-mailan', 'gizaldi', 'senideentzat', 'gorputz-odolak', 'ugari', 'bazenu', 'harriekin', 'zintuzket', 'bostetakoak', 'eroapenarekin', 'ordainetik', 'esanahia', 'guardiei', 'sinesmen-espiritu', 'ulertaraziko', 'historia', 'eder', 'lasto-izpia', 'atsekabetan', 'bihotz-zabaltasunez', 'gorputz-arimaz', 'sabelera', 'senitartekoak', 'joate', 'zintzoentzat', 'atzerrian', 'zuzenagatik', 'zuzen-zuzenean', 'erantzun', 'muturrean', 'orroaz', 'erantzule', 'horrekin', 'txerri', 'besoetan', 'duzunaz', 'aurkituriko', 'bizi-usaina', 'zaituztenez', 'egoniko', 'duenarengan', 'baimenik', 'asteme', 'ontzietan', 'aintzatsu', 'dizuela', 'begiratu', 'egunsentia', 'zegoelakoan', 'zeharkatu', 'gordetze', 'denarengatik', 'baietsi', 'umetan', 'zenuke', 'deabrukume', 'hilgarriz', 'urteon', 'dauzkanak', 'jarraitzaile', 'goraki', 'zuenekoxe', 'jakintsutzat', 'ezjakinez', 'izerdian', 'segurtatzen', 'seme-alabengatik', 'senide', 'neuretzat', 'eskainitako', 'mendebaldera', 'babesean', 'zirenean', 'ideia', 'dezakezuenez', 'harresitik', 'ausartzen', 'galdu', 'dezaket', 'egunotan', 'egiterakoan', 'abegi', 'kazkabarra', 'saduzearrek', 'ontzixka', 'agurka', 'estu', 'zinelarik', 'aita', 'mezularia', 'exortzista', 'senarrari', 'nonahi', 'hutsegite', 'itzuli', 'ipin', 'deituraz', 'banaiz', 'tankera', 'neurri', 'aztertu', 'ahoetatik', 'ba', 'gureganako', 'zaituenari', 'leporatzen', 'zaituzteda', 'dituzue', 'beriloz', 'zaretenok', 'diadema', 'dutenaz', 'edono', 'daukadan', 'honengan', 'jarrai', 'oker', 'irakats', 'guzti', 'ardozale', 'nizue', 'pazientziaz', 'beteaz', 'biltzarrean', 'din', 'herren', 'zelaian', 'aingeruagana', 'zurda-oihala', 'errespetatzeaz', 'baitizu', 'bihurtze', 'hurrengo', 'eramango', 'sailetara', 'baliotsuagotzat', 'epileptiko', 'baikenion', 'dizkionik', 'berreraiki', 'aldioro', 'errukiagatik', 'modu', 'zitzaigun', 'gamelua', 'deritzana-', 'horiekin', 'porrokatua', 'zoaz', 'eskuaz', 'jaitsiriko', 'txerri-talde', 'ateratzea', 'beleei', 'zekiat', 'idaztiak', 'deza', 'esandako', 'kemenik', 'agintealdiko', 'dezada', 'oihuka', 'ziotsoten', 'zerbitzari-itxurak', 'gauzez', 'txikiagotu', 'aproposa', 'ikuskarietan', 'ordaindu', 'azpil', 'sufrearengatik', 'sendatze', 'zuetaz', 'sasimaisuak', 'eskolatua', 'arkitekto', 'berreskuratu', 'lotsatan', 'seina', 'elkartasun', 'dirudi', 'hilobiratze-egunerako', 'horrexek', 'pattarrik', 'salbamen-bidea', 'hazia—', 'xalotasun', 'haserre-zigorra', 'gertaturiko', 'ateratzerik', 'nahasten', 'harritxo', 'artilea', 'branka', 'zerbitzugintza', 'dagokie', 'bihozgabe', 'dizuet', 'zitzaizun', 'baliogabe', 'beharrizanera', 'hirurogeita', 'apostolutzat', 'haragikeriara', 'zordun', 'handiarekin', 'handi-ederrean', 'hiruretan', 'bikainena', 'batzuek', 'hegoaldera', 'nintzateke', 'zuzenentzat', 'ezezkorik', 'desohoratzeraino', 'iruzurgileek', 'sekula', 'ausart', 'jaiotzaz', 'zenbatu', 'barau-egunez', 'oin', 'ipinitako', 'lumaz', 'segurantza', 'harremanetan', 'baitaki', 'sustraietaraino', 'dagokizuenez', 'zuenganako', 'igotze', 'leialtzat', 'izaeragatik', 'jainkozaletasunean', 'tentaldi-garaian', 'nekeetatik', 'berarenganaino', 'inorentzat', 'gai', 'mirabea', 'edari', 'onarekiko', 'eskaintze', 'genizukeen', 'urratu', 'ogi-', 'baitzieten', 'grina', 'basapiztiak', 'gaizki-esaka', 'baitizuet', 'poz-pozik', 'sargoriak', 'denboraraino', 'kaskarrenen', 'elkarlanean', 'goresgarri', 'ager', 'astun', 'agintze', 'legezale', 'ezarrita', 'hil', 'ilargirik', 'penagarria', 'zerio', 'idatzita', 'ezinik', 'oihal-etxola', 'animaliek', 'egun', 'bada', 'ustelezin', 'deituok', 'sinesmen-ezagatik', 'sastrakak', 'badakigu', 'ditik', 'isilean', 'handitzen', 'izanarengandik', 'fedeagatik', 'zai', 'tokietan', 'zinetenean', 'hemeretzi', 'jerusalemdarrak', 'ostu', 'ondorengotzari', 'zintuzkete', 'dauzkate', 'erabiltzen', 'gaituenari', 'tenta', 'distiratsuago', 'laguntzea', 'listuka', 'guztiengatik', 'nazioetako', 'esaiozue', 'goratu', 'adiskide', 'jakintsuago', 'gaitzakeenik', 'mendi', 'diagu', 'jabetzen', 'lan', 'filosofo', 'alabaina', 'idazki', 'erroldatze', 'bekatuagatik', 'ezkutu', 'espetxeko', 'ginenean', 'irits', 'profetek', 'horrexen', 'iskanbila', 'badiezue', 'lehenbizikoa', 'hilobiratua', 'oharkabean', 'iritsi', 'ur-ibaia', 'atzerritar', 'badituzu', 'infernura', 'jauregi', 'digute', 'jende-multzo', 'esnarazi', 'triste', 'amari', 'berrogei', 'soldaduekin', 'samin', 'txertatzea', 'porrot', 'sinesmenik', 'zin-hitza', 'deritzozu', 'profetagintzarako', 'haien', 'horrelakoek', 'geuregan', 'sendo', 'seme', 'honda', 'bataiatzeak', 'bazekien', 'baitzaudete—', 'txerrietara', 'gogaikarri', 'zitzaienean', 'baitituzte', 'ikasleagana', 'merkatu-etxe', 'genizun', 'zaie', 'kanaandar', 'dakion', 'israeldarrei', 'aurrerago', 'zerraz', 'haueta', 'ogibide', 'zakutoa', 'jasan', 'antikristo', 'sinesgabeekin', 'atsedenaldia', 'bizkorgarri', 'esertzeraino', 'didatenean', 'bakoitzarengandik', 'abiatzeko', 'dezakegu', 'fededun', 'izenean', 'dituenari', 'fariseuetariko', 'handiaz', 'idazkariak', 'beraiekin', 'osoki', 'mendetasunean', 'ardo', 'kapitan-pilotu', 'ikasleekin', 'etxekoenganako', 'zitzaizkizuen', 'maisuok', 'lurtarraren', 'nizkion', 'madarikatu', 'zenizkidan', 'predikuz', 'sinestedunik', 'profetizatzen', 'bietatik', 'adarrok', 'txandaka', 'kentze', 'irakaspenekin', 'aldarearekin', 'zaharrekin', 'izenik', 'nonbaitetik', 'madarikatutako', 'joerei', 'elkarte-arduradunak', 'haurrekin', 'hizkuntza', 'harropuztu', 'astebete', 'barrena—', 'bitartean', 'beharrezkoagoa', 'ahaltsu', 'apaizgoa', 'badaiteke', 'zekarrela', 'egia', 'zintzotzat', 'baserrietan', 'hutsekoa', 'eskarmenturako', 'deritza', 'azpikeria', 'bestela', 'dutenekin', 'botatze', 'sukarraz', 'aberasgarriago', 'gudari-taldeari', 'gutxikook', 'heltzean', 'hizketarako', 'muga', 'behi', 'besteengan', 'bozkarioz', 'irinetan', 'xumeari', 'gizontto', 'gizasemeagandik', 'aberats', 'ordainduta', 'ito', 'men', 'dizuegu', 'biezaio', 'jan-edan', 'milioika', 'bikiak', 'berau', 'ateetatik', 'estualdi', 'ziguten', 'aurrekoengandik', 'ezkerrekoa', 'arrats', 'argi-zuzi', 'muturrekoetaraino', 'harpe', 'nintzenean', 'habeak', 'errugabeok', 'lasai', 'gaueko', 'badie', 'gogaitarazten', 'honenbestean', 'lorrezin', 'ikasleetako', 'salbamen-egintza', 'erlijio-bizitzarako', 'herriekin', 'zegoena—', 'haurdun', 'nireganako', 'harreman', 'egiarengatik', 'eginarengan', 'kopurua', 'zabarkeriaz', 'datozkizuen', 'itxurazalekeria', 'mintzatzekotan', 'ezjakinen', 'dezakezu', 'egiok', 'harresia', 'suteari', 'iluntzen', 'unetxo', 'ukitze', 'zaituztedanik', 'gorantz', 'morroietariko', 'erantzunetan', 'zirenentzat', 'ustiatu', 'gorabehera', 'diezazkiogun', 'jasotzea', 'bekatuetan', 'ore', 'itsusten', 'sinesgabe', 'janariren', 'harlauzak', 'dakiela', 'eraikitakoa', 'besteentzat', 'ondasun', 'turuta-hotsarekin', 'senide-batasuna', 'eransten', 'agerpenetara', 'sekta', 'dizkiezue', 'dut', 'oro', 'oinarrituriko', 'zuzengabeentzat', 'behintzat', 'zinatekete', 'begiruneagatik', 'grazia', 'aintzira-bazterrean', 'gorputzarentzat', 'gizalegez', 'hirugarren', 'duzu', 'lege-hausterik', 'egozten', 'gehitzen', 'zimurrik', 'itsututako', 'erasoaldi', 'behar', 'pertsegitzen', 'hitz-liskarretarako', 'itsasaldetik', 'bidaliarengan', 'sukarrari', 'ontzi', 'egokiera', 'doazkigu', 'harrigarri', 'iraunaraziko', 'hego-haize', 'gaitzets', 'horrelakorik', 'arrazoi', 'badizuete', 'solairutik', 'batzarraren', 'darama', 'gaiztoagoak', 'berekoikeriaz', 'hebreera-hizkuntzakoen', 'onbidean', 'salbamen-aukera', 'barne-lotura', 'deiadar', 'eramanik', 'berresten', 'morala', 'zarelakoan', 'ohore', 'txalotu', 'garaile', 'sarrera', 'ulertze', 'zarratada', 'kanpotar', 'banaute', 'lehen-seme', 'mahai', 'diezaioten', 'ogiena', 'juduengatik', 'zeruraino', 'erortze', 'aztiari', 'deabruarentzat', 'tentaldik', 'triskantza', 'zerbitzarioi', 'semeekin', 'sugea', 'mostaza-hazia', 'zuhaitzetik', 'argudio', 'sorburu', 'ipiniozue', 'iraun', 'bazihoan', 'batetik', 'lasterketa', 'salbazio-bidea', 'profetatzat', 'apaiz-sailekoa', 'txakurrei', 'dizuedanaz', 'orratzaren', 'berritsu', 'ehun', 'zerupeko', 'engainatze', 'bizi-emaile', 'lur', 'biraoka', 'probetxuzko', 'bazkal', 'baitzekien', 'gogoeta', 'lehoinabarraren', 'daudenei', 'berna-hezurrak', 'zarata-hotsa', 'esatearren—', 'senti', 'ezertan', 'eskain', 'heriotza-zauri', 'larreak', 'deusik', 'bihotzetan', 'jauzi', 'iparraldera', 'agintari', 'kultu', 'ezberdinei', 'delakoarekin', 'erregearekin', 'dohainaz', 'zigorrarekin', 'gainezka', 'uhala', 'iparretik', 'suge-itxurakoak', 'gutarrak', 'jakinaraztera', 'urdailarengatik', 'dezazue', 'desleial', 'kopetilun', 'osasun', 'egintzez', 'konturatzean', 'muturrekorik', 'eskuratze', 'mahastizainari', 'irenduko', 'noala', 'lohi', 'ugarituko', 'dohainok', 'ahaztu', 'duenez', 'iraganeko', 'maiteekin', 'sufrez', 'anker', 'estutzen', 'ekialdeko', 'galilearri', 'dutenek', 'ilobak', 'apaindua', 'daudenik', 'apaizarengana', 'hondarrekin', 'testigu', 'arratsaldera', 'didazuenontzat', 'bihotzera', 'diozulakoan', 'uxarrean', 'zazpietako', 'halere', 'neba', 'nagusiagatik', 'bitza', 'adar-hostoak', 'sasijainkozale', 'goiz', 'ozenez', 'bainekien', 'mespretxatu', 'zabaltzea', 'ipini', 'jaiotzarik', 'gazteenak', 'dutenarengatik', 'beldur', 'bakar', 'seme-alabei', 'heldugabekoak', 'hiri', 'ditzadala', 'ezarri', 'ikaratu', 'sandaliak', 'fidatu', 'zuenera', 'ezetz', 'geure', 'judu-jatorrikoen', 'zintzotasunez', 'errugabetzat', 'izatea—', 'mihiarekin', 'jakintsu', 'doanean', 'gorrotatzaile', 'unetan', 'ostera', 'jaioberri', 'atseden-legea', 'umezurtz', 'sinesgabeok', 'aita-amak', 'diotsut', 'zaituda', 'hizketa', 'garbi-garbi', 'zidaten', 'arrazoibide', 'bitarteko', 'odol-isurketarik', 'duzunik', 'beraiengana', 'bilobak', 'erorita', 'asko', 'aipatze', 'jendetzari', 'opari', 'nardagarri', 'barkamenik', 'uxatzeko', 'ireki—', 'epaitze', 'itsasoraturik', 'neurrigabekerian', 'dituzuenean', 'zuteneko', 'norgehiagokeria', 'zituenean', 'askatze', 'launa', 'askotara', 'zapuztera', 'agurtzean', 'marmarka', 'barkamenerako', 'hilezkorretik', 'zaigu', 'ihartzen', 'zenarengatik', 'erakarri', 'didazunik', 'dizut', 'alferrikako', 'diote', 'banenbil', 'beharrei', 'ahul', 'ile', 'bazatozte', 'etsaiareki', 'delakoaz', 'sustraia', 'indarberritzen', 'igarotze', 'mesiasak', 'gogor-gogor', 'sendaturiko', 'zuenganaino', 'hauengan', 'zahartutzat', 'aberriaren', 'zuriago', 'utzita', 'misiolariaren', 'argitan', 'altxatu', 'adi-adi', 'ezkontza-legetik', 'kiskalita', 'liho', 'kontsolamendu', 'sos', 'dizkiet', 'laguntzaileetarik', 'zuetariko', 'hautatzea', 'argimutil', 'aho', 'errege-funtzionario', 'iaztik', 'etsaigoz', 'etsi', 'hezigabekoentzat', 'ateratzerakoan', 'mezularitzat', 'orokorra', 'apaintzen', 'atsekabe', 'okertzen', 'gaur', 'irakaspen-haizek', 'piku', 'bankuan', 'haiz', 'ospe', 'oihu', 'urtebetetzekoan', 'zaintzaile', 'ikaragarria', 'gizaseme', 'gizon-emakume', 'armaturik', 'bat', 'aintzira', 'handienaz', 'nahigabetuei', 'bakardade', 'albiste', 'profanatu', 'urrundik', 'zakutorik', 'zuengandik', 'ustelkeriaz', 'irizte', 'herrieta', 'diezaiete', 'askapenari', 'ametsetan', 'orduetan', 'berenetan', 'obeditze', 'jokatzea', 'estaltzen', 'berorren', 'barruraino', 'dizkidazuela', 'galkorretan', 'leialtasun-ezak', 'nardo', 'baitigu', 'zireneko', 'ugaldu', 'itsumustuka', 'etxekoandre', 'premialdian', 'aitorrarazteko', 'zaituztetenei', 'higuingarri', 'neke-lanak', 'zuzentzat', 'hiru', 'bazion', 'lekutan', 'atseden-egun', 'sartzea', 'amorru', 'izate', 'dakar', 'konturatzen', 'negarrari', 'senarrarengandik', 'harritzekoa', 'predikuari', 'sinesteagatik', 'beza', 'honenbesterentzat', 'balitz', 'erditzerakoan', 'gogait', 'jatorrikoen', 'egonaldi', 'duda', 'sarri', 'esan—', 'gintezen', 'apartekotzat', 'itzali', 'zenbiltzaten', 'jotze', 'barru-barrutik', 'osoarekin', 'aparra', 'deabru', 'on', 'garrasika', 'ohiturazko', 'amua', 'heldutasun', 'zakizkigu', 'bide-galdu', 'hizmotela', 'sabelei', 'duin', 'badakizu-eta', 'nebarengatik', 'biltzarrera', 'mota', 'irain', 'zartatu', 'irabazitako', 'iraunkorrean', 'gaitzesten', 'sinestedunokin', 'asiar', 'aingura', 'desagertzear', 'jarraitzea', 'zeritzan', 'honekin', 'diezu', 'nahita', 'aitarengana', 'amore', 'borrokatzen', 'sendakuntza', 'zarenean', 'onesgarri', 'itunekin', 'galkorra', 'kezka', 'keaz', 'lotsariak', 'bihoaz', 'noski', 'jantokian', 'aldatze', 'otoitz-etxe', 'datorrenean', 'otzantasunean', 'galdegizu', 'daramakiedan', 'dudanaz', 'guztiok', 'gaiztakeriaz', 'desegingo', 'errege-jauregietan', 'mirarirengatik', 'ikuspegi', 'sinesmenean', 'oihulari', 'mingarri', 'baitzarete', 'irakatsitakoaz', 'hitz-kontua', 'dio', 'emaiozu', 'konpromisoa', 'gutxiago', 'zekinat', 'baitabil', 'hartzurizko', 'zieten—', 'aspaldidanik', 'hutsalez', 'kablez', 'niregatik', 'diotsuedan', 'ene', 'mendetasun', 'diozula', 'geldituok', 'itxaropenetan', 'basapiztien', 'ontasunean', 'aingeru', 'erreguka', 'iltze-zuloetan', 'korintoarrok', 'zokoratzen', 'nagoenean', 'zergalari', 'sorbide', 'ilunetara', 'hankapean', 'jakinarazitako', 'desleialkerian', 'bizitan', 'zoroarenak', 'makilatua', 'sakonago', 'mesedeengatik', 'apostolu', 'irabaztea', 'hirutan', 'bihotz-garbiak', 'intsentsu', 'zama', 'daukatela', 'ditzakeenik', 'hire', 'burla', 'omen', 'ontzipean', 'eraginik', 'nizkizueke', 'zuenez', 'apostoluekin', 'baititugu', 'balantza', 'eskuzabaltasunean', 'egizue', 'anai-arreba', 'goiangeruaren', 'esertze', 'dirauten', 'bekatari', 'errukior', 'zutenarengatik', 'gobernariagana', 'emagalduekin', 'gatzduna', 'heldu-heldua', 'dizkiedan', 'adoretsu', 'gogorturik', 'zerabilela', 'belarrietara', 'pentsaera', 'zaretenoi', 'hilezkorraren', 'adarretan', 'askorengatik', 'zimendu', 'sinesgarri', 'izakiok', 'irtete', 'daukatenetik', 'zutenetik', 'iturri', 'baieztatzen', 'nortaz', 'bukatu', 'premiazko', 'antzaldatu', 'gerran', 'ongi', 'ipuinetan', 'semeaz', 'moralgabekerian', 'ez', 'doaze', 'beherakoan', 'gurtze', 'lurreko', 'galdukerian', 'konpontzen', 'jartzeagatik', 'igotakoak', 'ke', 'ulermenaz', 'biezaiete', 'salaketa', 'atezainari', 'zaizkie', 'haustearren', 'zalgurdi', 'uholdeko', 'eskuineko', 'edozeinekin', 'batzarrari', 'uzta-biltzaileak', 'zartailu', 'santutzat', 'jantzita', 'bare-bare', 'deritzozue', 'zeta', 'bihozberritze', 'hartze', 'zuetakoren', 'diru-laguntzari', 'ertzera', 'nekagarri', 'plaza', 'txarrez', 'jasotze', 'etxalde', 'esankizunik', 'mahastira', 'gizonetatik', 'nauzuenean', 'kartsu', 'galilearrek', 'bizkortzen', 'jainkozaletasuna', 'barrena', 'bost', 'kiskaltze', 'hautsetan', 'badidazue', 'hiltze', 'zerbitza', 'egingo', 'miragarriro', 'baitzetorren', 'ninduketen', 'pilaka', 'arrapaladan', 'adierazitako', 'igoarazi', 'dario', 'neurrigabeko', 'oraindik', 'ustiatzeko', 'neskatxarekin', 'datorkigu', 'taldea—', 'lehen-dohaintzat', 'zer', 'zion—', 'hortza', 'eskorpioien', 'legearekiko', 'oparitzat', 'arrazoigatik', 'elkarte-bizitzari', 'garbituriko', 'ehotzen', 'otoitzean', 'esmeralda', 'datorkio', 'salmoak', 'pausoak', 'zauzkatet', 'etengabe', 'lehiatsuago', 'erregeagana', 'onginahi-garaia', 'bedeinkatzen', 'bazkatzen', 'zabaldu', 'ohitura', 'inorekin', 'sexu-harremanak', 'anai-arrebekin', 'harribitxi', 'haserre-zigorretik', 'hauxe', 'alaba', 'zintuzte', 'amantala', 'gaitzazue', 'mantenua', 'hegal-hotsa', 'bizi-aldaketa', 'egiaztatzean', 'sustrairik', 'ordain-diruaz', 'berdintasuna', 'etxegileok', 'hondamendia', 'kontrakoetara', 'dezakedala', 'orobat', 'jarri', 'dituzu', 'zabal', 'hirurogei', 'lasterketari', 'seme-alabatzat', 'seigarren', 'gerasatarren', 'hiazintoa', 'nagusitasunez', 'zizkioten', 'defentsa', 'gizonezkoekin', 'lagungarri', 'defendatzeko', 'gaitzakete', 'ase', 'osten', 'beraiez', 'gutxiagokoa', 'borrokatzera', 'pizte', 'makalenak', 'ukatzen', 'zirenear', 'kexu', 'zintuda', 'faltsukeriarik', 'isiltasuna', 'burutzapena', 'irudipenezko', 'gaituztenei', 'hasita', 'zatitan', 'senar', 'aritzea', 'gudalagunari', 'hirieta', 'inspiratu', 'aberastasunarekin', 'indarretan', 'ugariago', 'dugunok', 'hautsetik', 'helduentzat', 'lanarengatik', 'gabezia', 'badituzte', 'kementsu', 'odolarekin', 'badago', 'zuhur', 'gizasemearentzat', 'pasatzean', 'gorespenerako', 'egitzazue', 'debekatu', 'digu', 'eginahalean', 'aztergaitzak', 'erraiak', 'honek', 'familietako', 'oiloak', 'zutelakoan', 'zakizkit', 'ninivetarrentzat', 'luzatze', 'oroitarazten', 'ohatiletan', 'gudu', 'bide-ertzean', 'ontzi-pusken', 'badakit-eta', 'jarduera', 'errebeldiaz', 'ezezagunari', 'salto', 'legena', 'zida', 'saldu', 'baliogabetzat', 'beroriek', 'ezagutze', 'eskaintzeagatik', 'harrezkero', 'zorion', 'sinestea', 'zituzte', 'kanpo', 'ezagutzari', 'badenik', 'zulaturiko', 'leize-zuloa', 'zentzugabekeria', 'ebatsi', 'behaztopa-harrian', 'dizkit', 'gauzen', 'behera', 'delakoaren', 'gosaltzera', 'doa', 'jarraibide', 'zerbitzaritzat', 'ezinikusiagatik', 'hilezkortasun', 'egile', 'jokoaren', 'besamotz', 'datorkit', 'ordu', 'genitue', 'bezalaxe', 'kartzela', 'aldetara', 'beldurpean', 'gidaturiko', 'jentiletan', 'erasotuak', 'erdaintze', 'mahaikide', 'atxilotu', 'galtzeraino', 'ahalik', 'garbi', 'nindute', 'errazago', 'elkarlanaren', 'haserre', 'lezake', 'txanpon', 'emaitzez', 'egoki', 'egintzek', 'itzalezineko', 'nau', 'zegoenean', 'kristala', 'nizun', 'atsentsio-belar', 'betetzekotan', 'masailekoka', 'epai', 'jan-edaneko', 'baitugu', 'zitzaizkigun', 'zeregintsu', 'gaituzuela', 'gaiztoetatik', 'froga', 'bizidun', 'mailari', 'pentsa', 'hurbiltzen', 'azpilean', 'toki', 'aurreratzen', 'alarguntsei', 'ulertezinean', 'txalupa', 'harmailetan', 'arbola', 'lore-sortaz', 'irekiozu', 'itxi', 'lehor', 'gobernatzen', 'lege-irakaslea', 'lehenbizi', 'harrapatze', 'baikabiltza', 'jentil-herri', 'kosta', 'mahasti-nagusiarekin', 'antzokira', 'dinat', 'mandatari', 'erregetzagatik', 'jatorri', 'ezkila', 'batasunari', 'eskainiriko', 'egitekorako', 'erlijiogabe', 'kanpokoei', 'deuseztatzeko', 'iezadak', 'zintzoki', 'askogatik', 'iragandako', 'oinarritzen', 'topo', 'hilarazi', 'auzitegi', 'bederatzietarako', 'dezazu', 'sakondu', 'baitituzue', 'dabiltza', 'lurrikara', 'hondoratzeraino', 'baitizue', 'entzunarazi', 'bigunegi', 'erasoaldiekin', 'atzera', 'badut—', 'jainkosa', 'eskuetara', 'betiere', 'eskale', 'derbetarra', 'une', 'ikus', 'apaizengana', 'zaintzaile-taldeen', 'errudunengatik', 'batasunagatik', 'haraxe', 'aztiek', 'heltzen', 'bezain', 'aitzindari', 'gizonarengatik', 'izugarriz', 'legearentzat', 'iratzarririk', 'eratzen', 'haurtxo', 'bereganatu', 'zaitut', 'dakarzkiguzu', 'eskuin-ezkerretan', 'ordukoek', 'kartel', 'antzeko', 'galdezka', 'lehiatsu', 'dagokionean', 'basati', 'dezate', 'santu-santu', 'igitaria', 'direnok', 'haurrei', 'predikari', 'eraztuna', 'izenaz', 'hor', 'israeldarrekin', 'ate-joka', 'bedeinkazio', 'isilka', 'maitasunetik', 'haize', 'bizilekuetan', 'erretako', 'amaitzean', 'filipoarrok', 'buruhausterik', 'zimurkeriaz', 'baietz', 'itun-etxolan', 'zizuen', 'biluzik', 'aukeraturiko', 'bidali', 'bereizte', 'zoriontsuagoa', 'ahaltsuago', 'aholku', 'muinoak', 'ondoezengatik', 'nabilela', 'okerrago', 'daiteze', 'heldugabeei', 'baditut', 'soroetako', 'hilketez', 'sumindu', 'ureztatzen', 'gordailu', 'atxilot', 'betidanik', 'guraso', 'garaitzera', 'zaindari', 'hondartzarantz', 'denontzat', 'batzuk', 'betebehar', 'etsai', 'nazazu', 'harroxko', 'etsaietako', 'zulora', 'maitatzea', 'patroiarengan', 'kanpalekua', 'daramazuen', 'erabateko', 'bizierari', 'bana', 'sufri', 'bazetorkiolarik', 'iraultza-hotsak', 'infernuan', 'irakurgaia', 'bataia', 'banizuen', 'adoretze', 'diru-poltsa', 'gantzutu', 'otoizleku', 'dituda', 'bihozberri', 'goian', 'goitik', 'ihesi', 'su', 'zaituela', 'irrikatzen', 'aldatu', 'zeuenganatuko', 'natorrenean', 'testigantza', 'mamua', 'edateagatik', 'tokirantz', 'hamargarrena', 'natzaizuela', 'ohikuneak', 'badizkizuet', 'prestaturiko', 'leunez', 'burutze', 'horrenbeste', 'olerkari', 'apaindurik', 'zeniguten', 'garbiketa', 'zuzi', 'kanaandarrak', 'aitareki', 'arrantzurako', 'baitzaudete', 'baitakite', 'haurgintzako', 'lirateke', 'galdegiteko', 'baitaukate', 'zikindu', 'gomendio-gutunen', 'mozkorkeria', 'zaharkiturik', 'isurtzen', 'eztenez', 'apaiz-sailaren', 'argitze', 'elkarte-otorduetan', 'jatorri-zerrendetan', 'sakonki', 'gordinezko', 'intzirika', 'gari-hazia', 'itxaropenean', 'gerrillarirekin', 'ezpata', 'ezpainetako', 'itsasertzean', 'haiek', 'sinagoga', 'aldarazi', 'buruarentzat', 'senarrok', 'basaeztia', 'erregeengana', 'superapostolu', 'habia', 'egintzengatik', 'egintza-kontua', 'zuzenean', 'halakoen', 'ordenaz', 'harri-artea', 'erantzuterik', 'ezartze', 'daki—', 'iraulka', 'ondasunik', 'berauetan', 'zaizkit', 'bihotzetik', 'lanetik', 'atsekabeengatik', 'hizkuntzetan', 'morroiri', 'heldugabekoei', 'alde', 'hazarazi', 'gaiago', 'negar-malkoz', 'niri', 'arrotz', 'ostatu-emaile', 'aitarenean', 'elkartasunean', 'ulergarri', 'nindutenean', 'antzokirantz', 'haut', 'ertzainaren', 'erdialdera', 'josturarik', 'defendatuko', 'gorenean', 'epaiketa', 'zienean', 'ikusgarri', 'sorginkeriez', 'idazkun', 'akordio', 'liburu', 'leialtasun-ezaz', 'argudiotan', 'senideri', 'tenpluaz', 'bakarrarengandik', 'xahutu', 'ehuntariri', 'bilarazi', 'kontribuzioak', 'isatsekin', 'esanik', 'zentzugabe', 'zulatu', 'proposatzen', 'kendu', 'limosna', 'ontziraino', 'jositako', 'goi-ikuskari', 'ekarri', 'dela-eta', 'bertutea', 'mutuetara', 'agintarietatik', 'alderdikeria', 'kimua', 'adimenaz', 'ibilitako', 'nabarmen', 'fariseu-buruetako', 'espirituengana', 'haientzat', 'zaharrarekin', 'lantzaz', 'jaiki', 'jarraibidetzat', 'erorarazteko', 'bidegaberik', 'hirurotan', 'ertzetatik', 'gaiztotuko', 'kiskalirik', 'galarazi', 'nire', 'premia', 'kartsuago', 'merkatariek', 'diezazkiozuen', 'belaun', 'alderdiko', 'derrigorrez', 'errealitatea', 'zein', 'ezinbesteko', 'izurriz', 'dabiltzanei', 'bihurrarazi', 'itxarobidea', 'bazeniote', 'dakitenak', 'aberastu', 'elkarte-otorduetarako', 'errealitateetara', 'lege-maisuekin', 'emazte', 'lausengatzen', 'begiratze', 'zoazela', 'sartze', 'mezuarekin', 'egunik', 'auzitara', 'jota', 'erantzukizuna', 'balio', 'aditu', 'dagoe', 'bizio', 'gutariko', 'dagokit', 'gaitzestera', 'errezelean', 'irrikagatik', 'onginahiagatik', 'aingeruetako', 'diotsuet', 'ikasle', 'esklabotzarako', 'batzarrera', 'apostoluok', 'larrugin', 'neur', 'nahasiriko', 'mugitu', 'hiritar', 'hebrear', 'baimena', 'burukotzat', 'gaitzik', 'inbidian', 'abantailarik', 'soldadutzara', 'honi', 'etxegile', 'harrotasuna', 'lurbira', 'mintzaira', 'dioenez', 'itzaltzera', 'buruzagietako', 'zaitzate', 'kornalina', 'bekatuarentzat', 'apal', 'zelaietan', 'saihestu', 'jendaurrean', 'norengandik', 'hutsetan', 'aztikeriara', 'itsasaldera', 'kristau-bide', 'sinestaraziz', 'zaretela', 'atondurik', 'igurtzi', 'honentzat', 'edo', 'sinesgabetasuna', 'oihaletan', 'aztikeriaz', 'zenetik', 'masaileko', 'diezazkizue', 'mahatsik', 'ikustaldi', 'agertze', 'aireko', 'zutenentzat', 'soro-lan', 'harremanetarako', 'usteleko', 'talentuduna', 'kristalezko', 'olibondoan', 'zaiola', 'horiengan', 'zizkien', 'ezagutaraz', 'jantzitakoari', 'dirdaitsu', 'guztietarik', 'nagusitzen', 'gertatzea', 'santurekin', 'zutitzeko', 'antzik', 'askorengandik', 'piztiari', 'nahigabetzeko', 'sarkorragoa', 'zuenean', 'lapur', 'maltzurrak', 'botere', 'jausi', 'zenbakia', 'suaz', 'atsegin', 'hezurrik', 'bai-bainaka', 'baitzaitut', 'dakielakoan', 'salbamen-eguna', 'diet', 'ordudanik', 'jai', 'dizkiezulako', 'alarguntsa', 'aldakorra', 'zihoanaz', 'esker-emateak', 'haur', 'onagatik', 'zentzatu', 'diezaio', 'lituzke', 'larunbatero', 'koskor', 'aurpegira', 'zimeldu', 'feniziarra', 'jainkotasuna', 'premietarako', 'onargarri', 'sortutako', 'zeniezadaten', 'bainaiz', 'badiote', 'astia', 'hamabigarrena', 'legepeko', 'ari', 'lebitar-talde', 'sufriaraziko', 'ustel', 'dakiguna', 'ezagutaraztea', 'gaizki-esanerako', 'jauretxeetan', 'atzamarrez', 'diozue', 'burdinazko', 'pasatzen', 'aingerurengana', 'gaituzu', 'duenarekin', 'gatzaizkie', 'eskuzapia', 'marinelek', 'judu-agintariei', 'sinestedun', 'daramaten', 'lodi', 'azkenean', 'andere', 'sabela', 'emaztea—', 'nazake', 'ahalguztiduna', 'suarengatik', 'horrengandik', 'judu-elkarteetara', 'belardian', 'egoeratan', 'edozertara', 'kidekotzat', 'ziurtasuna', 'begitan', 'bazabiltzate', 'gudarosteek', 'berarengatik', 'bazaituztete', 'desagertzen', 'bion', 'besarkatu', 'ordainsaritzat', 'zertarako', 'basamortuetan', 'gastatuak', 'aihena', 'isilago', 'zizkidaten', 'iturburu', 'idazkietan', 'sarea', 'maiteminak', 'izurriak', 'metro', 'mahatsa', 'zutabe', 'zerrenda', 'nongoa', 'haragikeriazko', 'miazkatzen', 'irabazi', 'esker', 'zigiluetarik', 'irenste', 'jaurtitzeko', 'geza', 'mehatxatu', 'senda', 'itzultzekotan', 'bazioten', 'mirari-modu', 'gelditzerik', 'santuaz', 'gizentzen', 'arantzatik', 'jaikiarazi', 'bazekiten-eta', 'greziar', 'bat-batean', 'guztiokin', 'ezagutzea', 'atarietara', 'emandako', 'genezan', 'niretzat', 'artaldetxo', 'matxinsaltoek', 'berriro', 'diru-gose', 'medikutan', 'naturaren', 'zigilatu', 'gutunean', 'jo', 'zaramatzatela', 'ziotelakoan', 'jakintza', 'nagusialdia', 'zafiroz', 'negarrez', 'dirau', 'baitzidaten', 'bazituen', 'mahastitik', 'lokarri', 'egiazale', 'josi', 'gazte', 'agintzari', 'astin', 'hasperenka', 'samarrez', 'onartzea', 'etxeratzean', 'indarretatik', 'zegok', 'festa-otordua', 'banatutako', 'ernetzean', 'patriarkak', 'bizi-arbolako', 'txaloak', 'oroitzen', 'burugabekeria', 'zietelako', 'berorri', 'irakasgarri', 'oihal', 'hilkor', 'kanporaino', 'egintzetan', 'dizkizuegu', 'ezartzea', 'irudimenak', 'amonak', 'jaramon', 'amaigabeko', 'eginda', 'zenute', 'gogokoago', 'baikeunden', 'hilabete', 'ezagutu', 'txar', 'ekar', 'ezinikusia', 'seme-alabatzakoa', 'perla', 'jentil-jatorrikoa', 'irtengo', 'zilegi', 'sartzerakoan', 'diezaieke', 'ederragoa', 'menpe', 'norbaitengatik', 'izan', 'zenituen', 'lur-muga', 'apur', 'traidore', 'ordainarazteko', 'erantsi', 'sumaezinak', 'sareetan', 'sutsuago', 'ozenki', 'alarguntsen', 'goxotasunez', 'baitiete', 'ikasleetariko', 'agintariekin', 'eskari', 'kristauberri', 'diezazun', 'duenei', 'sinets', 'zukeen', 'eskandalua', 'hitzetan', 'itzultzea', 'harrogarri', 'gauzetan', 'biziagoa', 'aurre-erabakiz', 'sakatua', 'galdetzen', 'tentaldirik', 'zaitezte', 'jatortasuna', 'jendartetik', 'ingurukoek', 'axaleko', 'datozenean', 'sasijainkoekin', 'gorrotatu', 'dizkionean', 'eske', 'jaioarekin', 'hitzemandako', 'digutenak', 'onetsi', 'zaudetela', 'tronuarengatik', 'zortzigarren', 'bakartietara', 'besaldi', 'urtekoa', 'jendartera', 'seme-izenari', 'ur-bazterrean', 'gogorrean', 'ditugunez', 'zieneko', 'zarete', 'konpon', 'badiogu', 'lehertu', 'aingeruentzat', 'barneko', 'okerbidean', 'arantzaz', 'mendekatzen', 'uraz', 'ninduzun', 'sareetatik', 'goraipamen', 'erdainkuntzagatik', 'ahulezia', 'jaitsita', 'itxurazaleez', 'zaizkizue', 'bazituzten', 'hankamotz', 'partiar', 'janariagatik', 'zizkieten', 'sartutako', 'neskarengatik', 'emakumezkoek', 'badigu', 'emadazu', 'oso-osorik', 'irakaspenik', 'finko', 'okerrek', 'haizeetatik', 'bekatuaz', 'entzumena', 'erre-opari', 'inortxo', 'deituarengan', 'beharraldi', 'ninduzuen', 'bertakoek', 'eskaintzerakoan', 'jaitsarazteko', 'jotzerako', 'makala', 'sustatzen', 'ustetan', 'nabilenik', 'dadi', 'zintuztegun', 'dolare', 'nezan', 'gudari-taldea', 'hitzok', 'egokienean', 'itsasertzeko', 'botagura', 'hezetasunik', 'konforma', 'barne-sakona', 'ekartze', 'gogoberotuz', 'azpikeriek', 'legegizonari', 'etsaigoa', 'auzi-egunean', 'zuloa', 'berentzat', 'baitzaio', 'aurpegiratzen', 'gehienentzat', 'moldatu', 'harrera', 'eliztar', 'nabil', 'batzar', 'baze', 'kartzelazaina', 'errebeldiagatik', 'itzulitako', 'ilunik', 'euts', 'minik', 'egidazu', 'hona', 'arin-arin', 'arotza', 'sitsak', 'bostehun', 'garenok', 'zehatz', 'biziaz', 'zenidaten', 'sinesgogorkeriari', 'sutsu', 'izandakoari', 'hego-mendebalde', 'ia', 'zezaketela', 'mantendu', 'eraikitze', 'ekarrarazi', 'diozunez', 'didazue', 'hunkiturik', 'lotsarako', 'harenean', 'ordainetan', 'mantenu-bide', 'zihoalakoan', 'neurritsu', 'apal-itxuran', 'burutzea', 'aloe-nahastura', 'eragozten', 'areago', 'ama', 'biezazkizue', 'harengan', 'adierazi', 'uztaia', 'buruetariko', 'hobeto', 'su-labera', 'ulerpiderik', 'zigorkatzeko', 'zintzoengatik', 'samurrez', 'gizon', 'aitorpenaz', 'hausten', 'ibaietan', 'hargatik', 'badizu', 'berrehun', 'berrikuntzaz', 'erruki-egintzak', 'izaera', 'ezkata', 'anaiari', 'makila-buruan', 'janzte', 'ezertxo', 'dioenaren', 'talentu', 'gaizkirako', 'adabaki', 'bi', 'sakon-sakoneraino', 'gaitzespena', 'gainditu', 'jarrera', 'eliz', 'diezuenei', 'herriarengandik', 'ilunaldirik', 'zekartela', 'zait', 'esklabo-salerosle', 'kolonia', 'itsuok', 'deabru-taldearen', 'jendaila', 'handi-mandiek', 'edan', 'maite', 'txit', 'oinordekide', 'nazak', 'egarri', 'naitekeelako', 'aingeruenganako', 'hanka', 'zelakoan', 'dohainean', 'har', 'izaki', 'gezurtatzeko', 'dizkidaten', 'berenganatuz', 'egiazkoaren', 'auzitan', 'aitaginarreba', 'salmentaren', 'semetzat', 'gogor', 'bizioetara', 'edango', 'zeuentzat', 'horri', 'sinetsi', 'jainko', 'emagalduarekin', 'dohain', 'gardena', 'ospetsu', 'langile', 'dakizuenoi', 'esku', 'erreinu', 'zabal-zabalik', 'hurbildu', 'etxeaz', 'zeniona', 'diete', 'fede', 'izanaz', 'utz', 'esaldi', 'txunditurik', 'badirela', 'behartuta', 'naiteke', 'hiazintoz', 'sendagile', 'seme-alaboi', 'aurre', 'zarpail', 'aulki', 'dudanarengatik', 'sakratu', 'irabazte', 'balira', 'bereziki', 'sufrimendu', 'salatzaileak', 'lurrin-usainez', 'baldin', 'buruargi', 'oldartu', 'ditu', 'ikusmena', 'berorrengan', 'leialtasunean', 'barkamena', 'nintzeneko', 'adibidez', 'suilen', 'senitarte', 'daukagula', 'arrantzale', 'lege-maisuok', 'dizkizunaz', 'aurrena', 'etxerakoan', 'sor', 'baitzituzten', 'susmo', 'digula', 'marmolezko', 'salbamen-asmoa', 'zaizkigu', 'gezatzen', 'bultza', 'dezakeenik', 'entzuleoi', 'dugunean', 'balioztatu', 'batekin', 'sukar', 'adoreaz', 'zeudenetariko', 'mihia', 'mahastizainaren', 'erabat', 'edukitzeko', 'aintzira-bazterrera', 'nagusiagana', 'lantzari', 'bizpahiru', 'aintzira-ertzera', 'birritan', 'lurrin', 'defentsarako', 'eskorpioiek', 'beteriko', 'gaitasunean', 'koroa', 'otoitzera', 'bahaiz', 'bederatzigarrena', 'bazaitu', 'zuhaitzi', 'itxarote', 'bart', 'handiagotzat', 'ziezaiola', 'ezkon', 'entzuterik', 'elkartze', 'esanekin', 'goraka', 'errebelde', 'irakatsiaz', 'zauritzeko', 'misterio', 'nahigabeagatik', 'hobiratu', 'oharpen', 'lastoz', 'diru-trukatzaileen', 'bekatariengandik', 'zueneko', 'harkaitz', 'bazterrari', 'errotarri', 'dizkiezuenei', 'egitekoari', 'larrugorri', 'doakizun', 'edozer', 'nintzaizuenean', 'apaiz', 'finkaturiko', 'neketsua', 'eraisten', 'jeloskor', 'eta', 'jardun', 'baikaitu', 'nolanahikoa', 'atzerritarrek', 'garamatzan', 'geroago', 'uzta', 'edate', 'jateagatik', 'bihotz-garbitasunez', 'hiletak', 'leihotik', 'osoa—', 'jarraitzerik', 'kutsa', 'handiarentzat', 'nahasi', 'erlijioa', 'ikusi', 'erositako', 'iritzietara', 'zenituzkete', 'idolo', 'jarraitze', 'guztionganako', 'direnera', 'adaxkak', 'igarpenen', 'lizunik', 'irudizko', 'konfiantzagatik', 'testigantzagatik', 'estal', 'uzteagatik', 'entzungo', 'senideekin', 'funtsik', 'maiz', 'kriseilu-argirik', 'aginte', 'gelditze', 'denetik', 'gorputzeko', 'edozeini', 'animatu', 'tristetzat', 'zuenaren', 'babespean', 'ezagutza', 'hizkuntzez', 'apaizburuekin', 'daukagu', 'gintezke', 'aieneka', 'abisua', 'indartzea', 'igitai', 'zuentzat', 'gizon-emakumeoi', 'honengatik', 'berarentzat', 'aurpegirik', 'heriotza-emaile', 'aintzat', 'dizkizu', 'bide-bazterra', 'askatzea', 'biraolari', 'arauekin', 'pilatzen', 'zilar-urrerik', 'igarota', 'olibondotik', 'urruti', 'erdaindu', 'agian', 'dagoeneko', 'herritar', 'ezean', 'batengandik', 'aurrerakoan', 'hondotik', 'erlijiotasunaz', 'hornitua', 'zetorrenagan', 'hotsegile', 'lehen-lehenik', 'jaurti', 'hoztu', 'negozioetara', 'familiako', 'beltz', 'profetari', 'zena—', 'eltzegilearen', 'obrako', 'jaitsi', 'ausartu', 'oihukatzen', 'gorroto', 'espiritu', 'daukadalarik', 'gaizpide', 'oin-aulkia', 'maita', 'idi-pare', 'agurtzen', 'haragi-odoletan', 'alargun', 'biderako', 'ohituren', 'afaldu', 'batzuen', 'lurrera', 'askorekin', 'begiramena', 'dagokigun', 'gureki', 'erabilitakoen', 'zerukoen', 'iragartze', 'etxekoei', 'entzule', 'gehitu', 'gudalburu', 'bekatarientzat', 'norentzat', 'zitueneko', 'gine', 'aitzitik', 'txarrari', 'handiarengatik', 'zuzenesten', 'bitzate', 'besteekin', 'mantentzen', 'aldareagatik', 'gidari', 'oroitzean', 'kasa', 'zikinkeria', 'alabagandik', 'zutabetzat', 'piztu', 'luzaro', 'dizkiete', 'obedi', 'daramadana', 'baitiozu', 'txirula', 'zaizuela', 'denboralditxo', 'janda', 'jaso', 'nauenaren', 'gudari-taldeko', 'jasandako', 'gutxieneko', 'genue', 'gaiteze', 'gure', 'ohatila', 'antikristoarena', 'saminki', 'badizue', 'lehorrean', 'gogortze', 'erregalua', 'ikaslerekin', 'badakizue', 'sufritzea', 'ohora', 'judu-buruzagi', 'datorke', 'handi', 'uretik', 'ezkurrez', 'irakaste', 'maitaleago', 'inbertitu', 'hegan', 'zutaz', 'amaginarreba', 'prestatu', 'segurtasunez', 'abestu', 'usadioaren', 'penatzen', 'liluratzaile', 'buru-haustea', 'duzuenean', 'diru-trukatzaileak', 'bekoki', 'usoak', 'gezurtitzat', 'banatze', 'fresko', 'eskaini', 'bero', 'astotxo', 'makurtzen', 'gaudela', 'gogoratzean', 'txori', 'bedeinkatu', 'kontseiluko', 'larra', 'enperadorea', 'iseka', 'danbatekoak', 'kokatzen', 'askapen-egunean', 'beherakoaz', 'dituzula', 'estuka', 'zegoe', 'engainagarrien', 'bazkaltzera', 'zakarkeriarik', 'baketsua', 'bataioaz', 'bilatzea', 'iritzietan', 'delitu', 'agintedunek', 'irakaste-lanetan', 'soinulari', 'otoizka', 'testamentua', 'zerbitzarietako', 'hondamenditik', 'egiteaz', 'duzue', 'eserarazi', 'hurbilago', 'menderagaitza', 'ahalmen', 'diakonotza-zerbitzua', 'litezkeen', 'behinola', 'geziak', 'izanda', 'ezikasien', 'agerpena', 'biziki', 'gaixotasunetatik', 'dizuguna', 'zaituztedanok', 'naizela', 'hegoalderantz', 'ilunpeta', 'bazeuden', 'erorbide', 'baitzien', 'berrikeriak', 'ukaezina', 'gorde', 'markek', 'arrastaka', 'edanik', 'bilatze', 'emagaldu', 'mintzatzea', 'gizadi', 'zerbitzariekin', 'bereizketarik', 'adiskideok', 'haste', 'jaiotzatik', 'salatzaileei', 'mahatsondoa', 'su-txingarrak', 'neskatxari', 'asmo', 'hurbiltzera', 'suila', 'kanela', 'gamelu-ilezko', 'erasoaldikoan', 'ardientzako', 'zuenari', 'antzera', 'baitzebiltzan', 'honelaxe', 'semearekin', 'deitzerakoan', 'euste', 'denok', 'gauerdi', 'indartsuago', 'litrokoa', 'harzurizko', 'eskuekin', 'leialoi', 'zuzentasun', 'pazko-ogiekin', 'gorets', 'zentzugabeok', 'piztuerarekin', 'saltoka', 'baduzue', 'duenik', 'sugegorrikumeok', 'harrituago', 'atondua', 'nahasgabe', 'hegaztiena', 'zizkio', 'nahiago', 'zoragarria', 'ardurapean', 'abere-odola', 'ibilarazten', 'lema', 'gerriko', 'dabilela', 'auzi', 'zenukete', 'horrek', 'hobeki', 'arrano-hego', 'odolaz', 'hurbilduxea', 'txakurrek', 'eramanerraza', 'jatea', 'lanbide', 'mintza', 'hedatzen', 'bidaiari', 'ogi-puska', 'eroapenaz', 'zaintze', 'tentaldia', 'nekien', 'patriarkekin', 'zaitudalakoan', 'nahaspila', 'zatiketarik', 'gela', 'hilzorian', 'gorabeheretan', 'zurrumurru', 'oinik', 'aberasten', 'entzuniko', 'etxezaintzaren', 'hasi', 'zenidan', 'arreta', 'txertatzeko', 'lotsa', 'uzta-biltzeari', 'eskumenekoa', 'herensuge', 'bagintuen', 'egun-argiz', 'dizula', 'batera—', 'beldurti', 'aspertu', 'agerrarazi', 'mahaizainari', 'salbamenaz', 'bere', 'zerbitzukide', 'emakumeekiko', 'txanda', 'gizon-emakumeenganako', 'zegokeen', 'gertaera', 'zeneko', 'iraingarri', 'zaitu', 'idazkera', 'belarrez', 'gogoaz', 'argitsuaz', 'babeste', 'bidegabeek', 'alegia—', 'bazue', 'joango', 'emazkidak', 'goratzen', 'beheratzean', 'ahuleriez', 'helbururantz', 'banie', 'errege-herri', 'arreba', 'buruetakoa', 'hots', 'hutsunea', 'interpretatzaile', 'okerrerako', 'ordain', 'bihurtutako', 'mutilekin', 'hobiratzeko', 'nendin', 'eskasia', 'prest', 'eskubide', 'seme-alaben', 'erromatarrok', 'bakarrean', 'erruki', 'lotsagarri', 'batengatik', 'nagusietako', 'laino', 'dizue', 'zerbitzatze', 'ezezaguntzat', 'guztiotaz', 'jate', 'gaitasuna', 'ausartago', 'diru-laguntza', 'zeinurik', 'baitut', 'dizkidazunok', 'sutondoan', 'horrelakoetan', 'zetorre', 'dituenek', 'buruaz', 'kerubinak', 'astintze', 'behartsutzat', 'irakasletzat', 'hitzaz', 'herriarenengatik', 'zareteneko', 'betetzea', 'dizkidazunetatik', 'laidoztatzaile', 'sardonizez', 'norbaitengandik', 'beste', 'gurutziltzatuei', 'aipa', 'maitaleak', 'anaiek', 'jokatzeagatik', 'edertasun', 'guardia', 'dezakeena', 'axolatzen', 'baituzu', 'egunero', 'gaixo', 'gudarostearen', 'musuzapi', 'galbahean', 'sutatik', 'suntsitzailearen', 'bazaie', 'dastatu', 'esku-hutsik', 'ontzitan', 'zalapartaka', 'geurekin', 'batasuna', 'bitez', 'hone', 'barru-barrua', 'diezazkioket', 'zeuengan', 'heldugabekoen', 'bailituzke', 'didazuenean', 'zeinetaz', 'daramalako', 'alexandriarrez', 'anaiei', 'bazterrera', 'balu', 'labe', 'zu', 'ziezaiote', 'bigunagoa', 'etor', 'lurringai', 'zitzaion—', 'afal', 'gau-egun', 'zigor-kopa', 'gaizto', 'hemengo', 'hartutakoaren', 'ziteze', 'dabiltzanez', 'denbora', 'senarrarekin', 'zitzate', 'jadanik', 'itzulbidetik', 'tente', 'probaldietan', 'zaudela', 'badaukazula', 'agortu', 'zaitezke', 'saihets-zuloan', 'zaizu', 'ahalegindu', 'amaitzen', 'edonondik', 'gaizkiletzat', 'gatoz', 'orotatik', 'ditugunei', 'distira', 'astakume', 'diezazueten', 'jartzea', 'dirudite', 'gogo-biko', 'lizunkeriatan', 'dutenei', 'legoke', 'haragiaz', 'zeru-lur', 'gizakiagan', 'jainkozaletasunarekin', 'teilak', 'behaztopagarri', 'basamortu', 'dezaketena', 'seme-alabentzat', 'asmakizuna', 'aurrerantzean', 'brontzezko', 'zatozkit', 'frogatze', 'upel', 'denean', 'astea', 'herritarrek', 'ezkuta', 'zuhurraren', 'gorago', 'beldurrarentzat', 'diru-bilketa', 'hantxe', 'itun-kutxa', 'astunago', 'badizuet', 'patio', 'sagaratze', 'bide-bazterrean', 'aparte', 'ateratze', 'igurtz', 'diezadazuela', 'ikasi', 'zizkizuetenean', 'handietan', 'sufrimendu-', 'justizia', 'orde', 'txarretatik', 'anaia', 'zenezaten', 'naizenik', 'ontzako', 'oihal-etxolagileak', 'bide', 'dator', 'proposatu', 'garaitzen', 'lotuta', 'sasizientziaren', 'zaharraren', 'dizu', 'iraganaldia', 'maiteago', 'dotore', 'profanatzaileentzat', 'astinaldi', 'bikoitza', 'zahartua', 'ezkongabe', 'gainerakoei', 'lerdea', 'hezur-haragirik', 'ustekabean', 'hilik', 'isatsetan', 'konparatzen', 'hamasei', 'judu-agintariak', 'sasiapostolu', 'zori', 'zentzudun', 'die', 'duzuelakoan', 'bakoitza', 'pare', 'esperantza', 'dituzte', 'zabiltzatela', 'hondamena', 'bazaizu', 'zaiteztela', 'garagar-ogietatik', 'lasaikeria', 'gaiztoengandik', 'saiatzean', 'inor', 'ederrengatik', 'erreginak', 'iraintzen', 'dardaratu', 'betetzaile', 'baitizkio', 'izadi', 'zuzentasun-ezak', 'murgildu', 'hitzartuak', 'etortze', 'etetera', 'iritzi', 'salgaiak', 'lizun', 'ibiltze', 'duenaren', 'damu', 'antxume', 'ederki', 'kiskaliko', 'konbentzitzen', 'harlauzatan', 'hildakoren', 'guztienganako', 'iren', 'goreneko', 'koba-zuloetan', 'bainuen', 'besterentzat', 'uzkurtua', 'durundi', 'halaber', 'adar', 'tresna', 'urrun', 'urtero', 'balioztatzen', 'nindue', 'hezur-mamizko', 'arauetara', 'bazkaltiarrez', 'lotsagarrietara', 'zitzaigunean', 'okerraren', 'krisolitoz', 'daukazu', 'zaidak', 'badakit', 'erregeentzat', 'nazkatzen', 'ohar', 'larruzko', 'adimen', 'jator', 'zuregan', 'beheko', 'ateraino', 'igartze', 'atseginetara', 'herrialde', 'arruntak', 'errukitsu', 'auzokoek', 'diotenekin', 'funtsezkoenak', 'zigor', 'gurpila', 'gizakirengandik', 'izutzen', 'saihetsean', 'errege-apaizgo', 'zaude', 'arruntagoa', 'jaietan', 'badio', 'beroni', 'gastatzen', 'gorazarre', 'jauregiraino', 'heriotza-usaina', 'higuingarritasunen', 'pikondo', 'notak', 'tenpluarengatik', 'merezitako', 'gizakientzat', 'israeldarrek', 'suntsitu', 'parekorik', 'eskas', 'gurutze', 'kartzelazainari', 'badaki', 'lausenguz', 'zaituztet', 'gaizki-esateak—', 'hartzea', 'ikertzaileei', 'bihozberritzea', 'jaiotzez', 'ametsa', 'guretzat', 'hamaika', 'zinausleentzat', 'elkarte-zuzendari', 'auzo', 'beharreko', 'uso-tankeran', 'hegaz', 'litzaketen', 'lurralde', 'sartalderaino', 'ageri', 'eratsu', 'erlijio-betebeharrak', 'zerbitzari', 'langileetako', 'errukarri', 'koparekin', 'seguru', 'gehiegi', 'baititzake', 'armak', 'ohitzen', 'odolustu', 'emakumeena', 'biziotan', 'zoaztela', 'eskutitzik', 'larunbateko', 'amarekin', 'jarraika', 'damugabearen', 'baditu', 'gizaki', 'dituzuenez', 'maitatze', 'gomendatzen', 'jendetzagatik', 'gurasoentzat', 'atseginkerian', 'biotan', 'borroka', 'soinean', 'gaitzespenik', 'beronen', 'gezatuko', 'gazteoi', 'gozoki', 'gatibu', 'desleialkeriari', 'amaginarrebagandik', 'dezakezue', 'teilatura', 'gidaritzapean', 'eroste', 'okerretan', 'isilik', 'pozik', 'erretze', 'mandamendua', 'baitzenuten', 'beharrizan', 'dizkidazun', 'zizun', 'eginahalak', 'kontsolatu', 'gaiztakerietatik', 'babestu', 'luxuzko', 'itun-agiriaren', 'gogorarazte', 'dorrea', 'bilakatu', 'naraman', 'asaldatu', 'pertsekuzio', 'etorrerakoan', 'landatzen', 'bizilagun', 'zitzaizkien', 'aulkietan', 'banengo', 'eraistera', 'lau', 'zuregandik', 'ozpinetan', 'ontasun-altxorretik', 'ilunpe', 'egundaino', 'erein', 'faraoiak', 'ohepean', 'bosgarren', 'zeurekin', 'era', 'ohoreaz', 'gaituzue', 'kontsolagarri', 'honeta', 'zezate', 'itzalpean', 'maltzurrez', 'beraieta', 'begirune', 'dutenetik', 'madarikatuok', 'erori', 'altxorrarekin', 'lehen', 'bagaude', 'etorkizuneko', 'jotzearen', 'bestearengatik', 'askatuta', 'nekeetan', 'itxarobiderik', 'ezinezko', 'ortzia', 'emango', 'al', 'arrantzuagatik', 'oineta', 'ondasun-banatzaile', 'aditzen', 'zakurrak', 'bazaio', 'gurutziltza', 'baketzea', 'ezpondan', 'salakuntza', 'diot', 'zapi', 'badizkiezue', 'erregetza', 'aingeru-talde', 'lagunentzat', 'buruetan', 'zeuzka', 'ditzagun', 'baitigute', 'irekitzea', 'arazoetan', 'hemeretziekin', 'aseezineko', 'irakatsitako', 'batera', 'garbikuntza-ohikuneetan', 'zaindu', 'gaizki', 'naizelakoan', 'nuenean', 'faltsifikatzen', 'ikaraz', 'etsaitzat', 'sasi-artea', 'eskerrak', 'marmarra', 'zerueta', 'biziarengan', 'maite-maiteak', 'argitasunak', 'gabiltzanak', 'gurtu', 'handikietako', 'ezagun', 'askatzaile', 'bakoitzari', 'errauste', 'izengoitiz', 'bitxi', 'heldugabeek', 'kokatuko', 'preso', 'zintzilik', 'gauza', 'hautsi', 'edalontzi', 'mezu', 'betor', 'ino', 'ileaz', 'gorespena', 'ekintzan', 'ageri-ageriko', 'bizkar', 'zatiketak', 'dantzak', 'nagoela', 'pittin', 'hamarrak', 'andregaiarekin', 'legamiarekin', 'dauka', 'sakon', 'osagaiak', 'ditzakeenari', 'errespetuagatik', 'deitzen', 'mantu', 'itsu-gidari', 'arrebei', 'maiteok', 'eskuinaldean', 'zebile', 'heze', 'fruitutzat', 'grinatsu', 'arerioen', 'errukarrienak', 'amarengandik', 'jantzi', 'irakurtze', 'honetarakoxe', 'badira', 'dardararazi', 'eskorpioia', 'ume', 'zaituztegu', 'hortz-karraska', 'garai', 'ausardia', 'idatzi', 'kutsaturiko', 'badatozkizue', 'estuasunetan', 'baitauzkate', 'iragar', 'bete', 'hodeietan', 'atzeman', 'banitu', 'otso', 'esklabook', 'oinazpian', 'sabelarentzat', 'dizuete', 'txikietan', 'juduekin', 'pizturiko', 'dik', 'musukatuz', 'harkaitzean', 'berreskuratzea', 'amaitu', 'itzul', 'hitzik', 'diezaioke', 'bukatzearekin', 'diezaiogun', 'ataria', 'egintzei', 'seinaletzat', 'bego', 'juzgatzen', 'hasperen', 'saia', 'diedan', 'gaiztodun', 'gudari', 'banintz', 'ur-suila', 'erakutsi', 'gonbita', 'diedalarik', 'ukabilkadak', 'lurretik', 'gaiztakeriatik', 'denentzat', 'eskualdeetan', 'ibaiaz', 'gau-ilunez', 'antzemanik', 'distiratsu', 'indarrean', 'lehenengo', 'lizkidake', 'etxola', 'dakizkizuen', 'armarik', 'badarama', 'gara', 'asteko', 'lotsarietan', 'zekor', 'errespetu', 'forma', 'adora', 'gor', 'gotorrak', 'berorrexen', 'maltzurkeriari', 'onartezina', 'asaldatzen', 'eskatze', 'konformatuz', 'biharamunean', 'biltzarretik', 'hondar-meta', 'gelditzea', 'haga', 'mirari', 'kontrajarriak', 'armatzat', 'ahaide', 'hezigabeko', 'direnetakoa', 'gare', 'uztartu', 'heriotza-bide', 'egiozu', 'engainu', 'direnean', 'biltzarrari', 'galtze', 'badatoz', 'salmoetan', 'erbestealdian', 'erantzi', 'odoljarioz', 'erre', 'probintziatakoa', 'fidagarri', 'adulterio', 'zentzatzen', 'ekialdetik', 'bihotz-gogor', 'baitaiteke', 'zetorkeen', 'auzoetarantz', 'erdi-erdira', 'eragozpen', 'ze', 'bazinete', 'dugunez', 'jan-edanean', 'hondar', 'bihurtzea', 'nengoe', 'handienean', 'jokatzera', 'eskuratu', 'bisitaren', 'ezberdinak', 'sailean', 'ukuilutik', 'guztiengan', 'zoragarrira', 'has', 'haurraren', 'garrantzizkoena', 'zaletasuna', 'zerurantz', 'dizkiegu', 'itsasontzien', 'mahastizainak', 'hizketaldi', 'estalki', 'agintariengana', 'egiteagatik', 'emakumeagana', 'irrika', 'simaurra', 'hegaldun', 'elkarte-buru', 'poz', 'gordinkeria', 'harentzat', 'balute', 'ditzazue', 'eskuinak', 'goratzera', 'nator', 'etortzea', 'sutan', 'datorrela', 'komenigarri', 'lehertzeraino', 'atsegingarri', 'zoro', 'ditugu', 'zoriontsu', 'gaitz', 'eztabaida', 'zapalkuntzapean', 'iragankor', 'daudelako', 'gorputz', 'logaletu', 'lehengo', 'ezkerretara', 'berritzen', 'greko-hizkuntzakoen', 'oztopo', 'hartzulo', 'arriskutan', 'zarabiltzatenak', 'aitorpen', 'hindudan', 'izateagatik', 'urratsei', 'diezula', 'aterpe', 'lurreraino', 'guztiotan', 'lehenbailehen', 'belar-lorea', 'masaila', 'piztiarekin', 'arraunean', 'lurperatuak', 'gari', 'zibileko', 'duenetik', 'presaka', 'buztinlariari', 'ortzadarra', 'bainator', 'barre', 'eduki', 'ustelkorrez', 'zeuenganatzen', 'aipaturiko', 'garbienaz', 'senide-batasunarekin', 'bulartsu', 'herrikoek', 'eserarazteko', 'erremindu', 'juzga', 'zigor-egunerako', 'ontzat', 'dituela', 'batzuetan', 'asmotan', 'beneta', 'gorenari', 'lehorretik', 'badugu', 'azkenik', 'baitezakegu', 'edertasunaz', 'hondarrak', 'zerbait', 'zitue', 'gogoratu', 'mendekurik', 'adoregarri', 'osasuntsu', 'alderatzekoa', 'denario', 'iraunkorrez', 'aukerari', 'uzte', 'duzula', 'abesten', 'gorakoa', 'irtenik', 'gezurraren', 'predikua', 'salbatzeagatik', 'argitzat', 'zenik', 'apain', 'espero', 'eguerdi', 'dagokizuena', 'kondena', 'zerualde', 'berdin', 'sasikume', 'ongarria', 'junturen', 'agurgarri', 'aiene', 'sugegorri', 'lausenguaz', 'edukitzea', 'santutegi', 'altxarazi', 'erbesteratu', 'saski', 'antzeman', 'ezagutarazi', 'elkarri', 'amaordea', 'baitzitzaion', 'indarrez', 'zenbateko', 'honezkero', 'bustitzen', 'dizkizudan', 'dizuet—', 'badudala', 'bihotz-gogortzen', 'gorrek', 'aldentzea', 'jaits', 'aurtengoz', 'hondoa', 'ahuspez', 'gaiztotzeraino', 'elamdarrak', 'berekoi', 'dugu', 'bataiatze', 'zelatatzen', 'erdiminen', 'entzundako', 'denetarako', 'zuzengabekeria', 'adimengabeko', 'neskatxa', 'isipuaz', 'zabalera', 'oinpean', 'gehigarritzat', 'bai', 'bihotz-bihotzez', 'isuri', 'dutenentzat', 'jendearengatik', 'profetesa', 'zuzendu', 'nizukeena', 'batzuentzat', 'samariarrek', 'barealdi', 'bizi-bizi', 'beretar', 'hemen', 'goizeko', 'zilarrez', 'nikolaiten', 'mirabeagandik', 'ustelkorra', 'arabera', 'bagara', 'ezkontze', 'zerga-txanpona', 'ezezkoa', 'inorengana', 'itxurazalekeriarekin', 'morroiekin', 'sasiprofeta', 'baneza', 'barauaz', 'epaileagana', 'hilarriak', 'mahastia', 'adieraztea', 'dizuedan', 'natzaizue—', 'gorri', 'dagoenean', 'gutaz', 'aldi', 'urdinak', 'onik', 'jaietariko', 'ezbeharrean', 'zenioten', 'baliabide', 'ontasunez', 'maltzur', 'nekatzen', 'ezerezte', 'ereilea', 'kopa', 'biezat', 'lurmuturraren', 'burualdean', 'faraoiari', 'profezi', 'aukeratuei', 'gurari', 'bizi', 'badudalakoan', 'urik', 'egite', 'prediku-', 'semeetatik', 'iraute', 'txikienetako', 'baliatzen', 'gau', 'hutsean', 'elbarri', 'herrixkakoa', 'kristau-bizitzan', 'zintzaten', 'altxorretik', 'iristea', 'jentil-herrietako', 'iriste', 'distiragatik', 'baliotsu', 'dituzunez', 'garbikuntza', 'dadinean', 'beraientzat', 'kendutako', 'sagarapen-jaiak', 'jakinduri', 'jokabide', 'behin-behinekoak', 'lurraldeetara', 'horietakoren', 'karroza', 'ugaltzean', 'pasarte', 'indargabe', 'bezala—', 'ditugunoi', 'dagokidan', 'gudarostez', 'hebrear-hebrearra', 'neke', 'gorputzaz', 'gauean', 'zinetenok', 'edozergatik', 'arrain', 'fruitu', 'irakasle', 'etxe-zokoan', 'orrazkera', 'gezurretan', 'milatan', 'ispiluan', 'uhinek', 'jakingo', 'zuketen', 'argibide', 'baitakit', 'hiltzerakoan', 'desagertu', 'zailtasun', 'ezerezkotzat', 'zipretarra', 'bidal', 'dizkizuedalarik', 'harengandik', 'iruditzen', 'hezitzaile', 'jende', 'badu', 'tintaz', 'deiadarka', 'kristau-heldutasunari', 'oholen', 'irabaztearren', 'bukatutzat', 'dituenean', 'otoitzekin', 'beltzenean', 'guardiaburuengana', 'dirutza', 'baduela', 'bertutearekin', 'nahasmendu', 'ilun', 'leinu', 'auzoetan', 'biltzarraren', 'eskaiozue', 'zorotzat', 'ardi', 'hitzeman', 'haize-boladarena', 'samar', 'emazteaz', 'horrexegatik', 'kalean', 'eragin', 'iezaiozu', 'sentiberatasunez', 'txarrek', 'piztien', 'soilean', 'zutenean', 'jakinarazi', 'zure', 'egurretik', 'zihardue', 'festarako', 'maitasun', 'uholdea', 'galduengana', 'baitzaie', 'marmarrean', 'badirela-eta', 'ditudanean', 'esaneko', 'itsasontzia', 'aurrekoan', 'zuhurtzat', 'hondarretan', 'salbaziora', 'neure', 'hitzetik', 'ipar-mendebaldera', 'arbuiatua', 'erdiminez', 'ahizpek', 'igoarazteko', 'dizkiotenei', 'afaltzen', 'biltze', 'eginkizun', 'baratze', 'zaik', 'badizuegu', 'digutenaren', 'dituztela', 'amorratuak', 'baitezakezu', 'legeaz', 'zituztenean', 'kanabera', 'hutsalak', 'hondora', 'judu-agintarien', 'beraiengatik', 'ordaintze', 'berriona', 'geneukan', 'lekukoren', 'natzaizue', 'zaharrei', 'gauzek', 'gainbehera', 'elkarrentzat', 'lehenago', 'enperadoreagana', 'esate', 'izenak—', 'irainaz', 'ontziratu', 'zeruarengatik', 'beretzat', 'noizbait', 'ezagut', 'agerpenik', 'etxe-gainetatik', 'aholkatzeko', 'baliotsuago', 'bereizkeria', 'zakar', 'eskaintza', 'ditzate', 'duzuenoi', 'sarritan', 'kulunka', 'zeuengatik', 'bertutetsu', 'eros', 'ahizpa', 'hedatu', 'mutu', 'horieta', 'bazter', 'hemendik', 'dugula', 'esklaboekin', 'kutsatze', 'duzuenarekin', 'eraitsi', 'leize', 'predikatze', 'zentzu', 'ezinean', 'dendara', 'sufritze', 'uztaroa', 'dantzarik', 'erne', 'belauniko', 'igarotzerik', 'ibili', 'sendatuta', 'zaizkidan', 'intsentsu-ontzi', 'gaitezke', 'bezala', 'fedearekin', 'eraiki', 'eramandako', 'harrituta', 'nuke', 'masailean', 'askatasun', 'nauzula', 'zigorrada', 'bagenitu', 'dizkidazunon', 'zaharrari', 'zabiltzate', 'aztertze', 'beheraino', 'gaitzazu', 'bazina', 'horrela', 'zaldizko', 'inori', 'hator', 'seme-alabok', 'morroikideak', 'kide', 'bedeinkatuok', 'fidatzen', 'profetiza', 'uso-saltzaileen', 'zitzaizuen', 'iraungo', 'arduratze', 'baitizuete', 'zuretzat', 'arnasa', 'bainengoen', 'sentitzen', 'ha', 'aldentze', 'deitutakoek', 'bazarete', 'piku-sasoia', 'neurritasunez', 'dezakezunez', 'azkengabeko', 'norabait', 'zenioke', 'zatitzera', 'aldaezina', 'onerako', 'liluratze', 'egintzetatik', 'argitsu', 'heriotza', 'guztientzat', 'seme-izenik', 'boli', 'baitzekiten', 'famili', 'elkartekooi', 'gertatzen', 'gardutik', 'auzirako', 'predikatu', 'urtebete', 'senideok', 'halakoetan', 'milaka', 'ezta', 'idoloekin', 'eraginpean', 'besterengandik', 'harat-honat', 'apartak', 'ordain-agiria', 'bihozbera', 'jarlekuak', 'eskatzea', 'aztarnarik', 'beregan', 'oinazetzekoa', 'handikeriak', 'zirtatu', 'gaituenez', 'jentilengana', 'isurtzean', 'denaz', 'turuta-hotsik', 'administratzaile', 'askorengan', 'gidaritzat', 'kezkatzen', 'engaina', 'emanik', 'batzuetara', 'zuzenetsi', 'bidelagunak', 'erakuts', 'osasungarrira', 'izateaz', 'tranpa', 'eskolaturiko', 'ezik', 'sektatzat', 'azkeneraino', 'sinesmenera', 'dago—', 'auzi-egun', 'jabetzean', 'poltsa', 'bagenu', 'mendialde', 'jainkozaletasunez', 'zenue', 'badezake', 'dakizuenez', 'pozoi', 'oinaze', 'guztiarengatik', 'duzuenik', 'etxekoez', 'sugearengandik', 'adina-eta', 'eskuinaldera', 'lursailetik', 'neramala', 'zerutarraren', 'dakigu', 'diola', 'kartzela-lagun', 'garbikuntza-ohikuneri', 'arroztuna', 'iruten', 'nahi', 'lioke', 'isilarazteko', 'mundutar', 'bekizu', 'kultu-ohikuneak', 'indartsu', 'gose', 'ogi-apurrak', 'harrikatzen', 'oinazeetan', 'diru', 'sagaraturiko', 'zizkizutenean', 'baita—', 'baitizkie', 'bekatuengatik', 'arren—', 'hil-hezurrez', 'zentzarazte', 'ospetsuago', 'zizueten', 'neketan', 'makurtu', 'bazait', 'fedeaz', 'genezake', 'txiki', 'gordeta', 'bularpea', 'oinekin', 'ezkontza-harremanetan', 'desobedientziagatik', 'gizakiengandiko', 'biluzgorri', 'otoitz', 'busti', 'galera', 'leial', 'hostoa', 'ozta-ozta', 'poz-alaitasunez', 'iraunkorragoa', 'baitzeuzkan', 'borrokalaria', 'daramatza', 'dagozkionetan', 'garantia', 'guregan', 'isil', 'oihal-etxolatan', 'kolirioa', 'argitaratuko', 'ikuste', 'gaztaroko', 'konturatu', 'harekin', 'ibilaldi', 'beharrean', 'harrapari', 'nagusitza', 'zuengan', 'aker', 'dezakeenari', 'ziotsaten', 'harrapaturiko', 'menderatze', 'baieztatua', 'ehundua', 'baitituzu', 'punpaka', 'tenpluetan', 'zaharre', 'beraien', 'mandatu', 'prostituzio-ardoz', 'erasoagatik', 'eserita', 'handiki', 'neurritzat', 'horma', 'salerosketan', 'inguruetara', 'ahalbideen', 'arazo', 'orro', 'zizuten', 'garraiatzea', 'arraintxo', 'baitzeuden', 'harrapatutako', 'bedi', 'adinakorik', 'dizugu', 'egiozue', 'baitira', 'geu', 'errotuak', 'gailurra', 'hondartzarekin', 'jakinduriaz', 'lemazain', 'hamabi', 'lastoa', 'berari', 'zinik', 'gaitzetsi', 'artisauok', 'pentsamoldearen', 'umetxo', 'gainerakoaz', 'bideratze', 'landu', 'sorrarazi', 'hartaz', 'erlijiotik', 'kapa', 'haietaz', 'gelditutako', 'biziberritua', 'hel', 'arrotzengandik', 'legepean', 'aurrerapen', 'jentil-herrietara', 'lehen-semetza', 'onetan', 'zaildu', 'ziezaie', 'huskeria', 'zertaz', 'ditza', 'hilkorretik', 'dagokeena', 'itsasbidea', 'azkeneko', 'dizkio', 'jaun', 'baizik', 'banan-banan', 'esklabo', 'emakumeagatik', 'gizabidez', 'otordu', 'zuenarengatik', 'minbizia', 'bete-betea', 'gorrimin', 'ikuskariaz', 'zatika', 'guztioi', 'joera', 'goiko', 'iturburuetan', 'heriotzari', 'ereindakoa', 'gorpuari', 'bihotz-', 'gezurrez', 'zenutenean', 'bagaitu', 'mirra-', 'juduberri', 'sosetan', 'uharte', 'onginahi', 'azpian', 'semeok', 'nitaz', 'presentzia', 'sendagai', 'nintze', 'errege', 'herrixketara', 'igarle', 'frogatuz', 'fruituetatik', 'jendearengandik', 'piztuera', 'zaituenean', 'maitasun-egintzetan', 'bekatu-kontzientzia', 'mezuarengatik', 'altuera', 'sesiozale', 'engainabide', 'gazteok', 'heriotza-arriskutik', 'zaitzala', 'maitasunik', 'ahuspezten', 'garaipena', 'apostoluetan', 'diozuenok', 'hartuta', 'bietako', 'ate', 'sinesmen-dohaina', 'gogotsuago', 'arinegi', 'pozgarriekin', 'begiramenik', 'emaitza', 'neskatxekin', 'zeramate', 'atxilotzeko', 'otzantasun', 'atzerrira', 'asto', 'besteetan', 'oinordekotza', 'beteraino', 'bazeundete', 'sufrimenduengatik', 'handitzea', 'baitzuen—', 'aurrenik', 'errege-jantzitan', 'sasiprofetei', 'zergalariekin', 'zigiluz', 'animaliak', 'gozatu', 'atzamar', 'zinenean', 'atseden', 'zaharretariko', 'jainko-oroitarriei', 'salba-txaluparen', 'bihotz', 'idorretan', 'zihoa', 'jantziaz', 'etorrerarekin', 'itsu-itsuan', 'opilak', 'ditzake', 'zimeltzen', 'santuekin', 'berezirik', 'ituneko', 'sei', 'ondasunetan', 'erantzungo', 'otoitzetan', 'garagar', 'sobera', 'gabekoen', 'nahaspilatua', 'zuhaitzetan', 'eramatea', 'zigorkatu', 'ikasbiderako', 'zatitzen', 'izeneko', 'gutxietsi', 'olibarik', 'janariarentzat', 'niregan', 'predikatzea', 'errudun', 'ematea', 'daitezke', 'aholkatu', 'zenbait', 'zigortze', 'ondoratu', 'aintzarekin', 'bekatu', 'galdegin', 'ikuskari', 'kilo', 'gogorrena', 'badabiltza', 'gaudenok', 'lizunkeriatik', 'ahulduak', 'zerbitzu-lagun', 'itxaropenik', 'zortzi', 'makila', 'desobeditu', 'gazitu', 'libratzeko', 'hauetakoren', 'irri', 'duzuenaz', 'dakizkien', 'nautenean', 'dagokio', 'lotsarien', 'irakatsietan', 'begiradapean', 'sonatu', 'duintasunik', 'gaizki-esateak', 'tolesgabe', 'artzain', 'onaz', 'talde', 'xeheki', 'etorri', 'gezurrontzi', 'oinarri', 'turuta', 'siriarra', 'heriotza-epaia', 'gainetan', 'probaldi', 'baitie', 'adierazte', 'jan', 'matxinatu', 'itzularazten', 'seiehun', 'gutun', 'diotenei', 'mementoan', 'txikiagokorik', 'lizuke', 'emaztegaia', 'baitzaituztete', 'zaitezela', 'sorginkeria', 'apaiz-zerbitzua', 'sakabanatu', 'usaimena', 'ezkutueneraino', 'agiritzat', 'etxeraino', 'zeru-lurretan', 'egindakoarekin', 'gakizkion', 'aldare', 'zatoz', 'oparietatik', 'gomendio-gutuna', 'zueki', 'bade', 'ezkerrekoei', 'buruarinak', 'haiekin', 'esku-erakutsiak', 'biguna', 'badizkio', 'diozuenari', 'nauzuela', 'zaitzakete', 'hartzekotan', 'noa', 'zeundeten', 'aterata', 'dizkigunak—', 'egiteraino', 'ezkerrak', 'nauenarengan', 'trebe', 'gutxiesten', 'usadioen', 'entzutea', 'isilpean', 'bagabiltza', 'lurraldeaz', 'norbera', 'bihozberatasunagatik', 'mesede', 'nolatan', 'zaiela', 'gonbidatu', 'zelata', 'garagar-ogi', 'mugen', 'egiazta', 'nizkizuke', 'itxurazkoa', 'mahatsondoari', 'zirudion', 'belarrietaraino', 'tronutan', 'zuregatik', 'hilabetetan', 'lapurrek', 'ondorio', 'bazterreta', 'esanezin', 'harrigarriengatik', 'joanik', 'bikain', 'atzerriko', 'mahaiburuan', 'arduradun', 'dituenentzat', 'irakastea', 'ni', 'parabolen', 'gorputzarekin', 'harresiz', 'mendetan', 'bailirateke', 'dituztenek', 'galilearra', 'tratu', 'erdizka', 'geunde', 'aurki', 'aterarazi', 'bereizi', 'giza', 'eskarlata', 'dioela', 'ukendu', 'darionetik', 'ilunean', 'adulteriogile', 'horixka', 'huen', 'joka', 'girgiluz', 'salta', 'nabariago', 'emate', 'zezen', 'hatzak', 'hori', 'eroapenik', 'zerbitzu', 'etorkizuna', 'irakurri', 'irin', 'jainkozko', 'izurrirekin', 'joanarazi', 'aginpide', 'naizeneko', 'gainerakoez', 'gurutziltzatze', 'eztei-otordura', 'infernuko', 'zuengandiko', 'biri', 'hura', 'ezjakinek', 'egindakoaren', 'frogatuko', 'bere-berea', 'zurekin', 'ederrekoak', 'kontzientziagatik', 'errebeldeagan', 'gorputzetik', 'faltsu', 'sasoia', 'altxabide', 'burdina', 'atseginkeriaren', 'hutsegiteengatik', 'zainpean', 'eramanarazi', 'ertzainak', 'leize-zuloko', 'dezakeela', 'hiltzaile', 'garesti', 'herriarekin', 'beronek', 'beti', 'garbikuntzetarako', 'adarrek', 'probintzia', 'sendotze', 'larrialdiaz', 'alfer-gaizto', 'semeetako', 'ikasiekin', 'bidaia', 'kontra', 'gaituela', 'zuhaitz', 'jar', 'zigorretik', 'errezelaren', 'mendietara', 'zuenaz', 'arte', 'unibertsoa', 'egunean', 'nituenentzat', 'direnentzat', 'baitute', 'delakoan', 'titirik', 'bekatuareki', 'darabilen', 'nahas', 'badiezu', 'soineko', 'gorputzean', 'zalapartan', 'barkamen-oparirik', 'ezikasiekin', 'ahalako', 'nekatu', 'zorrotzena', 'azaltze', 'sal', 'ulerterraza', 'aita-amen', 'itsu', 'fariseuengana', 'ogi-zatitzea', 'jomuga', 'bazintuztete', 'besteengandik', 'emakumearentzat', 'garraztu', 'kaskamotz', 'zizkidan', 'ideien', 'jarrita', 'lapurreta', 'mendekatu', 'adoratzaileek', 'lehorraldetik', 'goi-goiko', 'usapal', 'luxuan', 'esperientzia', 'holako', 'gaude', 'sar', 'xuxen', 'zuzengabe', 'ernearazi', 'aitzakiatzat', 'saltzaile', 'gorabeheren', 'gorputzik', 'baikintuen', 'jarraitzaileok', 'entzute', 'denik', 'ikasleok', 'laurdenaren', 'zerama', 'luza', 'zigorpean', 'sakabanaturiko', 'goraino', 'dit', 'hausnartu', 'lauoineko', 'agataz', 'ikusaraziko', 'zabar', 'baitiozue', 'galgarria', 'eratzean', 'kate', 'dagozkionez', 'norberekeria', 'datorrenaz', 'irudi', 'senipartea', 'zeukaat', 'hiltzea', 'nizueke', 'sasijainko', 'ikurtzat', 'emazteagandik', 'berriarentzat', 'harrotze', 'agerturiko', 'soinu', 'ere', 'kirtenkeria', 'baitezake', 'baduzu', 'anitz', 'are', 'hitaz', 'gal', 'artaldearentzat', 'pentsamendu', 'ardietakoak', 'olio', 'euroakiloi', 'maisu', 'senideaz', 'bideetara', 'jende-talde', 'bizileku', 'sugarretan', 'azaldu', 'banaketa', 'eskuetatik', 'diotenez', 'uneoro', 'idolatria', 'senean', 'dizkiot', 'gogoraraziko', 'bular-joka', 'bide-lapurra', 'hamabost', 'izu', 'naturak', 'antzemango', 'gindoaze', 'opariaz', 'larunbat', 'bederen', 'irainik', 'bake', 'izu-ikaraz', 'ezkontzea', 'munduarekin', 'bati', 'zahartzean', 'zoritxarra', 'egokiagoak', 'bakoitzarengatik', 'neuri', 'bazaude', 'ikustea', 'salbatzea', 'irrits', 'berta', 'zer-nola', 'hutsik', 'erasopean', 'itota', 'inguratu', 'jendarteko', 'ahuntz-', 'neuregan', 'pozoitsurik', 'itxurakoak', 'puntetatik', 'bazaigu', 'hondamendirako', 'pertsegitzaile', 'gizonezko', 'badiete', 'harrek', 'ur-putzura', 'sinesgogorkerian', 'paperez', 'izterrean', 'juduentzat', 'saiatzen', 'mespretxu', 'pareraino', 'pentsatzen', 'mundukoek', 'kultu-ospakizun', 'esne', 'txerrizain', 'zabaltze', 'nautenek', 'argiro', 'arduradunengana', 'maitasunean', 'bildu', 'ezkutuaz', 'badituzue', 'matxinsaltoak', 'probatzeko', 'zaituztela', 'ergel', 'ostean', 'putzu-ertzean', 'urratzen', 'izendatu', 'adarrak', 'atal', 'botatako', 'gidatu', 'senarrei', 'eredutzat', 'ibiltzeagatik', 'baratzezaina', 'esku-oinak', 'nauela', 'itsatsi', 'intziriz', 'behazunez', 'etsitzen', 'dizuenari', 'agorra', 'banauzue', 'apainduraz', 'sortzea', 'inongo', 'eskutan', 'borondate', 'iezaiezu', 'mutilarengandik', 'bihozgabetuei', 'deabruenetik', 'frogatzea', 'handitasuna', 'sabaktani', 'aurkitze', 'zegokion', 'bidaltze', 'salatu', 'zitarak', 'gaitzesgarri', 'nabaritzen', 'zenidakete', 'askori', 'mana', 'badute', 'behar-beharrezko', 'badiot', 'mordoak', 'ahalmenaz', 'ondorengoontzat', 'zieten', 'dizkidazue', 'bera', 'buruzagiarekin', 'arrantzu-lagun', 'kontsolazio-garaia', 'dakizula', 'zezakeen', 'hilketa', 'portu', 'gaurdaino', 'erbestealdira', 'gutxiets', 'amatistaz', 'zorrora', 'asmoetatik', 'isekariak', 'neskame', 'jaio', 'ordaintzerik', 'ikas', 'kristau-bizitzarako', 'dantzan', 'arbasoagandik', 'usain', 'zuhurki', 'bezalaxe—', 'mutiko', 'bizi-arnasa', 'landutakoaz', 'libratzeari', 'lankide', 'baketzeko', 'janariei', 'hilerri', 'agerrarazteko', 'gazia', 'miragarri', 'desegiteko', 'karraska', 'joan-etorri', 'esaiezue', 'diguzu', 'gizabidetsu', 'jartze', 'uraska', 'sendotzea', 'etzi', 'barazki', 'musika-tresnekin', 'zerbitzu-egunak', 'arrautza', 'bederatziak', 'ezertarako', 'laugarren', 'zenekiten', 'badiozu', 'eska', 'huraxe', 'engainatzaile', 'errebelatu', 'epai-agiria', 'dire', 'eguzki-argirik', 'eraso', 'irakurtzeaz', 'zinete', 'alditxo', 'gogo-bihotzak', 'loaz', 'flotagarria', 'berehala', 'honenbesteko', 'egoera', 'sarraraztean', 'tronuraino', 'burutapen', 'hoa', 'gintuztenean', 'kito', 'makurkeria', 'aurka', 'herdoil', 'bakegileak', 'ongietorria', 'semetxook', 'burugabe', 'oinarrizko', 'bil', 'adore', 'tentatzailea', 'biziotsua', 'errukiaz', 'sarearekin', 'hurbiletik', 'ureztatu', 'harrokeria', 'batzuei', 'garbitasun', 'jelosia', 'amildegi', 'tutik', 'ondorengo', 'bularrekotzat', 'artzaintzarako', 'lege-liburu', 'nasaikeria', 'hezurrekin', 'bateko', 'lotsarazi', 'sufrea', 'dizuedanagatik', 'gaixotzen', 'gehiegizko', 'daude', 'ederraren', 'otzan-otzan', 'erdi', 'turuta-hots', 'aipatzea', 'gutizia', 'mingots', 'haiengan', 'zazpi', 'txalupetara', 'probaldikoan', 'librearengandikoa', 'zepoan', 'aginpidearekin', 'dizkizut', 'ondaretzat', 'heriotzagatik', 'eguneko', 'zekor-irudia', 'oroitu', 'neurrigabez', 'gupidatzen', 'liburuxka', 'jaspe', 'salneurria', 'ixte', 'apaltasunez', 'grinei', 'ihardetsi', 'zeude', 'hezi', 'lehia', 'zaitezkete', 'habetik', 'lasterka', 'biok', 'gudarosteekin', 'ezpainez', 'argitasunagatik', 'jaiotze', 'pobre', 'lankideekin', 'hondamenera', 'bidenabar', 'maitagarri', 'jakinaraz', 'diogu', 'bigarren', 'neurritan', 'eskuzabaltasuna', 'aztiekin', 'tenplu', 'zebiltza', 'dezakete', 'betikotasun', 'neketsuetan', 'hastear', 'zenituzte', 'bihozberatasunez', 'gehiago', 'musu', 'makalduak', 'duenarentzat', 'goienetan', 'sarituko', 'aintzirari', 'diru-bilketari', 'ikertzen', 'zor', 'zeuekin', 'duzuenongan', 'nahaspilatzen', 'txertatu', 'dizuedalako', 'zoazte', 'arabiar', 'jauregikoek', 'mihiari', 'bakoitzarengan', 'diezue', 'horituak', 'hain', 'belarri-gogor', 'hilarazteko', 'joandako', 'naukate', 'ohi', 'laburki', 'igerian', 'egin', 'gurasook', 'zaborraren', 'zintuztedanean', 'zoritxarrekoak', 'laguntzaileetako', 'kutsatuekin', 'naute', 'ilberri', 'edanda', 'balia', 'fede-gordailua', 'nazazue', 'onespen', 'aurkezteko', 'datza', 'itxaropen', 'eskualdatu', 'kriseilu', 'zaretenez', 'bihotz-bihotzeko', 'zuenetik', 'artizar', 'maiseatzaile', 'konparatuko', 'oztopatzeko', 'zaituztenean', 'burutazioak', 'gizonki', 'babeskitzat', 'jendetza', 'gupidarik', 'zitekeen', 'ureta', 'zitararekin', 'gintuen', 'lurrean', 'iraintzaile', 'erantzuten', 'zuenagatik', 'misteriotsu', 'hurreratu', 'senarrarentzat', 'oneratzen', 'huts', 'zituen—', 'zeza', 'jarrerari', 'bazkaltzen', 'aberastasun', 'baitakigu', 'diguzue', 'irakatsiekin', 'hamarre', 'indarrari', 'ate-atean', 'bihotzik', 'ikasleengana', 'ondare', 'zahar', 'naizenean', 'diruzale', 'diezagun', 'ehuntari', 'eten', 'zuengatik', 'baitiote', 'guztiarentzat', 'gaizkile', 'bildots', 'eskumotz', 'zaionik', 'musuka', 'alferkerian', 'badaezpada', 'duzuenok', 'kum', 'leialtasun', 'itxurakeria', 'zaharrok', 'dian', 'desegin', 'eror', 'laster', 'ziliziar', 'genion', 'genizkizuen', 'prostituzio', 'osasundunek', 'bailitzan', 'sutara', 'emakeria-zaleek', 'gaiztakeriarekin', 'biziarazi', 'zerutarrena', 'esan', 'lukete', 'bazkari', 'alderdikoekin', 'itxaropenagatik', 'kanpotarrek', 'ikusita', 'dibortzio-agiria', 'emakumeok', 'hauentzat', 'karratua', 'gazteenaren', 'irakaspen', 'zuzen', 'ahalegintzen', 'edota', 'listua', 'elbarriak—', 'errauts', 'litzakeen', 'zilargin', 'zio', 'estualdietan', 'mendietan', 'goriaren', 'igurzten', 'egiodan', 'esanetan', 'dituenik', 'salbamen-mezu', 'setiatu', 'eskualdeetara', 'diezazueket', 'zeinengatik', 'diozuela', 'daki', 'datoz', 'kolpetik', 'irakurleak', 'saleroslea', 'goizetik', 'zeu', 'noraezean', 'badaramatzate', 'hamahiru', 'motz-motz', 'nindukezue', 'hegazti', 'maitasunagatik', 'egunaz', 'kuartelera', 'pertsona', 'gizendu', 'kontrolpean', 'eskuetan', 'bide-lapurren', 'anega', 'festa', 'bazire', 'baitio', 'diotsuegu', 'zeramatzaten', 'hiltzaileentzat', 'lotatik', 'uzta-jabeari', 'lohikeriei', 'aintzatsuagan', 'konta', 'ezagutzarekin', 'uztarria', 'hodeipean', 'kartsuki', 'nagusi', 'igitariei', 'urteetan', 'zorionik', 'komun-zulora', 'goreste', 'bideaz', 'otoi', 'dabiltzala', 'gizonarekin', 'enperadoreari', 'ministroa', 'zehazki', 'eranzteko', 'zatikatuak', 'kemen', 'baserri', 'txopa', 'senera', 'direneko', 'utzi', 'iristear', 'bezate', 'larunbat-bezpera', 'opariagatik', 'gozotasunean', 'hauekin', 'ehunaka', 'urteetarako', 'aurrekoen', 'zeramatza', 'zerukoaren', 'argiontziz', 'daukat', 'isilpeko', 'gertatutakoaz', 'zitzaketen', 'harako', 'errege-izendapena', 'adibidea', 'harremanik', 'eskerako', 'gustura', 'zorroztasuna', 'zuela', 'itxurazaleok', 'grinekin', 'itzazue', 'hesia', 'ekialdera', 'homosexualentzat', 'mirra', 'igitaiaz', 'zaldi', 'aurreratu', 'egonik', 'zaharrek', 'berandu', 'igarotzea', 'burugogorkeriagatik', 'adierazpen', 'zintugun', 'lubakiz', 'badut', 'aroak', 'egoitza', 'txarkeriaz', 'eraginkor', 'alaitasunez', 'isekatzen', 'gertatzekoa', 'aginduaz', 'itzulminez', 'binaka', 'lizunkeri', 'beso', 'kalte', 'listuz', 'bururatu', 'irakatsi', 'madarikazio', 'haragi', 'arrainetariko', 'jaiegunean', 'beldurraren', 'pazko-ogiak', 'heriotzaraino', 'epai-', 'trebetasunaren', 'no', 'salbamenera', 'afari', 'grekoz', 'oinordeko', 'iraupentsu', 'handiputz', 'nindoan', 'handinahi', 'besteok', 'baita', 'bukatze', 'egindakoen', 'egiteetan', 'zokorik', 'ezazu', 'errege-agintea', 'guardiekin', 'sartaldetik', 'irten', 'arima', 'dabil', 'oraintsu', 'zati', 'agudo', 'baitiezue', 'ogi-legamiarekin', 'berri', 'heure', 'zirenekin', 'artisauek', 'jauretxeko', 'atzamar-muturra', 'igo', 'motel', 'dizkizuet', 'gadaratarren', 'juduok', 'hilobi-sarrerako', 'matxinadakoan', 'heriotza-zigorra', 'koroatua', 'mutil', 'arduratzea', 'txita-taldea', 'gintuzten', 'heriotza-mehatxua', 'santu', 'berebiziko', 'bikainetik', 'batean', 'zekite', 'itsuskeriek', 'testigutzat', 'guztiongatik', 'goraipatzen', 'zihoazkion', 'galdetzera', 'ordaintzea', 'ziurtagiriak', 'liratekeela', 'berarekin', 'guztieta', 'neurtzeko', 'baikara', 'bekizue', 'larrean', 'bertaraino', 'tiraka', 'sagarapena', 'ditzakegu', 'zulatzen', 'baserrietara', 'hainbeste', 'dizkigu', 'hi', 'erromes', 'amiltzen', 'agiraka', 'maldizioka', 'jotakoak', 'kutxa', 'torturapean', 'sugar', 'behingoz', 'gurasooi', 'harrika', 'hiritargo', 'tentaldiarekin', 'zaudete', 'diezaiegun', 'zirika', 'jasate', 'falta', 'harkaitzetik', 'zela-eta', 'zulotik', 'nazioekin', 'harantzago', 'zaharreta', 'ahal', 'halakook', 'daudenentzat', 'deabruarekin', 'mandio', 'horrelaxe', 'uztarpera', 'lanera', 'soineko-ertza', 'gurasoekin', 'zirrara', 'atzetik', 'herritarrengandik', 'urruntzean', 'irainka', 'hogeita', 'erabakita', 'dolu-jantziz', 'erantzunik', 'nauzue', 'lehoi', 'ibiltzea', 'jakinarazten', 'tha', 'gidatze', 'abere', 'hari', 'ortziko', 'zeharo', 'egintza', 'jatorragoak', 'garantiatzat', 'hizki', 'prestatze', 'jipoi', 'zoritxarrengatik', 'burudunak', 'pobretasuna', 'fededunentzat', 'kiroldegian', 'olatu', 'egiari', 'harrikada', 'ahuleziagatik', 'lapurretez', 'lanik', 'dizkigula', 'esaera', 'piztia', 'izurrite', 'tantaka', 'beraiek', 'arau', 'babesera', 'zitzaidan', 'gizon-multzo', 'bazuten', 'dakigula', 'ur-iturriak', 'izarretan', 'zazpigarren', 'diezazkietela', 'kilometro', 'sortze', 'belarrietan', 'beharrez', 'etorrerari', 'lanpetua', 'oihal-zerrendaz', 'bekaturako', 'dizudan', 'gogo-gaiztotu', 'zintuzteten', 'kabuz', 'hilkutxa', 'goratzeagatik', 'laurogeita', 'zatozkidate', 'dituztenean', 'nazaretarren', 'bultzatzen', 'batere', 'hintzen', 'gazteagoak', 'zeru-lurrak', 'estimatuak', 'hamarnaka', 'bazegoen', 'estuasun', 'argi', 'herri', 'herritan', 'izango', 'seme-alabatxooi', 'zetoze', 'birjina', 'mintzatuz—', 'leporatu', 'gizonarengandik', 'sutearen', 'madarikatzeagatik', 'hauexek', 'agerpenez', 'ahotsik', 'hitz-jarioari', 'gainerakoek', 'haserre-zigorrez', 'alaitasunean', 'lokarrietatik', 'zigor-ardoa', 'askotan', 'oin-aulkitzat', 'aginduta', 'marmarrik', 'aingeruri', 'galdutako', 'jatorrikoei', 'tesalonikarrak', 'negu', 'nabarian', 'eztabaidatan', 'soldadu', 'asetze', 'gainditzeak', 'berriketa', 'ogi', 'lorea', 'saihetsa', 'baitzaituzte', 'entzunik', 'oraldi', 'ke-mordoa', 'umetandik', 'itxura', 'zabal-zabal', 'familiatik', 'gose-egarri', 'diruarekin', 'ahots', 'jantzietan', 'galde', 'goretsi', 'plazetan', 'lagunkide', 'eramate', 'izen', 'ehortzi', 'konketara', 'zentzugabeetatik', 'hamalau', 'okerbidetik', 'txerriena', 'irtenarazi', 'aukeratutakoei', 'deiarazi', 'setakeriaz', 'ahariarenak', 'bizkarrean', 'lehendik', 'ohoragarri', 'zirudien', 'baitator', 'hagoela', 'barkazio', 'erromatar', 'handiesten', 'bihurtzeraino', 'iragazten', 'su-txingarrez', 'elkarrekin', 'leialtasunik', 'kazkabar-izurriagatik', 'partaide', 'sinesgogor', 'moztu', 'arinago', 'soldatarekin', 'labur', 'zehar', 'hozka', 'lege-gizon', 'aski', 'nituen', 'libre', 'horretaz', 'dizuetenean', 'zigorkarazi', 'adimenik', 'oraintxe', 'denetan', 'daukazuela', 'bidearekin', 'zueta', 'begiekin', 'akerrak', 'desagertzea', 'bidalita', 'mazedoniar', 'sukarrez', 'besakada', 'zabalik', 'baitatorkigu', 'gaiztakeri', 'isatsez', 'jaietara', 'behartzen', 'dolu', 'baitzion', 'hegalpean', 'da-eta', 'buru', 'sufrimenduetan', 'moteldu', 'elurra', 'debekatzen', 'diezada', 'daukazula', 'abar', 'goiaingeruak', 'olo', 'garbitze', 'gogotsu', 'marrumaka', 'ziote', 'urrearengatik', 'lehorrera', 'daudenean', 'etsita', 'irakastaldian', 'bataio-modu', 'horreta', 'mugetan', 'nonbait', 'zaizkionei', 'etsenpluari', 'fariseuetako', 'haserre-zigorrari', 'itsuskeria', 'franko', 'gaituenarengana', 'beharretan', 'tripazain', 'denaren—', 'bihotzetara', 'gisa', 'saritzeko', 'galilearrarekin', 'gatza', 'munduarentzat', 'probetxurako', 'errentan', 'faraoiaren', 'hutsaletan', 'uztea', 'xehekiago', 'eraman—', 'apurtxo', 'erreguaz', 'apalkuntzaz', 'zergalari-burua', 'badatorkie', 'uztarpean', 'ahalmenik', 'zihoaze', 'arratsaldeko', 'aurkez', 'esklabotza', 'baitzaituztet', 'bakarrari', 'helmugara', 'jendetzarekin', 'besteaz', 'oparo', 'ospatu', 'urre-zilarrak', 'sendatzea', 'etiopiar', 'urtetan', 'bihurri', 'sodomitek', 'iheskorrak', 'aitortze', 'doakion', 'atsekabetuoi', 'soldata', 'eskubideetan', 'jagolearen', 'zenbakia—', 'denboraldi', 'bizidunetatik', 'ertzetan', 'aitarengandik', 'onuragabe', 'serioski', 'deitzea', 'bukaera', 'hildakoengatik', 'indarberri', 'euskarri', 'iratzartzera', 'esateagatik', 'bultzaka', 'marka', 'gaituztela', 'neuretzako', 'hilkorrean', 'betetasuna', 'ospatzen', 'sorkari', 'txarrengatik', 'mututurik', 'geroztik', 'mozkor', 'mundu', 'zerabilten', 'eginbehar', 'mespretxaturiko', 'dutenik', 'kontatzen', 'zaharrenetatik', 'noranahi', 'dizkie', 'zutiarazi', 'artisauei', 'barkamen-oparitzat', 'hurko', 'freskatzera', 'iristerik', 'izar'}\n"
     ]
    }
   ],
   "source": [
    "print(unmodeled)"
   ]
  },
  {
   "cell_type": "markdown",
   "metadata": {},
   "source": [
    "### Discuss the affixes and derivations the model finds (6pt)\n",
    "\n",
    "Using the word list and the derivation dictionary, try to explore the affixes you extracted for your language. Use techniques such as the extraction of morphological families, as well as the on-screen print-out of the `learn_morphology` function. Use the Wikipedia page to see if you can determine what the affixes are (are they case markers, or tense-aspect-modality markers, or gender, or evidentiality, or ...).  Leave the code you use for the exploration up so I can see it. Use the text cell at the very bottom to describe your findings. Include discussion of the affixes you failed to find in your description."
   ]
  },
  {
   "cell_type": "code",
   "execution_count": 42,
   "metadata": {},
   "outputs": [
    {
     "data": {
      "text/plain": [
       "['a',\n",
       " 'abantailarik',\n",
       " 'abar',\n",
       " 'abegi',\n",
       " 'aberasbide',\n",
       " 'aberasgarriago',\n",
       " 'aberastasun',\n",
       " 'aberastasuna',\n",
       " 'aberastasunak',\n",
       " 'aberastasunarekin',\n",
       " 'aberastasunari',\n",
       " 'aberastasunen',\n",
       " 'aberasten',\n",
       " 'aberastu',\n",
       " 'aberastuak',\n",
       " 'aberats',\n",
       " 'aberatsa',\n",
       " 'aberatsak',\n",
       " 'aberatsaren',\n",
       " 'aberatsei',\n",
       " 'aberatsez',\n",
       " 'aberatsok',\n",
       " 'abere',\n",
       " 'abere-aska',\n",
       " 'abere-odola',\n",
       " 'aberea',\n",
       " 'abereak',\n",
       " 'aberearena',\n",
       " 'abereek',\n",
       " 'abereen',\n",
       " 'abererik',\n",
       " 'aberriaren',\n",
       " 'abesten',\n",
       " 'abestu',\n",
       " 'abestuz',\n",
       " 'abia',\n",
       " 'abiatu',\n",
       " 'abiatuko',\n",
       " 'abiaturik',\n",
       " 'abiatzeko',\n",
       " 'abiatzera',\n",
       " 'abisua',\n",
       " 'abokatu',\n",
       " 'adabaki',\n",
       " 'adabakia',\n",
       " 'adabakiak',\n",
       " 'adabakirik',\n",
       " 'adar',\n",
       " 'adar-hostoak',\n",
       " 'adarrak',\n",
       " 'adarrek',\n",
       " 'adarretan',\n",
       " 'adarrok',\n",
       " 'adaxkak',\n",
       " 'adi-adi',\n",
       " 'adibidea',\n",
       " 'adibideak',\n",
       " 'adibidez',\n",
       " 'adieraz',\n",
       " 'adierazgarri',\n",
       " 'adierazi',\n",
       " 'adierazia',\n",
       " 'adieraziko',\n",
       " 'adierazirik',\n",
       " 'adierazitako',\n",
       " 'adieraziz',\n",
       " 'adierazpen',\n",
       " 'adierazpena',\n",
       " 'adieraztea',\n",
       " 'adieraztean',\n",
       " 'adierazteari',\n",
       " 'adierazteko',\n",
       " 'adierazten',\n",
       " 'adimen',\n",
       " 'adimena',\n",
       " 'adimenaren',\n",
       " 'adimenaz',\n",
       " 'adimengabeko',\n",
       " 'adimenik',\n",
       " 'adina',\n",
       " 'adina-eta',\n",
       " 'adinako',\n",
       " 'adinakorik',\n",
       " 'adineko',\n",
       " 'adinekoen',\n",
       " 'adingabekoa',\n",
       " 'adingabekoak',\n",
       " 'adiskide',\n",
       " 'adiskidea',\n",
       " 'adiskideak',\n",
       " 'adiskideei',\n",
       " 'adiskideek',\n",
       " 'adiskideengana',\n",
       " 'adiskideok',\n",
       " 'adiskiderik',\n",
       " 'adiskidetasuna',\n",
       " 'adiskidetu',\n",
       " 'adiskidetzearen',\n",
       " 'adiskidetzeko',\n",
       " 'aditu',\n",
       " 'aditua',\n",
       " 'adituak',\n",
       " 'aditurik',\n",
       " 'aditzen',\n",
       " 'aditzera',\n",
       " 'administratzaile',\n",
       " 'administratzailea',\n",
       " 'administratzaileari',\n",
       " 'administratzaileen',\n",
       " 'administratzailetzat',\n",
       " 'adora',\n",
       " 'adoragarri',\n",
       " 'adoratu',\n",
       " 'adoratuko',\n",
       " 'adoratzaileek',\n",
       " 'adoratzeko',\n",
       " 'adoratzen',\n",
       " 'adore',\n",
       " 'adore-emailea',\n",
       " 'adorea',\n",
       " 'adorean',\n",
       " 'adorearen',\n",
       " 'adoreari',\n",
       " 'adoreaz',\n",
       " 'adoregarri',\n",
       " 'adoretsu',\n",
       " 'adoretu',\n",
       " 'adoretuz',\n",
       " 'adoretzeko',\n",
       " 'adoretzen',\n",
       " 'adorez',\n",
       " 'ados',\n",
       " 'adulterio',\n",
       " 'adulterio-irrikaz',\n",
       " 'adulterioa',\n",
       " 'adulterioak',\n",
       " 'adulterioan',\n",
       " 'adulteriogile',\n",
       " 'adulteriogileak',\n",
       " 'adulteriogileek',\n",
       " 'adulteriora',\n",
       " 'adulteriorik',\n",
       " 'afal',\n",
       " 'afaldu',\n",
       " 'afalduko',\n",
       " 'afalondoan',\n",
       " 'afaltzen',\n",
       " 'afari',\n",
       " 'afaria',\n",
       " 'afarikoan',\n",
       " 'afariren',\n",
       " 'agataz',\n",
       " 'ager',\n",
       " 'ageri',\n",
       " 'ageri-ageriko',\n",
       " 'ageria',\n",
       " 'agerian',\n",
       " 'agerpena',\n",
       " 'agerpenak',\n",
       " 'agerpenetara',\n",
       " 'agerpenez',\n",
       " 'agerpenik',\n",
       " 'agerrarazi',\n",
       " 'agerraraziko',\n",
       " 'agerrarazteko',\n",
       " 'agertu',\n",
       " 'agertuko',\n",
       " 'agerturiko',\n",
       " 'agertuz',\n",
       " 'agertzea',\n",
       " 'agertzean',\n",
       " 'agertzeko',\n",
       " 'agertzen',\n",
       " 'agian',\n",
       " 'agindu',\n",
       " 'agindua',\n",
       " 'aginduak',\n",
       " 'aginduaren',\n",
       " 'aginduari',\n",
       " 'aginduaz',\n",
       " 'aginduei',\n",
       " 'aginduen',\n",
       " 'aginduko',\n",
       " 'agindurik',\n",
       " 'aginduta',\n",
       " 'agindutako',\n",
       " 'agindutakoa',\n",
       " 'agindutakoak',\n",
       " 'agindutik',\n",
       " 'aginduz',\n",
       " 'aginpide',\n",
       " 'aginpidea',\n",
       " 'aginpidearekin',\n",
       " 'aginpidearen',\n",
       " 'aginpideaz',\n",
       " 'aginpiderik',\n",
       " 'aginpidez',\n",
       " 'agintari',\n",
       " 'agintaria',\n",
       " 'agintariak',\n",
       " 'agintariari',\n",
       " 'agintariei',\n",
       " 'agintariek',\n",
       " 'agintariekin',\n",
       " 'agintarien',\n",
       " 'agintariena',\n",
       " 'agintariengana',\n",
       " 'agintarietatik',\n",
       " 'aginte',\n",
       " 'agintea',\n",
       " 'agintealdiko',\n",
       " 'agintedunek',\n",
       " 'aginterik',\n",
       " 'agintzari',\n",
       " 'agintzaria',\n",
       " 'agintzariak',\n",
       " 'agintzariaren',\n",
       " 'agintzariari',\n",
       " 'agintzarien',\n",
       " 'agintzea',\n",
       " 'agintzean',\n",
       " 'agintzeko',\n",
       " 'agintzen',\n",
       " 'agiraka',\n",
       " 'agirian',\n",
       " 'agiritzat',\n",
       " 'agorra',\n",
       " 'agorrak',\n",
       " 'agortu',\n",
       " 'agorturik',\n",
       " 'agudo',\n",
       " 'agur',\n",
       " 'agurgarri',\n",
       " 'agurgarria',\n",
       " 'agurgarriak',\n",
       " 'agurka',\n",
       " 'agurra',\n",
       " 'agurrak',\n",
       " 'agurtu',\n",
       " 'agurtzean',\n",
       " 'agurtzen',\n",
       " 'agurtzera',\n",
       " 'ahaide',\n",
       " 'ahaideak',\n",
       " 'ahaideari',\n",
       " 'ahaideek',\n",
       " 'ahaideen',\n",
       " 'ahal',\n",
       " 'ahala',\n",
       " 'ahalako',\n",
       " 'ahalakoa',\n",
       " 'ahalbideen',\n",
       " 'ahalegin',\n",
       " 'ahaleginak',\n",
       " 'ahalegindu',\n",
       " 'ahalegintzen',\n",
       " 'ahalguztiduna',\n",
       " 'ahalguztidunaren',\n",
       " 'ahalik',\n",
       " 'ahalmen',\n",
       " 'ahalmena',\n",
       " 'ahalmenak',\n",
       " 'ahalmenaren',\n",
       " 'ahalmenari',\n",
       " 'ahalmenaz',\n",
       " 'ahalmenez',\n",
       " 'ahalmenezko',\n",
       " 'ahalmenik',\n",
       " 'ahaltsu',\n",
       " 'ahaltsua',\n",
       " 'ahaltsuagan',\n",
       " 'ahaltsuago',\n",
       " 'ahaltsuak',\n",
       " 'ahaltsuaren',\n",
       " 'ahaltsuaz',\n",
       " 'ahaltsuekin',\n",
       " 'ahariarenak',\n",
       " 'ahazten',\n",
       " 'ahaztu',\n",
       " 'ahaztuko',\n",
       " 'ahazturik',\n",
       " 'ahaztuta',\n",
       " 'ahizpa',\n",
       " 'ahizpak',\n",
       " 'ahizpek',\n",
       " 'aho',\n",
       " 'ahoa',\n",
       " 'ahoak',\n",
       " 'ahoan',\n",
       " 'ahoetatik',\n",
       " 'ahoko',\n",
       " 'ahokoa',\n",
       " 'aholkatu',\n",
       " 'aholkatzeko',\n",
       " 'aholku',\n",
       " 'aholkua',\n",
       " 'aholkuak',\n",
       " 'aholkuari',\n",
       " 'ahora',\n",
       " 'ahorako',\n",
       " 'ahotik',\n",
       " 'ahots',\n",
       " 'ahotsa',\n",
       " 'ahotsak',\n",
       " 'ahotsaz',\n",
       " 'ahotsez',\n",
       " 'ahotsik',\n",
       " 'ahoz',\n",
       " 'ahul',\n",
       " 'ahula',\n",
       " 'ahulak',\n",
       " 'ahulduak',\n",
       " 'ahulei',\n",
       " 'ahuleriaz',\n",
       " 'ahuleriez',\n",
       " 'ahulezia',\n",
       " 'ahuleziagatik',\n",
       " 'ahuleziak',\n",
       " 'ahulezian',\n",
       " 'ahuleziaz',\n",
       " 'ahuntz-',\n",
       " 'ahuspez',\n",
       " 'ahuspezten',\n",
       " 'ahuspeztu',\n",
       " 'ahuspezturik',\n",
       " 'ai',\n",
       " 'aiene',\n",
       " 'aieneka',\n",
       " 'aienerik',\n",
       " 'aihena',\n",
       " 'aihenak',\n",
       " 'aingeru',\n",
       " 'aingeru-itxurak',\n",
       " 'aingeru-talde',\n",
       " 'aingerua',\n",
       " 'aingeruagana',\n",
       " 'aingeruak',\n",
       " 'aingeruaren',\n",
       " 'aingeruari',\n",
       " 'aingeruei',\n",
       " 'aingeruek',\n",
       " 'aingeruekin',\n",
       " 'aingeruen',\n",
       " 'aingeruenganako',\n",
       " 'aingeruentzat',\n",
       " 'aingeruetako',\n",
       " 'aingeruren',\n",
       " 'aingerurengana',\n",
       " 'aingeruri',\n",
       " 'aingerurik',\n",
       " 'aingura',\n",
       " 'aingurak',\n",
       " 'ainkoaren',\n",
       " 'aintza',\n",
       " 'aintzak',\n",
       " 'aintzaka',\n",
       " 'aintzan',\n",
       " 'aintzara',\n",
       " 'aintzarako',\n",
       " 'aintzarekin',\n",
       " 'aintzaren',\n",
       " 'aintzarik',\n",
       " 'aintzat',\n",
       " 'aintzatsu',\n",
       " 'aintzatsua',\n",
       " 'aintzatsuagan',\n",
       " 'aintzatsuak',\n",
       " 'aintzatsuan',\n",
       " 'aintzatsuaren',\n",
       " 'aintzaz',\n",
       " 'aintzazko',\n",
       " 'aintzira',\n",
       " 'aintzira-bazterrean',\n",
       " 'aintzira-bazterrera',\n",
       " 'aintzira-ertzean',\n",
       " 'aintzira-ertzera',\n",
       " 'aintzirak',\n",
       " 'aintziran',\n",
       " 'aintzirara',\n",
       " 'aintziraren',\n",
       " 'aintzirari',\n",
       " 'aintziraz',\n",
       " 'aipa',\n",
       " 'aipagarri',\n",
       " 'aipatu',\n",
       " 'aipatuko',\n",
       " 'aipaturiko',\n",
       " 'aipatuz',\n",
       " 'aipatzea',\n",
       " 'aipatzean',\n",
       " 'aipatzeko',\n",
       " 'aipatzen',\n",
       " 'aipatzera',\n",
       " 'airea',\n",
       " 'airean',\n",
       " 'aireko',\n",
       " 'airera',\n",
       " 'aita',\n",
       " 'aita-amak',\n",
       " 'aita-amen',\n",
       " 'aitaginarreba',\n",
       " 'aitak',\n",
       " 'aitarekiko',\n",
       " 'aitarekin',\n",
       " 'aitaren',\n",
       " 'aitarenean',\n",
       " 'aitarengana',\n",
       " 'aitarengandik',\n",
       " 'aitari',\n",
       " 'aitarik',\n",
       " 'aitor',\n",
       " 'aitoren',\n",
       " 'aitormen',\n",
       " 'aitormena',\n",
       " 'aitorpen',\n",
       " 'aitorpen-beharrik',\n",
       " 'aitorpena',\n",
       " 'aitorpenaz',\n",
       " 'aitorrarazteko',\n",
       " 'aitortu',\n",
       " 'aitortua',\n",
       " 'aitortuko',\n",
       " 'aitortuz',\n",
       " 'aitortzeko',\n",
       " 'aitortzen',\n",
       " 'aitortzera',\n",
       " 'aitzakia',\n",
       " 'aitzakiak',\n",
       " 'aitzakiaren',\n",
       " 'aitzakiarik',\n",
       " 'aitzakiatzat',\n",
       " 'aitzakiaz',\n",
       " 'aitzindari',\n",
       " 'aitzinean',\n",
       " 'aitzitik',\n",
       " 'aitzurtu',\n",
       " 'aizkora',\n",
       " 'akats',\n",
       " 'akatsik',\n",
       " 'aker',\n",
       " 'akerrak',\n",
       " 'akerren',\n",
       " 'akerretatik',\n",
       " 'akordio',\n",
       " 'al',\n",
       " 'ala',\n",
       " 'alaba',\n",
       " 'alabagandik',\n",
       " 'alabaina',\n",
       " 'alabak',\n",
       " 'alabaren',\n",
       " 'alai',\n",
       " 'alaitasunean',\n",
       " 'alaitasunez',\n",
       " 'alaitu',\n",
       " 'alargun',\n",
       " 'alargunak',\n",
       " 'alargunei',\n",
       " 'alargunen',\n",
       " 'alarguntsa',\n",
       " 'alarguntsak',\n",
       " 'alarguntsarekin',\n",
       " 'alarguntsarik',\n",
       " 'alarguntsei',\n",
       " 'alarguntsen',\n",
       " 'albiste',\n",
       " 'albistea',\n",
       " 'alboratua',\n",
       " 'aldaezina',\n",
       " 'aldaketarik',\n",
       " 'aldakorra',\n",
       " 'aldarazi',\n",
       " 'aldare',\n",
       " 'aldare-gizonik',\n",
       " 'aldarea',\n",
       " 'aldareagatik',\n",
       " 'aldareak',\n",
       " 'aldarean',\n",
       " 'aldarearekin',\n",
       " 'aldarearen',\n",
       " 'aldareko',\n",
       " 'aldaretik',\n",
       " 'aldarrikatu',\n",
       " 'aldatu',\n",
       " 'aldatua',\n",
       " 'aldatuak',\n",
       " 'aldatuko',\n",
       " 'aldaturik',\n",
       " 'aldatuz',\n",
       " 'aldatzeko',\n",
       " 'aldatzen',\n",
       " 'aldatzera',\n",
       " 'alde',\n",
       " 'aldea',\n",
       " 'aldean',\n",
       " 'aldeetako',\n",
       " 'aldeetatik',\n",
       " 'aldeko',\n",
       " 'aldekoak',\n",
       " 'aldendu',\n",
       " 'aldendua',\n",
       " 'aldenduko',\n",
       " 'aldendurik',\n",
       " 'aldenduz',\n",
       " 'aldentzea',\n",
       " 'aldentzeko',\n",
       " 'aldentzen',\n",
       " 'aldera',\n",
       " 'alderatzekoa',\n",
       " 'alderdikeria',\n",
       " 'alderdikeriak',\n",
       " 'alderdikeriaz',\n",
       " 'alderdiko',\n",
       " 'alderdikoek',\n",
       " 'alderdikoekin',\n",
       " 'aldetara',\n",
       " 'aldetik',\n",
       " 'aldez',\n",
       " 'aldi',\n",
       " 'aldia',\n",
       " 'aldian',\n",
       " 'aldioro',\n",
       " 'alditxo',\n",
       " 'aldiz',\n",
       " 'ale',\n",
       " 'alea',\n",
       " 'alegia',\n",
       " 'alegia—',\n",
       " 'aleturik',\n",
       " 'alexandriarrez',\n",
       " 'alfer',\n",
       " 'alfer-gaizto',\n",
       " 'alferkerian',\n",
       " 'alferra',\n",
       " 'alferreko',\n",
       " 'alferrik',\n",
       " 'alferrikako',\n",
       " 'alferrikakoa',\n",
       " 'alferrikakoak',\n",
       " 'aloe-nahastura',\n",
       " 'altuera',\n",
       " 'altxabide',\n",
       " 'altxarazi',\n",
       " 'altxatu',\n",
       " 'altxatuko',\n",
       " 'altxaturik',\n",
       " 'altxatzen',\n",
       " 'altxatzera',\n",
       " 'altxor',\n",
       " 'altxorrarekin',\n",
       " 'altxorretik',\n",
       " 'altzora',\n",
       " 'ama',\n",
       " 'amaginarreba',\n",
       " 'amaginarrebagandik',\n",
       " 'amaginarrebaren',\n",
       " 'amaigabeko',\n",
       " 'amaitu',\n",
       " 'amaituko',\n",
       " 'amaiturik',\n",
       " 'amaitzean',\n",
       " 'amaitzen',\n",
       " 'amak',\n",
       " 'amantala',\n",
       " 'amaordea',\n",
       " 'amarekin',\n",
       " 'amaren',\n",
       " 'amarengandik',\n",
       " 'amari',\n",
       " 'amarik',\n",
       " 'amatasunaren',\n",
       " 'amatistaz',\n",
       " 'ameskeriek',\n",
       " 'ametsa',\n",
       " 'ametsetan',\n",
       " 'amildegi',\n",
       " 'amildu',\n",
       " 'amilduko',\n",
       " 'amildurik',\n",
       " 'amiltzen',\n",
       " 'amonak',\n",
       " 'amore',\n",
       " 'amore-emailea',\n",
       " 'amorratuak',\n",
       " 'amorraturik',\n",
       " 'amorru',\n",
       " 'amorruz',\n",
       " 'amua',\n",
       " 'anai-arreba',\n",
       " 'anai-arrebak',\n",
       " 'anai-arrebekin',\n",
       " 'anaia',\n",
       " 'anaiak',\n",
       " 'anaiaren',\n",
       " 'anaiarenak',\n",
       " 'anaiari',\n",
       " 'anaiei',\n",
       " 'anaiek',\n",
       " 'anaien',\n",
       " 'anaiok',\n",
       " 'andere',\n",
       " 'andre',\n",
       " 'andregaiarekin',\n",
       " 'anega',\n",
       " 'animaliak',\n",
       " 'animaliek',\n",
       " 'animatu',\n",
       " 'anitz',\n",
       " 'anker',\n",
       " 'antikristo',\n",
       " 'antikristoa',\n",
       " 'antikristoak',\n",
       " 'antikristoarena',\n",
       " 'antolatua',\n",
       " 'antsiaz',\n",
       " 'antxume',\n",
       " 'antzaldatu',\n",
       " 'antzaldatuko',\n",
       " 'antzeko',\n",
       " 'antzekoa',\n",
       " 'antzekoak',\n",
       " 'antzeman',\n",
       " 'antzemango',\n",
       " 'antzemanik',\n",
       " 'antzematen',\n",
       " 'antzera',\n",
       " 'antzik',\n",
       " 'antzina',\n",
       " 'antzinako',\n",
       " 'antzinakoa',\n",
       " 'antzinatik',\n",
       " 'antzokira',\n",
       " 'antzokirantz',\n",
       " 'apain',\n",
       " 'apaindua',\n",
       " 'apainduak',\n",
       " 'apainduraz',\n",
       " 'apaindurik',\n",
       " 'apainekoak',\n",
       " 'apainez',\n",
       " 'apaintzen',\n",
       " 'apaiz',\n",
       " 'apaiz-',\n",
       " 'apaiz-sailaren',\n",
       " 'apaiz-sailekoa',\n",
       " 'apaiz-zerbitzua',\n",
       " 'apaiza',\n",
       " 'apaizak',\n",
       " 'apaizarengana',\n",
       " 'apaizburu',\n",
       " 'apaizburuak',\n",
       " 'apaizburuei',\n",
       " 'apaizburuek',\n",
       " 'apaizburuekin',\n",
       " 'apaizburuen',\n",
       " 'apaizburuengana',\n",
       " 'apaizei',\n",
       " 'apaizek',\n",
       " 'apaizengana',\n",
       " 'apaizgoa',\n",
       " 'apal',\n",
       " 'apal-itxuran',\n",
       " 'apalak',\n",
       " 'apalei',\n",
       " 'apalen',\n",
       " 'apalkuntzaz',\n",
       " 'apaltasunez',\n",
       " 'aparra',\n",
       " 'apartak',\n",
       " 'aparte',\n",
       " 'aparteko',\n",
       " 'apartekotzat',\n",
       " 'apostolu',\n",
       " 'apostolu-itxura',\n",
       " 'apostolu-zerbitzu',\n",
       " 'apostolu-zerbitzua',\n",
       " 'apostoluak',\n",
       " 'apostoluei',\n",
       " 'apostoluek',\n",
       " 'apostoluekin',\n",
       " 'apostoluen',\n",
       " 'apostoluetan',\n",
       " 'apostoluok',\n",
       " 'apostolurik',\n",
       " 'apostolutzat',\n",
       " 'aproposa',\n",
       " 'apur',\n",
       " 'apurra',\n",
       " 'apurtu',\n",
       " 'apurtxo',\n",
       " 'arabera',\n",
       " 'araberako',\n",
       " 'araberakoa',\n",
       " 'araberakoak',\n",
       " 'arabiar',\n",
       " 'arantzatik',\n",
       " 'arantzaz',\n",
       " 'arantzazko',\n",
       " 'arau',\n",
       " 'araua',\n",
       " 'arauekin',\n",
       " 'arauetara',\n",
       " 'arauez',\n",
       " 'arautu',\n",
       " 'arazo',\n",
       " 'arazoa',\n",
       " 'arazoak',\n",
       " 'arazoetan',\n",
       " 'arazoez',\n",
       " 'arazorik',\n",
       " 'arbaso',\n",
       " 'arbasoa',\n",
       " 'arbasoagandik',\n",
       " 'arbasoak',\n",
       " 'arbasoei',\n",
       " 'arbasoek',\n",
       " 'arbasoekin',\n",
       " 'arbasoen',\n",
       " 'arbola',\n",
       " 'arbuiatua',\n",
       " 'ardi',\n",
       " 'ardi-larruz',\n",
       " 'ardia',\n",
       " 'ardiak',\n",
       " 'ardiek',\n",
       " 'ardien',\n",
       " 'ardientzako',\n",
       " 'ardietakoak',\n",
       " 'ardo',\n",
       " 'ardoa',\n",
       " 'ardoak',\n",
       " 'ardoari',\n",
       " 'ardorik',\n",
       " 'ardotik',\n",
       " 'ardoz',\n",
       " 'ardozale',\n",
       " 'ardura',\n",
       " 'arduradun',\n",
       " 'arduradunak',\n",
       " 'arduradunari',\n",
       " 'arduradunei',\n",
       " 'arduradunek',\n",
       " 'arduradunen',\n",
       " 'arduradunengana',\n",
       " 'ardurak',\n",
       " 'arduran',\n",
       " 'ardurapean',\n",
       " 'ardurarik',\n",
       " 'arduratsu',\n",
       " 'arduratu',\n",
       " 'arduratuz',\n",
       " 'arduratzea',\n",
       " 'arduratzeko',\n",
       " 'arduratzen',\n",
       " 'arduraz',\n",
       " 'are',\n",
       " 'areago',\n",
       " 'areagotu',\n",
       " 'arerioen',\n",
       " 'argaltzat',\n",
       " 'argi',\n",
       " 'argi-zuzi',\n",
       " 'argia',\n",
       " 'argiago',\n",
       " 'argiak',\n",
       " 'argiaren',\n",
       " 'argiari',\n",
       " 'argiaz',\n",
       " 'argibide',\n",
       " 'argibideak',\n",
       " 'argibideen',\n",
       " 'argien',\n",
       " 'argikoa',\n",
       " 'argimutil',\n",
       " 'argimutila',\n",
       " 'argimutilak',\n",
       " 'argimutilaren',\n",
       " 'argimutilen',\n",
       " 'argiontziz',\n",
       " 'argirik',\n",
       " 'argiro',\n",
       " 'argitakoak',\n",
       " 'argitan',\n",
       " 'argitara',\n",
       " 'argitaratuko',\n",
       " 'argitasunagatik',\n",
       " 'argitasunak',\n",
       " 'argitsu',\n",
       " 'argitsuaz',\n",
       " 'argitu',\n",
       " 'argituak',\n",
       " 'argituko',\n",
       " 'argiturik',\n",
       " 'argitzat',\n",
       " 'argitzean',\n",
       " 'argitzeko',\n",
       " 'argitzen',\n",
       " 'argitzera',\n",
       " 'argiz',\n",
       " 'argizko',\n",
       " 'argudio',\n",
       " 'argudioak',\n",
       " 'argudiotan',\n",
       " 'ari',\n",
       " 'ariko',\n",
       " 'arima',\n",
       " 'arin',\n",
       " 'arin-arin',\n",
       " 'arina',\n",
       " 'arinago',\n",
       " 'arinak',\n",
       " 'arindu',\n",
       " 'arinegi',\n",
       " 'arintzeko',\n",
       " 'arintzen',\n",
       " 'aritzea',\n",
       " 'aritzen',\n",
       " 'arkitekto',\n",
       " 'arlokoa',\n",
       " 'armak',\n",
       " 'armarik',\n",
       " 'armaturik',\n",
       " 'armatzat',\n",
       " 'arnasa',\n",
       " 'arnasarik',\n",
       " 'arnasaz',\n",
       " 'aroak',\n",
       " 'arotza',\n",
       " 'arotzaren',\n",
       " 'arrain',\n",
       " 'arrain-hondarrez',\n",
       " 'arrain-pila',\n",
       " 'arraina',\n",
       " 'arrainak',\n",
       " 'arrainaren',\n",
       " 'arrainekin',\n",
       " 'arrainena',\n",
       " 'arrainetariko',\n",
       " 'arraintxo',\n",
       " 'arrano',\n",
       " 'arrano-hego',\n",
       " 'arrantzale',\n",
       " 'arrantzaleak',\n",
       " 'arrantzu-lagun',\n",
       " 'arrantzuagatik',\n",
       " 'arrantzurako',\n",
       " 'arrapaladan',\n",
       " 'arrastaka',\n",
       " 'arrats',\n",
       " 'arratsaldeko',\n",
       " 'arratsaldera',\n",
       " 'arratsean',\n",
       " 'arraunean',\n",
       " 'arrautza',\n",
       " 'arraza',\n",
       " 'arrazoi',\n",
       " 'arrazoia',\n",
       " 'arrazoiak',\n",
       " 'arrazoibide',\n",
       " 'arrazoien',\n",
       " 'arrazoigatik',\n",
       " 'arrazoiketa',\n",
       " 'arrazoirik',\n",
       " 'arrazoiz',\n",
       " 'arreba',\n",
       " 'arrebak',\n",
       " 'arrebaren',\n",
       " 'arrebari',\n",
       " 'arreba—',\n",
       " 'arrebei',\n",
       " 'arren',\n",
       " 'arren—',\n",
       " 'arreta',\n",
       " 'arretarik',\n",
       " 'arretatsuago',\n",
       " 'arretaz',\n",
       " 'arrisku',\n",
       " 'arriskuak',\n",
       " 'arriskuan',\n",
       " 'arriskutan',\n",
       " 'arriskutik',\n",
       " 'arrotz',\n",
       " 'arrotzak',\n",
       " 'arrotzaren',\n",
       " 'arrotzari',\n",
       " 'arrotzek',\n",
       " 'arrotzen',\n",
       " 'arrotzengandik',\n",
       " 'arrotzez',\n",
       " 'arroztuna',\n",
       " 'arruntagoa',\n",
       " 'arruntak',\n",
       " 'artalde',\n",
       " 'artaldea',\n",
       " 'artaldearentzat',\n",
       " 'artaldeari',\n",
       " 'artaldera',\n",
       " 'artaldetxo',\n",
       " 'arte',\n",
       " 'artean',\n",
       " 'artegian',\n",
       " 'artegitik',\n",
       " 'arteko',\n",
       " 'artera',\n",
       " 'artetik',\n",
       " 'artilea',\n",
       " 'artisauei',\n",
       " 'artisauek',\n",
       " 'artisauok',\n",
       " 'artizar',\n",
       " 'artzain',\n",
       " 'artzaina',\n",
       " 'artzainak',\n",
       " 'artzainek',\n",
       " 'artzaintzarako',\n",
       " 'asaldatu',\n",
       " 'asaldaturik',\n",
       " 'asaldatzen',\n",
       " 'ase',\n",
       " 'aseak',\n",
       " 'aseezineko',\n",
       " 'aseko',\n",
       " 'aserik',\n",
       " 'asetzeko',\n",
       " 'asetzen',\n",
       " 'asetzeraino',\n",
       " 'asiar',\n",
       " 'aska',\n",
       " 'askan',\n",
       " 'askapen-egunean',\n",
       " 'askapena',\n",
       " 'askapenari',\n",
       " 'askatasun',\n",
       " 'askatasuna',\n",
       " 'askatasunean',\n",
       " 'askatasunera',\n",
       " 'askatu',\n",
       " 'askatua',\n",
       " 'askatuak',\n",
       " 'askatuko',\n",
       " 'askaturik',\n",
       " 'askatuta',\n",
       " 'askatuz',\n",
       " 'askatzaile',\n",
       " 'askatzea',\n",
       " 'askatzeko',\n",
       " 'askatzekoa',\n",
       " 'askatzen',\n",
       " 'askatzera',\n",
       " 'aske',\n",
       " 'aski',\n",
       " 'asko',\n",
       " 'askogatik',\n",
       " 'askok',\n",
       " 'askora',\n",
       " 'askorekin',\n",
       " 'askoren',\n",
       " 'askorengan',\n",
       " 'askorengana',\n",
       " 'askorengandik',\n",
       " 'askorengatik',\n",
       " 'askori',\n",
       " 'askorik',\n",
       " 'askotakoak',\n",
       " 'askotan',\n",
       " 'askotara',\n",
       " 'askoz',\n",
       " 'asma',\n",
       " 'asmakizuna',\n",
       " 'asmatu',\n",
       " 'asmatzen',\n",
       " 'asmo',\n",
       " 'asmoa',\n",
       " 'asmoak',\n",
       " 'asmoaren',\n",
       " 'asmoari',\n",
       " 'asmoen',\n",
       " 'asmoetatik',\n",
       " 'asmorik',\n",
       " 'asmotan',\n",
       " 'asmoz',\n",
       " 'aspaldi',\n",
       " 'aspaldian',\n",
       " 'aspaldidanik',\n",
       " 'aspaldiko',\n",
       " 'aspalditik',\n",
       " 'aspergarri',\n",
       " 'aspertu',\n",
       " 'aspertuko',\n",
       " 'astakume',\n",
       " 'astakumea',\n",
       " 'astakumeari',\n",
       " 'astea',\n",
       " 'astebete',\n",
       " 'astebetez',\n",
       " 'asteko',\n",
       " 'asteme',\n",
       " 'astia',\n",
       " 'astin',\n",
       " 'astinaldi',\n",
       " ...]"
      ]
     },
     "execution_count": 42,
     "metadata": {},
     "output_type": "execute_result"
    }
   ],
   "source": [
    "words"
   ]
  },
  {
   "cell_type": "code",
   "execution_count": 43,
   "metadata": {},
   "outputs": [
    {
     "data": {
      "text/plain": [
       "[('suffix', 'ak'), ('suffix', ''), 'aberastu']"
      ]
     },
     "execution_count": 43,
     "metadata": {},
     "output_type": "execute_result"
    }
   ],
   "source": [
    "parse_word('aberastuak', derived)"
   ]
  },
  {
   "cell_type": "code",
   "execution_count": 44,
   "metadata": {},
   "outputs": [
    {
     "name": "stdout",
     "output_type": "stream",
     "text": [
      "set()\n"
     ]
    }
   ],
   "source": [
    "print(families['aberastu'])"
   ]
  },
  {
   "cell_type": "code",
   "execution_count": 48,
   "metadata": {},
   "outputs": [
    {
     "data": {
      "text/plain": [
       "[('suffix', 'ko'), ('suffix', ''), 'adierazte']"
      ]
     },
     "execution_count": 48,
     "metadata": {},
     "output_type": "execute_result"
    }
   ],
   "source": [
    "parse_word('adierazteko', derived)"
   ]
  },
  {
   "cell_type": "code",
   "execution_count": 46,
   "metadata": {},
   "outputs": [
    {
     "data": {
      "text/plain": [
       "[('suffix', 'aren'), ('suffix', ''), 'aberats']"
      ]
     },
     "execution_count": 46,
     "metadata": {},
     "output_type": "execute_result"
    }
   ],
   "source": [
    "parse_word('aberatsaren', derived)"
   ]
  },
  {
   "cell_type": "code",
   "execution_count": 47,
   "metadata": {},
   "outputs": [
    {
     "data": {
      "text/plain": [
       "[('suffix', 'ari'), ('suffix', ''), 'adierazte']"
      ]
     },
     "execution_count": 47,
     "metadata": {},
     "output_type": "execute_result"
    }
   ],
   "source": [
    "parse_word('adierazteari', derived)"
   ]
  },
  {
   "cell_type": "markdown",
   "metadata": {
    "deletable": false,
    "nbgrader": {
     "checksum": "77d7f210f2b840c17a2677c17906126c",
     "grade": true,
     "grade_id": "cell-2793f0fd5bb68d8e",
     "locked": false,
     "points": 6,
     "schema_version": 1,
     "solution": true
    }
   },
   "source": [
    "The language I am assigned to analyze is Basque. After collecting from the txt file, the word I choose from  `words` is `'aberastuak'`. When I parse it into affixes and stem, the result shows it contains an empty suffix `''` and a suffix `'ak'`. And the stem here is `'aberastu'`. \n",
    "\n",
    "When I check from the google translate, both the word `'aberastuak'` and the stem `'aberastu'` are translated to be the verb `'enriched'` in English. So my first observation here is the suffix `-ak` doesn't change the tense of the verb. From Wikipedia, we know there are three arguments that are relate to verbs of Basque, which are subject, direct object and indirect object. And the `-ak` only show up in absolutive and ergative cases, corresponding to the finding we have for the verb.\n",
    "\n",
    "When I translate from `'enrich'` as a possible stem from English, the word in Basque becomes `'aberastu'`, with the origal Basque word `'aberastuak'` to be one of the derivations (Google Translate). As a result, we can use machine translation bidirectionally between English and Basque, with a certain level of limitation by further research to find out.\n",
    "\n",
    "Similarly, I try `-ko` within the word `'adierazteko'`. According to Wikipedia, the suffix here functions as the case forms to the word adjective. For the suffix `-aren` within the word `'aberatsaren'`, it is one of the possesive genitive in the language. For the suffix `-ari` within the word `'adierazteari'`, it is the dative suffix case in the language.\n",
    "\n",
    "In conclusion, I found most of the suffixes from the `derived` dictionary are consistent with the `parsed_word` and the explanation from the Wikipedia page of Basque grammar.\n",
    "\n"
   ]
  },
  {
   "cell_type": "code",
   "execution_count": null,
   "metadata": {},
   "outputs": [],
   "source": []
  }
 ],
 "metadata": {
  "kernelspec": {
   "display_name": "Python 3",
   "language": "python",
   "name": "python3"
  },
  "language_info": {
   "codemirror_mode": {
    "name": "ipython",
    "version": 3
   },
   "file_extension": ".py",
   "mimetype": "text/x-python",
   "name": "python",
   "nbconvert_exporter": "python",
   "pygments_lexer": "ipython3",
   "version": "3.7.3"
  }
 },
 "nbformat": 4,
 "nbformat_minor": 2
}
